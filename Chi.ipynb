{
 "cells": [
  {
   "cell_type": "markdown",
   "metadata": {
    "id": "rI0iWbQvw_rF"
   },
   "source": [
    "# Summary:\n"
   ]
  },
  {
   "cell_type": "code",
   "execution_count": 88,
   "metadata": {
    "colab": {
     "base_uri": "https://localhost:8080/",
     "height": 520
    },
    "id": "p2whAB45gSHz",
    "outputId": "3cbc9ebd-73ea-4496-dc51-7e7b4de8419d"
   },
   "outputs": [
    {
     "data": {
      "text/html": [
       "<div>\n",
       "<style scoped>\n",
       "    .dataframe tbody tr th:only-of-type {\n",
       "        vertical-align: middle;\n",
       "    }\n",
       "\n",
       "    .dataframe tbody tr th {\n",
       "        vertical-align: top;\n",
       "    }\n",
       "\n",
       "    .dataframe thead th {\n",
       "        text-align: right;\n",
       "    }\n",
       "</style>\n",
       "<table border=\"1\" class=\"dataframe\">\n",
       "  <thead>\n",
       "    <tr style=\"text-align: right;\">\n",
       "      <th></th>\n",
       "      <th>NB-NB</th>\n",
       "      <th>NB-CB</th>\n",
       "      <th>NB-SB</th>\n",
       "      <th>CB-NB</th>\n",
       "      <th>CB-CB</th>\n",
       "      <th>CB-SB</th>\n",
       "      <th>SB-NB</th>\n",
       "      <th>SB-CB</th>\n",
       "      <th>SB-SB</th>\n",
       "    </tr>\n",
       "  </thead>\n",
       "  <tbody>\n",
       "    <tr>\n",
       "      <th>RF</th>\n",
       "      <td>0.333</td>\n",
       "      <td>0.426</td>\n",
       "      <td>0.324</td>\n",
       "      <td>0.326</td>\n",
       "      <td>0.359</td>\n",
       "      <td>0.317</td>\n",
       "      <td>0.367</td>\n",
       "      <td>0.463</td>\n",
       "      <td>0.311</td>\n",
       "    </tr>\n",
       "    <tr>\n",
       "      <th>RF-FA</th>\n",
       "      <td>0.332</td>\n",
       "      <td>0.363</td>\n",
       "      <td>0.304</td>\n",
       "      <td>0.319</td>\n",
       "      <td>0.426</td>\n",
       "      <td>0.303</td>\n",
       "      <td>0.319</td>\n",
       "      <td>0.366</td>\n",
       "      <td>0.308</td>\n",
       "    </tr>\n",
       "    <tr>\n",
       "      <th>RF-BW</th>\n",
       "      <td>0.321</td>\n",
       "      <td>0.389</td>\n",
       "      <td>0.309</td>\n",
       "      <td>0.313</td>\n",
       "      <td>0.368</td>\n",
       "      <td>0.300</td>\n",
       "      <td>0.333</td>\n",
       "      <td>0.426</td>\n",
       "      <td>0.308</td>\n",
       "    </tr>\n",
       "    <tr>\n",
       "      <th>RF-CORAL</th>\n",
       "      <td>0.360</td>\n",
       "      <td>0.476</td>\n",
       "      <td>0.331</td>\n",
       "      <td>0.329</td>\n",
       "      <td>0.354</td>\n",
       "      <td>0.328</td>\n",
       "      <td>0.367</td>\n",
       "      <td>0.480</td>\n",
       "      <td>0.319</td>\n",
       "    </tr>\n",
       "    <tr>\n",
       "      <th>RF-SA</th>\n",
       "      <td>0.353</td>\n",
       "      <td>0.455</td>\n",
       "      <td>0.333</td>\n",
       "      <td>0.325</td>\n",
       "      <td>0.354</td>\n",
       "      <td>0.308</td>\n",
       "      <td>0.353</td>\n",
       "      <td>0.442</td>\n",
       "      <td>0.313</td>\n",
       "    </tr>\n",
       "    <tr>\n",
       "      <th>XG</th>\n",
       "      <td>0.341</td>\n",
       "      <td>0.436</td>\n",
       "      <td>0.361</td>\n",
       "      <td>0.350</td>\n",
       "      <td>0.402</td>\n",
       "      <td>0.353</td>\n",
       "      <td>0.419</td>\n",
       "      <td>0.510</td>\n",
       "      <td>0.353</td>\n",
       "    </tr>\n",
       "    <tr>\n",
       "      <th>XG-FA</th>\n",
       "      <td>0.356</td>\n",
       "      <td>0.376</td>\n",
       "      <td>0.330</td>\n",
       "      <td>0.327</td>\n",
       "      <td>0.442</td>\n",
       "      <td>0.333</td>\n",
       "      <td>0.328</td>\n",
       "      <td>0.407</td>\n",
       "      <td>0.334</td>\n",
       "    </tr>\n",
       "    <tr>\n",
       "      <th>XG-BW</th>\n",
       "      <td>0.341</td>\n",
       "      <td>0.401</td>\n",
       "      <td>0.336</td>\n",
       "      <td>0.343</td>\n",
       "      <td>0.384</td>\n",
       "      <td>0.342</td>\n",
       "      <td>0.348</td>\n",
       "      <td>0.449</td>\n",
       "      <td>0.335</td>\n",
       "    </tr>\n",
       "    <tr>\n",
       "      <th>XG-CORAL</th>\n",
       "      <td>0.378</td>\n",
       "      <td>0.468</td>\n",
       "      <td>0.358</td>\n",
       "      <td>0.359</td>\n",
       "      <td>0.395</td>\n",
       "      <td>0.352</td>\n",
       "      <td>0.424</td>\n",
       "      <td>0.513</td>\n",
       "      <td>0.355</td>\n",
       "    </tr>\n",
       "    <tr>\n",
       "      <th>XG-SA</th>\n",
       "      <td>0.372</td>\n",
       "      <td>0.456</td>\n",
       "      <td>0.362</td>\n",
       "      <td>0.366</td>\n",
       "      <td>0.393</td>\n",
       "      <td>0.344</td>\n",
       "      <td>0.372</td>\n",
       "      <td>0.473</td>\n",
       "      <td>0.341</td>\n",
       "    </tr>\n",
       "    <tr>\n",
       "      <th>TN</th>\n",
       "      <td>0.364</td>\n",
       "      <td>0.443</td>\n",
       "      <td>0.325</td>\n",
       "      <td>0.334</td>\n",
       "      <td>0.358</td>\n",
       "      <td>0.319</td>\n",
       "      <td>0.386</td>\n",
       "      <td>0.471</td>\n",
       "      <td>0.331</td>\n",
       "    </tr>\n",
       "    <tr>\n",
       "      <th>TN-FA</th>\n",
       "      <td>0.354</td>\n",
       "      <td>0.420</td>\n",
       "      <td>0.322</td>\n",
       "      <td>0.346</td>\n",
       "      <td>0.368</td>\n",
       "      <td>0.333</td>\n",
       "      <td>0.371</td>\n",
       "      <td>0.400</td>\n",
       "      <td>0.313</td>\n",
       "    </tr>\n",
       "    <tr>\n",
       "      <th>TN-BW</th>\n",
       "      <td>0.352</td>\n",
       "      <td>0.397</td>\n",
       "      <td>0.353</td>\n",
       "      <td>0.337</td>\n",
       "      <td>0.384</td>\n",
       "      <td>0.316</td>\n",
       "      <td>0.380</td>\n",
       "      <td>0.391</td>\n",
       "      <td>0.320</td>\n",
       "    </tr>\n",
       "    <tr>\n",
       "      <th>TN-CORAL</th>\n",
       "      <td>0.349</td>\n",
       "      <td>0.451</td>\n",
       "      <td>0.320</td>\n",
       "      <td>0.348</td>\n",
       "      <td>0.369</td>\n",
       "      <td>0.323</td>\n",
       "      <td>0.386</td>\n",
       "      <td>0.465</td>\n",
       "      <td>0.327</td>\n",
       "    </tr>\n",
       "    <tr>\n",
       "      <th>TN-SA</th>\n",
       "      <td>0.337</td>\n",
       "      <td>0.421</td>\n",
       "      <td>0.326</td>\n",
       "      <td>0.333</td>\n",
       "      <td>0.354</td>\n",
       "      <td>0.332</td>\n",
       "      <td>0.368</td>\n",
       "      <td>0.425</td>\n",
       "      <td>0.319</td>\n",
       "    </tr>\n",
       "    <tr>\n",
       "      <th>GR</th>\n",
       "      <td>-1.000</td>\n",
       "      <td>-1.000</td>\n",
       "      <td>-1.000</td>\n",
       "      <td>-1.000</td>\n",
       "      <td>-1.000</td>\n",
       "      <td>-1.000</td>\n",
       "      <td>-1.000</td>\n",
       "      <td>-1.000</td>\n",
       "      <td>-1.000</td>\n",
       "    </tr>\n",
       "  </tbody>\n",
       "</table>\n",
       "</div>"
      ],
      "text/plain": [
       "          NB-NB  NB-CB  NB-SB  CB-NB  CB-CB  CB-SB  SB-NB  SB-CB  SB-SB\n",
       "RF        0.333  0.426  0.324  0.326  0.359  0.317  0.367  0.463  0.311\n",
       "RF-FA     0.332  0.363  0.304  0.319  0.426  0.303  0.319  0.366  0.308\n",
       "RF-BW     0.321  0.389  0.309  0.313  0.368  0.300  0.333  0.426  0.308\n",
       "RF-CORAL  0.360  0.476  0.331  0.329  0.354  0.328  0.367  0.480  0.319\n",
       "RF-SA     0.353  0.455  0.333  0.325  0.354  0.308  0.353  0.442  0.313\n",
       "XG        0.341  0.436  0.361  0.350  0.402  0.353  0.419  0.510  0.353\n",
       "XG-FA     0.356  0.376  0.330  0.327  0.442  0.333  0.328  0.407  0.334\n",
       "XG-BW     0.341  0.401  0.336  0.343  0.384  0.342  0.348  0.449  0.335\n",
       "XG-CORAL  0.378  0.468  0.358  0.359  0.395  0.352  0.424  0.513  0.355\n",
       "XG-SA     0.372  0.456  0.362  0.366  0.393  0.344  0.372  0.473  0.341\n",
       "TN        0.364  0.443  0.325  0.334  0.358  0.319  0.386  0.471  0.331\n",
       "TN-FA     0.354  0.420  0.322  0.346  0.368  0.333  0.371  0.400  0.313\n",
       "TN-BW     0.352  0.397  0.353  0.337  0.384  0.316  0.380  0.391  0.320\n",
       "TN-CORAL  0.349  0.451  0.320  0.348  0.369  0.323  0.386  0.465  0.327\n",
       "TN-SA     0.337  0.421  0.326  0.333  0.354  0.332  0.368  0.425  0.319\n",
       "GR       -1.000 -1.000 -1.000 -1.000 -1.000 -1.000 -1.000 -1.000 -1.000"
      ]
     },
     "execution_count": 88,
     "metadata": {},
     "output_type": "execute_result"
    }
   ],
   "source": [
    "df = pd.DataFrame(results).T\n",
    "df.to_csv('./run0-chi.csv')\n",
    "np.array(df)\n",
    "df"
   ]
  },
  {
   "cell_type": "code",
   "execution_count": 2,
   "metadata": {},
   "outputs": [],
   "source": [
    "# RF = [0.336, 0.426, 0.322, 0.325, 0.358, 0.316, 0.369, 0.460, 0.312]\n",
    "# RF_FA = [0.327, 0.343, 0.318, 0.332, 0.397, 0.319, 0.339, 0.344, 0.314]\n",
    "# RF_BW = [0.320, 0.383, 0.315, 0.314, 0.355, 0.300, 0.343, 0.401, 0.302]\n",
    "# RF_CORAL = [0.357, 0.473, 0.328, 0.326, 0.359, 0.323, 0.369, 0.477, 0.319]\n",
    "# RF_SA = [0.354, 0.456, 0.333, 0.326, 0.355, 0.308, 0.354, 0.443, 0.313]\n",
    "# XG = [0.341, 0.436, 0.361, 0.350, 0.402, 0.353, 0.419, 0.510, 0.353]\n",
    "# XG_FA = [0.344, 0.394, 0.340, 0.332, 0.394, 0.346, 0.336, 0.368, 0.330]\n",
    "# XG_BW = [0.336, 0.404, 0.336, 0.343, 0.382, 0.323, 0.355, 0.445, 0.330]\n",
    "# XG_CORAL = [0.378, 0.468, 0.358, 0.359, 0.395, 0.352, 0.424, 0.513, 0.355]\n",
    "# XG_SA = [0.372, 0.456, 0.362, 0.366, 0.393, 0.344, 0.372, 0.473, 0.341]\n",
    "# TN = [0.364, 0.443, 0.325, 0.334, 0.358, 0.319, 0.386, 0.471, 0.331]\n",
    "# TN_FA = [0.362, 0.438, 0.323, 0.337, 0.371, 0.313, 0.362, 0.400, 0.325]\n",
    "# TN_BW = [0.362, 0.392, 0.343, 0.363, 0.415, 0.321, 0.391, 0.432, 0.333]\n",
    "# TN_CORAL = [0.349, 0.451, 0.320, 0.348, 0.369, 0.323, 0.386, 0.465, 0.327]\n",
    "# TN_SA = [0.337, 0.421, 0.326, 0.333, 0.354, 0.332, 0.368, 0.425, 0.319]\n",
    "# LL = [0.360, 0.390, 0.350, 0.353, 0.383, 0.344, 0.364, 0.386, 0.360]\n",
    "# LL_FA = [0.334, 0.384, 0.319, 0.340, 0.377, 0.341, 0.347, 0.391, 0.325]\n",
    "# print('&'.join([str(i) for i in TN]))\n",
    "# def tolatx(ref, obj):\n",
    "#     res = ''\n",
    "#     for i,j in zip(ref,obj):\n",
    "#         a = min(int(max(0, i-j)*10000),100)\n",
    "#         if a != 0:\n",
    "#             a = max(a,20)\n",
    "#         b = '\\dec{'+str(a)+'}{'+r44(j)+'}&'\n",
    "#         res += b\n",
    "#     return res[:-1]\n",
    "# print(tolatx(TN, TN_SA))"
   ]
  },
  {
   "cell_type": "markdown",
   "metadata": {
    "id": "H2wJGe7VjkER"
   },
   "source": [
    "#Libraries"
   ]
  },
  {
   "cell_type": "code",
   "execution_count": 3,
   "metadata": {
    "id": "dFZh_IGEjjQX"
   },
   "outputs": [],
   "source": [
    "import numpy as np\n",
    "import pandas as pd\n",
    "import matplotlib.pyplot as plt\n",
    "from sklearn.model_selection import RandomizedSearchCV\n",
    "from sklearn.model_selection import train_test_split\n",
    "from sklearn.metrics import mean_absolute_error\n",
    "from sklearn.metrics import mean_squared_error\n",
    "from sklearn.model_selection import train_test_split\n",
    "from sklearn.metrics import r2_score\n",
    "from sklearn.metrics import make_scorer\n",
    "from sklearn.preprocessing import LabelEncoder\n",
    "from sklearn.preprocessing import MinMaxScaler\n",
    "from sklearn.model_selection import KFold\n",
    "from tqdm import tqdm\n",
    "import pickle"
   ]
  },
  {
   "cell_type": "code",
   "execution_count": 4,
   "metadata": {
    "id": "r8YdXBLViqPF"
   },
   "outputs": [],
   "source": [
    "pd.options.display.max_rows = None"
   ]
  },
  {
   "cell_type": "code",
   "execution_count": 5,
   "metadata": {
    "colab": {
     "base_uri": "https://localhost:8080/"
    },
    "id": "ojdF25UxeiR2",
    "outputId": "84ecd2f1-37cc-4db5-c268-1448298a9a89"
   },
   "outputs": [
    {
     "name": "stdout",
     "output_type": "stream",
     "text": [
      "          NB-NB  NB-CB  NB-SB  CB-NB  CB-CB  CB-SB  SB-NB  SB-CB  SB-SB\n",
      "RF           -1     -1     -1     -1     -1     -1     -1     -1     -1\n",
      "RF-FA        -1     -1     -1     -1     -1     -1     -1     -1     -1\n",
      "RF-BW        -1     -1     -1     -1     -1     -1     -1     -1     -1\n",
      "RF-CORAL     -1     -1     -1     -1     -1     -1     -1     -1     -1\n",
      "RF-SA        -1     -1     -1     -1     -1     -1     -1     -1     -1\n",
      "XG           -1     -1     -1     -1     -1     -1     -1     -1     -1\n",
      "XG-FA        -1     -1     -1     -1     -1     -1     -1     -1     -1\n",
      "XG-BW        -1     -1     -1     -1     -1     -1     -1     -1     -1\n",
      "XG-CORAL     -1     -1     -1     -1     -1     -1     -1     -1     -1\n",
      "XG-SA        -1     -1     -1     -1     -1     -1     -1     -1     -1\n",
      "TN           -1     -1     -1     -1     -1     -1     -1     -1     -1\n",
      "TN-FA        -1     -1     -1     -1     -1     -1     -1     -1     -1\n",
      "TN-BW        -1     -1     -1     -1     -1     -1     -1     -1     -1\n",
      "TN-CORAL     -1     -1     -1     -1     -1     -1     -1     -1     -1\n",
      "TN-SA        -1     -1     -1     -1     -1     -1     -1     -1     -1\n",
      "GR           -1     -1     -1     -1     -1     -1     -1     -1     -1\n"
     ]
    }
   ],
   "source": [
    "results = {\n",
    "    'RF': { 'NB-NB': -1,'NB-CB': -1,'NB-SB': -1, 'CB-NB': -1,'CB-CB': -1,'CB-SB': -1,'SB-NB': -1,'SB-CB': -1,'SB-SB': -1},\n",
    "    'RF-FA': {'NB-NB': -1,'NB-CB': -1,'NB-SB': -1, 'CB-NB': -1,'CB-CB': -1,'CB-SB': -1,'SB-NB': -1,'SB-CB': -1,'SB-SB': -1},\n",
    "    'RF-BW': {'NB-NB': -1,'NB-CB': -1,'NB-SB': -1, 'CB-NB': -1,'CB-CB': -1,'CB-SB': -1,'SB-NB': -1,'SB-CB': -1,'SB-SB': -1},\n",
    "    'RF-CORAL': {'NB-NB': -1,'NB-CB': -1,'NB-SB': -1, 'CB-NB': -1,'CB-CB': -1,'CB-SB': -1,'SB-NB': -1,'SB-CB': -1,'SB-SB': -1},\n",
    "    'RF-SA': {'NB-NB': -1,'NB-CB': -1,'NB-SB': -1, 'CB-NB': -1,'CB-CB': -1,'CB-SB': -1,'SB-NB': -1,'SB-CB': -1,'SB-SB': -1},\n",
    "    'XG': {'NB-NB': -1,'NB-CB': -1,'NB-SB': -1, 'CB-NB': -1,'CB-CB': -1,'CB-SB': -1,'SB-NB': -1,'SB-CB': -1,'SB-SB': -1},\n",
    "    'XG-FA': {'NB-NB': -1,'NB-CB': -1,'NB-SB': -1, 'CB-NB': -1,'CB-CB': -1,'CB-SB': -1,'SB-NB': -1,'SB-CB': -1,'SB-SB': -1},\n",
    "    'XG-BW': {'NB-NB': -1,'NB-CB': -1,'NB-SB': -1, 'CB-NB': -1,'CB-CB': -1,'CB-SB': -1,'SB-NB': -1,'SB-CB': -1,'SB-SB': -1},\n",
    "    'XG-CORAL': {'NB-NB': -1,'NB-CB': -1,'NB-SB': -1, 'CB-NB': -1,'CB-CB': -1,'CB-SB': -1,'SB-NB': -1,'SB-CB': -1,'SB-SB': -1},\n",
    "    'XG-SA': {'NB-NB': -1,'NB-CB': -1,'NB-SB': -1, 'CB-NB': -1,'CB-CB': -1,'CB-SB': -1,'SB-NB': -1,'SB-CB': -1,'SB-SB': -1},\n",
    "    'TN': {'NB-NB': -1,'NB-CB': -1,'NB-SB': -1, 'CB-NB': -1,'CB-CB': -1,'CB-SB': -1,'SB-NB': -1,'SB-CB': -1,'SB-SB': -1},\n",
    "    'TN-FA': {'NB-NB': -1,'NB-CB': -1,'NB-SB': -1, 'CB-NB': -1,'CB-CB': -1,'CB-SB': -1,'SB-NB': -1,'SB-CB': -1,'SB-SB': -1},\n",
    "    'TN-BW': {'NB-NB': -1,'NB-CB': -1,'NB-SB': -1, 'CB-NB': -1,'CB-CB': -1,'CB-SB': -1,'SB-NB': -1,'SB-CB': -1,'SB-SB': -1},\n",
    "    'TN-CORAL': {'NB-NB': -1,'NB-CB': -1,'NB-SB': -1, 'CB-NB': -1,'CB-CB': -1,'CB-SB': -1,'SB-NB': -1,'SB-CB': -1,'SB-SB': -1},\n",
    "    'TN-SA': {'NB-NB': -1,'NB-CB': -1,'NB-SB': -1, 'CB-NB': -1,'CB-CB': -1,'CB-SB': -1,'SB-NB': -1,'SB-CB': -1,'SB-SB': -1},\n",
    "    'GR': {'NB-NB': -1,'NB-CB': -1,'NB-SB': -1, 'CB-NB': -1,'CB-CB': -1,'CB-SB': -1,'SB-NB': -1,'SB-CB': -1,'SB-SB': -1},\n",
    "}\n",
    "\n",
    "def stid(source_name, target_name):\n",
    "  return source_name[0:2] + '-' + target_name[0:2]\n",
    "\n",
    "df = pd.DataFrame(results).T\n",
    "print(df)"
   ]
  },
  {
   "cell_type": "code",
   "execution_count": 6,
   "metadata": {
    "id": "YMqg_l27kjWt"
   },
   "outputs": [],
   "source": [
    "def RRMSE(y_test, y_pred, plotter = True):\n",
    "    plotter = False\n",
    "    if plotter:\n",
    "        plt.scatter(y_pred, y_test, s = 3, color = 'purple')\n",
    "        plt.plot(y_test, y_test, color = 'green', alpha=0.3)\n",
    "        plt.xlabel('Predictions')\n",
    "        plt.ylabel('Actual')\n",
    "        plt.show()\n",
    "    return np.sqrt(mean_squared_error(y_test, y_pred))/np.mean(y_test)\n",
    "\n",
    "##np.sqrt(1/len(t) * np.sum(np.square((t - p) / p)))\n",
    "my_rrmse = make_scorer(RRMSE, greater_is_better=False)\n",
    "\n",
    "def r44(value): return f\"{round(value, 3):.3f}\"\n",
    "\n",
    "def r55(value): return f\"{round(value, 4):.4f}\""
   ]
  },
  {
   "cell_type": "code",
   "execution_count": 7,
   "metadata": {},
   "outputs": [],
   "source": [
    "def get_RF_model(XX, YY):\n",
    "    rf = RandomForestRegressor()\n",
    "    max_depth = [int(x) for x in np.linspace(10, 110, num = 15)]\n",
    "    max_depth.append(None)\n",
    "    random_grid = {'n_estimators': [int(x) for x in np.linspace(start = 400, stop = 2000, num = 25)],\n",
    "               'max_features': ['sqrt', 'log2', None],\n",
    "               'max_depth': max_depth,\n",
    "               'min_samples_split': [2, 5, 10, 15, 20],\n",
    "               'min_samples_leaf': [1, 2, 3, 4, 7],\n",
    "               'bootstrap': [True, False]\n",
    "\n",
    "    }\n",
    "\n",
    "    rf_random = RandomizedSearchCV(estimator = rf, scoring=my_rrmse,\n",
    "                                 param_distributions = random_grid, n_iter = 85,\n",
    "                                 cv = 3, verbose=1, random_state=42, n_jobs = -1)\n",
    "    rf_random.fit(XX, YY)\n",
    "    print(rf_random.best_params_)\n",
    "    return RandomForestRegressor(n_estimators=rf_random.best_params_['n_estimators'],\n",
    "                               max_features=rf_random.best_params_['max_features'],\n",
    "                               max_depth=rf_random.best_params_['max_depth'],\n",
    "                               min_samples_split=rf_random.best_params_['min_samples_split'],\n",
    "                               min_samples_leaf=rf_random.best_params_['min_samples_leaf'],\n",
    "                               bootstrap=rf_random.best_params_['bootstrap']), rf_random.best_params_"
   ]
  },
  {
   "cell_type": "code",
   "execution_count": 8,
   "metadata": {
    "id": "eC7oJ01AVPPq"
   },
   "outputs": [],
   "source": [
    "def stat_significance_trainer_tester(model, X_train, y_train, X_test, y_test, target_train, target_test, source_name, target_name, model_name, plotter = False, reporter =True):\n",
    "\n",
    "    source_rrmse, target_rrmse = [], []\n",
    "    kf = KFold(n_splits=4, random_state=None, shuffle=False)\n",
    "    for i, (train_index, test_index) in enumerate(kf.split(X_train)):\n",
    "        model.fit(X_train[train_index], y_train[train_index])\n",
    "        src_model_src_test_pred = model.predict(X_test)\n",
    "        src_model_target_test_pred = model.predict(target_train)\n",
    "        source_rrmse.append(RRMSE(y_test, src_model_src_test_pred, plotter))\n",
    "        target_rrmse.append(RRMSE(target_test, src_model_target_test_pred, plotter))\n",
    "\n",
    "    model.fit(X_train, y_train)\n",
    "    src_model_src_test_pred = model.predict(X_test)\n",
    "    src_model_target_test_pred = model.predict(target_train)\n",
    "\n",
    "    source_rrmse.append(RRMSE(y_test, src_model_src_test_pred))\n",
    "    target_rrmse.append(RRMSE(target_test, src_model_target_test_pred))\n",
    "    \n",
    "    if results[model_name][stid(source_name, source_name)] != -1:\n",
    "        results[model_name][stid(source_name, source_name)] = min(round(np.mean(source_rrmse),3), results[model_name][stid(source_name, source_name)])\n",
    "    else:\n",
    "        results[model_name][stid(source_name, source_name)] = round(np.mean(source_rrmse),3)\n",
    "    \n",
    "    results[model_name][stid(source_name, target_name)] = round(np.mean(target_rrmse),3)\n",
    "\n",
    "    if reporter:\n",
    "      print('----' + model_name + '----')\n",
    "      print(source_name + ' Model:')\n",
    "      print(source_name + ' test data:\\t\\t ', round(RRMSE(y_test, src_model_src_test_pred),3), 'Stat Significance Test (mean, STD)', round(np.mean(source_rrmse),3), '('+str(round(np.std(source_rrmse),4))+')')\n",
    "      print(target_name + ' test data (Transfered):', round(RRMSE(target_test, src_model_target_test_pred),3), 'Stat Significance Test (mean, STD)', round(np.mean(target_rrmse),3), '('+str(round(np.std(target_rrmse),4))+')')\n",
    "\n",
    "    return [round(np.mean(source_rrmse),3), round(np.std(source_rrmse),4)], [round(np.mean(target_rrmse),3), round(np.std(target_rrmse),4)]"
   ]
  },
  {
   "cell_type": "markdown",
   "metadata": {
    "id": "-MEzoyo8ksXO"
   },
   "source": [
    "# Dataset"
   ]
  },
  {
   "cell_type": "markdown",
   "metadata": {
    "id": "rMF0pkKHwyjw"
   },
   "source": [
    "making two datasets similar"
   ]
  },
  {
   "cell_type": "code",
   "execution_count": 9,
   "metadata": {
    "colab": {
     "base_uri": "https://localhost:8080/",
     "height": 351
    },
    "id": "jcjwBaoLmipU",
    "outputId": "7c4e7ad6-7999-4ca5-889f-1f5d574e6558"
   },
   "outputs": [
    {
     "data": {
      "text/html": [
       "<div>\n",
       "<style scoped>\n",
       "    .dataframe tbody tr th:only-of-type {\n",
       "        vertical-align: middle;\n",
       "    }\n",
       "\n",
       "    .dataframe tbody tr th {\n",
       "        vertical-align: top;\n",
       "    }\n",
       "\n",
       "    .dataframe thead th {\n",
       "        text-align: right;\n",
       "    }\n",
       "</style>\n",
       "<table border=\"1\" class=\"dataframe\">\n",
       "  <thead>\n",
       "    <tr style=\"text-align: right;\">\n",
       "      <th></th>\n",
       "      <th>year</th>\n",
       "      <th>logENT</th>\n",
       "      <th>tide</th>\n",
       "      <th>tide_gtm</th>\n",
       "      <th>dtide_1</th>\n",
       "      <th>dtide_2</th>\n",
       "      <th>PrecipSum6</th>\n",
       "      <th>Precip24</th>\n",
       "      <th>lograin3T</th>\n",
       "      <th>wet3</th>\n",
       "      <th>lograin7T</th>\n",
       "      <th>wet7</th>\n",
       "      <th>WVHT</th>\n",
       "      <th>Wtemp_B</th>\n",
       "      <th>rad</th>\n",
       "      <th>awind</th>\n",
       "      <th>owind</th>\n",
       "      <th>turbidity</th>\n",
       "      <th>comment</th>\n",
       "      <th>doy</th>\n",
       "    </tr>\n",
       "  </thead>\n",
       "  <tbody>\n",
       "    <tr>\n",
       "      <th>count</th>\n",
       "      <td>10014.000000</td>\n",
       "      <td>10014.000000</td>\n",
       "      <td>9434.000000</td>\n",
       "      <td>9434.000000</td>\n",
       "      <td>9434.000000</td>\n",
       "      <td>9434.000000</td>\n",
       "      <td>9790.000000</td>\n",
       "      <td>9549.000000</td>\n",
       "      <td>8918.000000</td>\n",
       "      <td>8918.000000</td>\n",
       "      <td>7867.000000</td>\n",
       "      <td>7867.00000</td>\n",
       "      <td>5346.000000</td>\n",
       "      <td>7105.000000</td>\n",
       "      <td>6234.000000</td>\n",
       "      <td>7561.000000</td>\n",
       "      <td>7561.000000</td>\n",
       "      <td>7931.000000</td>\n",
       "      <td>7931.000000</td>\n",
       "      <td>10014.000000</td>\n",
       "    </tr>\n",
       "    <tr>\n",
       "      <th>mean</th>\n",
       "      <td>2019.186339</td>\n",
       "      <td>2.080701</td>\n",
       "      <td>177.061424</td>\n",
       "      <td>0.531058</td>\n",
       "      <td>0.001263</td>\n",
       "      <td>0.001127</td>\n",
       "      <td>0.026574</td>\n",
       "      <td>0.115682</td>\n",
       "      <td>-1.708177</td>\n",
       "      <td>0.502848</td>\n",
       "      <td>-0.553355</td>\n",
       "      <td>0.83310</td>\n",
       "      <td>0.260896</td>\n",
       "      <td>20.843561</td>\n",
       "      <td>351.164261</td>\n",
       "      <td>-0.128540</td>\n",
       "      <td>-0.724754</td>\n",
       "      <td>3.483087</td>\n",
       "      <td>0.131751</td>\n",
       "      <td>195.557619</td>\n",
       "    </tr>\n",
       "    <tr>\n",
       "      <th>std</th>\n",
       "      <td>1.990949</td>\n",
       "      <td>0.649984</td>\n",
       "      <td>0.190851</td>\n",
       "      <td>0.499061</td>\n",
       "      <td>0.078207</td>\n",
       "      <td>0.083262</td>\n",
       "      <td>0.134799</td>\n",
       "      <td>0.290864</td>\n",
       "      <td>1.674389</td>\n",
       "      <td>0.498058</td>\n",
       "      <td>1.143453</td>\n",
       "      <td>0.37091</td>\n",
       "      <td>0.219719</td>\n",
       "      <td>2.882013</td>\n",
       "      <td>252.721353</td>\n",
       "      <td>3.020049</td>\n",
       "      <td>3.151064</td>\n",
       "      <td>4.375671</td>\n",
       "      <td>0.297517</td>\n",
       "      <td>29.703664</td>\n",
       "    </tr>\n",
       "    <tr>\n",
       "      <th>min</th>\n",
       "      <td>2016.000000</td>\n",
       "      <td>1.000000</td>\n",
       "      <td>176.646840</td>\n",
       "      <td>0.000000</td>\n",
       "      <td>-0.344424</td>\n",
       "      <td>-0.323088</td>\n",
       "      <td>0.000000</td>\n",
       "      <td>0.000000</td>\n",
       "      <td>-4.000000</td>\n",
       "      <td>0.000000</td>\n",
       "      <td>-4.000000</td>\n",
       "      <td>0.00000</td>\n",
       "      <td>0.010000</td>\n",
       "      <td>12.400000</td>\n",
       "      <td>0.000000</td>\n",
       "      <td>-21.570398</td>\n",
       "      <td>-19.967320</td>\n",
       "      <td>-1.055000</td>\n",
       "      <td>0.000000</td>\n",
       "      <td>144.000000</td>\n",
       "    </tr>\n",
       "    <tr>\n",
       "      <th>25%</th>\n",
       "      <td>2017.000000</td>\n",
       "      <td>1.618048</td>\n",
       "      <td>176.921160</td>\n",
       "      <td>0.000000</td>\n",
       "      <td>-0.042672</td>\n",
       "      <td>-0.054864</td>\n",
       "      <td>0.000000</td>\n",
       "      <td>0.000000</td>\n",
       "      <td>-4.000000</td>\n",
       "      <td>0.000000</td>\n",
       "      <td>-0.698970</td>\n",
       "      <td>1.00000</td>\n",
       "      <td>0.110000</td>\n",
       "      <td>19.100000</td>\n",
       "      <td>66.000000</td>\n",
       "      <td>-1.574542</td>\n",
       "      <td>-2.338488</td>\n",
       "      <td>1.037500</td>\n",
       "      <td>0.000000</td>\n",
       "      <td>169.000000</td>\n",
       "    </tr>\n",
       "    <tr>\n",
       "      <th>50%</th>\n",
       "      <td>2019.000000</td>\n",
       "      <td>2.084931</td>\n",
       "      <td>177.024792</td>\n",
       "      <td>1.000000</td>\n",
       "      <td>0.000000</td>\n",
       "      <td>0.000000</td>\n",
       "      <td>0.000000</td>\n",
       "      <td>0.000000</td>\n",
       "      <td>-0.978811</td>\n",
       "      <td>1.000000</td>\n",
       "      <td>-0.130768</td>\n",
       "      <td>1.00000</td>\n",
       "      <td>0.190000</td>\n",
       "      <td>21.700000</td>\n",
       "      <td>405.500000</td>\n",
       "      <td>-0.055805</td>\n",
       "      <td>-0.817459</td>\n",
       "      <td>2.020000</td>\n",
       "      <td>0.000000</td>\n",
       "      <td>195.000000</td>\n",
       "    </tr>\n",
       "    <tr>\n",
       "      <th>75%</th>\n",
       "      <td>2021.000000</td>\n",
       "      <td>2.521437</td>\n",
       "      <td>177.134520</td>\n",
       "      <td>1.000000</td>\n",
       "      <td>0.042672</td>\n",
       "      <td>0.051816</td>\n",
       "      <td>0.000000</td>\n",
       "      <td>0.050000</td>\n",
       "      <td>-0.267606</td>\n",
       "      <td>1.000000</td>\n",
       "      <td>0.076457</td>\n",
       "      <td>1.00000</td>\n",
       "      <td>0.310000</td>\n",
       "      <td>22.900000</td>\n",
       "      <td>575.000000</td>\n",
       "      <td>1.340563</td>\n",
       "      <td>0.935142</td>\n",
       "      <td>4.195000</td>\n",
       "      <td>0.034865</td>\n",
       "      <td>221.000000</td>\n",
       "    </tr>\n",
       "    <tr>\n",
       "      <th>max</th>\n",
       "      <td>2022.000000</td>\n",
       "      <td>5.033514</td>\n",
       "      <td>177.600864</td>\n",
       "      <td>1.000000</td>\n",
       "      <td>0.307848</td>\n",
       "      <td>0.326136</td>\n",
       "      <td>1.990000</td>\n",
       "      <td>2.175000</td>\n",
       "      <td>0.479287</td>\n",
       "      <td>1.000000</td>\n",
       "      <td>0.641474</td>\n",
       "      <td>1.00000</td>\n",
       "      <td>1.390000</td>\n",
       "      <td>25.400000</td>\n",
       "      <td>757.000000</td>\n",
       "      <td>16.028410</td>\n",
       "      <td>20.958388</td>\n",
       "      <td>86.240000</td>\n",
       "      <td>1.214501</td>\n",
       "      <td>249.000000</td>\n",
       "    </tr>\n",
       "    <tr>\n",
       "      <th>missing</th>\n",
       "      <td>0.000000</td>\n",
       "      <td>0.000000</td>\n",
       "      <td>5.792000</td>\n",
       "      <td>5.792000</td>\n",
       "      <td>5.792000</td>\n",
       "      <td>5.792000</td>\n",
       "      <td>2.237000</td>\n",
       "      <td>4.643000</td>\n",
       "      <td>10.945000</td>\n",
       "      <td>10.945000</td>\n",
       "      <td>21.440000</td>\n",
       "      <td>21.44000</td>\n",
       "      <td>46.615000</td>\n",
       "      <td>29.049000</td>\n",
       "      <td>37.747000</td>\n",
       "      <td>24.496000</td>\n",
       "      <td>24.496000</td>\n",
       "      <td>20.801000</td>\n",
       "      <td>20.801000</td>\n",
       "      <td>0.000000</td>\n",
       "    </tr>\n",
       "  </tbody>\n",
       "</table>\n",
       "</div>"
      ],
      "text/plain": [
       "                 year        logENT         tide     tide_gtm      dtide_1  \\\n",
       "count    10014.000000  10014.000000  9434.000000  9434.000000  9434.000000   \n",
       "mean      2019.186339      2.080701   177.061424     0.531058     0.001263   \n",
       "std          1.990949      0.649984     0.190851     0.499061     0.078207   \n",
       "min       2016.000000      1.000000   176.646840     0.000000    -0.344424   \n",
       "25%       2017.000000      1.618048   176.921160     0.000000    -0.042672   \n",
       "50%       2019.000000      2.084931   177.024792     1.000000     0.000000   \n",
       "75%       2021.000000      2.521437   177.134520     1.000000     0.042672   \n",
       "max       2022.000000      5.033514   177.600864     1.000000     0.307848   \n",
       "missing      0.000000      0.000000     5.792000     5.792000     5.792000   \n",
       "\n",
       "             dtide_2   PrecipSum6     Precip24    lograin3T         wet3  \\\n",
       "count    9434.000000  9790.000000  9549.000000  8918.000000  8918.000000   \n",
       "mean        0.001127     0.026574     0.115682    -1.708177     0.502848   \n",
       "std         0.083262     0.134799     0.290864     1.674389     0.498058   \n",
       "min        -0.323088     0.000000     0.000000    -4.000000     0.000000   \n",
       "25%        -0.054864     0.000000     0.000000    -4.000000     0.000000   \n",
       "50%         0.000000     0.000000     0.000000    -0.978811     1.000000   \n",
       "75%         0.051816     0.000000     0.050000    -0.267606     1.000000   \n",
       "max         0.326136     1.990000     2.175000     0.479287     1.000000   \n",
       "missing     5.792000     2.237000     4.643000    10.945000    10.945000   \n",
       "\n",
       "           lograin7T        wet7         WVHT      Wtemp_B          rad  \\\n",
       "count    7867.000000  7867.00000  5346.000000  7105.000000  6234.000000   \n",
       "mean       -0.553355     0.83310     0.260896    20.843561   351.164261   \n",
       "std         1.143453     0.37091     0.219719     2.882013   252.721353   \n",
       "min        -4.000000     0.00000     0.010000    12.400000     0.000000   \n",
       "25%        -0.698970     1.00000     0.110000    19.100000    66.000000   \n",
       "50%        -0.130768     1.00000     0.190000    21.700000   405.500000   \n",
       "75%         0.076457     1.00000     0.310000    22.900000   575.000000   \n",
       "max         0.641474     1.00000     1.390000    25.400000   757.000000   \n",
       "missing    21.440000    21.44000    46.615000    29.049000    37.747000   \n",
       "\n",
       "               awind        owind    turbidity      comment           doy  \n",
       "count    7561.000000  7561.000000  7931.000000  7931.000000  10014.000000  \n",
       "mean       -0.128540    -0.724754     3.483087     0.131751    195.557619  \n",
       "std         3.020049     3.151064     4.375671     0.297517     29.703664  \n",
       "min       -21.570398   -19.967320    -1.055000     0.000000    144.000000  \n",
       "25%        -1.574542    -2.338488     1.037500     0.000000    169.000000  \n",
       "50%        -0.055805    -0.817459     2.020000     0.000000    195.000000  \n",
       "75%         1.340563     0.935142     4.195000     0.034865    221.000000  \n",
       "max        16.028410    20.958388    86.240000     1.214501    249.000000  \n",
       "missing    24.496000    24.496000    20.801000    20.801000      0.000000  "
      ]
     },
     "execution_count": 9,
     "metadata": {},
     "output_type": "execute_result"
    }
   ],
   "source": [
    "chi_data = pd.read_csv('./Data-CHI.csv') #Chicago Dataset\n",
    "\n",
    "chi_data = chi_data.drop(columns={\"Unnamed: 0.1\", \"Unnamed: 0\", 'date', \"ENT\", \"dayofyear\",'APD', 'solar_noon', 'DPD', 'dtemp', 'beach', 'WDIR', 'WSPD', 'atemp'})\n",
    "chi_data['date'] = pd.to_datetime(chi_data[['year', 'month', 'day']])\n",
    "chi_data['doy'] = chi_data['date'].dt.dayofyear\n",
    "chi_data = chi_data.drop(columns={'date', 'month', 'day'})\n",
    "chi_data['logENT'] = chi_data['logENT'].apply(lambda x: 1 if x < 1 else x)\n",
    "\n",
    "desc = chi_data.describe()\n",
    "desc.loc['missing'] = [round(i, 3) for i in (10014-np.array(desc)[0])/10014*100]\n",
    "desc"
   ]
  },
  {
   "cell_type": "code",
   "execution_count": 10,
   "metadata": {
    "id": "pOx4RCRsPO0y"
   },
   "outputs": [],
   "source": [
    "SB_data = chi_data[chi_data['beach_area'] == 'SB']\n",
    "NB_data = chi_data[chi_data['beach_area'] == 'NB']\n",
    "CB_data = chi_data[chi_data['beach_area'] == 'CB']"
   ]
  },
  {
   "cell_type": "code",
   "execution_count": 11,
   "metadata": {
    "colab": {
     "base_uri": "https://localhost:8080/"
    },
    "id": "4ckaJdRJm4vq",
    "outputId": "9806c9eb-2a03-4acf-c677-6f345f8f96c2"
   },
   "outputs": [
    {
     "data": {
      "text/plain": [
       "Index(['beach_area', 'year', 'logENT', 'tide', 'tide_gtm', 'dtide_1',\n",
       "       'dtide_2', 'PrecipSum6', 'Precip24', 'lograin3T', 'wet3', 'lograin7T',\n",
       "       'wet7', 'WVHT', 'Wtemp_B', 'rad', 'awind', 'owind', 'turbidity',\n",
       "       'comment', 'doy'],\n",
       "      dtype='object')"
      ]
     },
     "execution_count": 11,
     "metadata": {},
     "output_type": "execute_result"
    }
   ],
   "source": [
    "CB_data.columns"
   ]
  },
  {
   "cell_type": "markdown",
   "metadata": {
    "id": "dkWO8y19bWYq"
   },
   "source": [
    "drop nan"
   ]
  },
  {
   "cell_type": "code",
   "execution_count": 12,
   "metadata": {
    "id": "TPeA4hJFbX9p"
   },
   "outputs": [],
   "source": [
    "# chi_data = chi_data.dropna()\n",
    "# san_data = san_data.dropna()"
   ]
  },
  {
   "cell_type": "code",
   "execution_count": 13,
   "metadata": {
    "colab": {
     "base_uri": "https://localhost:8080/"
    },
    "id": "vgNO6qY3yihG",
    "outputId": "130752b2-e37b-48e8-88de-bbd06a6d3488"
   },
   "outputs": [
    {
     "data": {
      "text/plain": [
       "Index(['logENT', 'tide', 'tide_gtm', 'dtide_1', 'dtide_2', 'PrecipSum6',\n",
       "       'Precip24', 'lograin3T', 'wet3', 'lograin7T', 'wet7', 'WVHT', 'Wtemp_B',\n",
       "       'rad', 'awind', 'owind', 'turbidity', 'comment', 'doy'],\n",
       "      dtype='object')"
      ]
     },
     "execution_count": 13,
     "metadata": {},
     "output_type": "execute_result"
    }
   ],
   "source": [
    "feature_names = chi_data.columns[2:]\n",
    "feature_names"
   ]
  },
  {
   "cell_type": "markdown",
   "metadata": {
    "id": "r4RR7TbEwuEA"
   },
   "source": [
    "train/test split"
   ]
  },
  {
   "cell_type": "code",
   "execution_count": 14,
   "metadata": {
    "id": "NVCrhQ1cuD5j"
   },
   "outputs": [],
   "source": [
    "target = 'logENT'\n",
    "\n",
    "SB_X_train = np.array(SB_data.loc[SB_data['year'] <= 2019].loc[:,SB_data.columns != target])[:, 2:].astype(float)\n",
    "SB_X_test = np.array(SB_data.loc[SB_data['year'] > 2019].loc[:,SB_data.columns != target])[:, 2:].astype(float)\n",
    "SB_y_train = np.array(SB_data.loc[SB_data['year'] <= 2019].loc[:,SB_data.columns == target]).astype(float)\n",
    "SB_y_test = np.array(SB_data.loc[SB_data['year'] > 2019].loc[:,SB_data.columns == target]).astype(float)\n",
    "\n",
    "NB_X_train = np.array(NB_data.loc[NB_data['year'] <= 2019].loc[:,NB_data.columns != target])[:, 2:].astype(float)\n",
    "NB_X_test = np.array(NB_data.loc[NB_data['year'] > 2019].loc[:,NB_data.columns != target])[:, 2:].astype(float)\n",
    "NB_y_train = np.array(NB_data.loc[NB_data['year'] <= 2019].loc[:,NB_data.columns == target]).astype(float)\n",
    "NB_y_test = np.array(NB_data.loc[NB_data['year'] > 2019].loc[:,NB_data.columns == target]).astype(float)\n",
    "\n",
    "CB_X_train = np.array(CB_data.loc[CB_data['year'] <= 2019].loc[:,CB_data.columns != target])[:, 2:].astype(float)\n",
    "CB_X_test = np.array(CB_data.loc[CB_data['year'] > 2019].loc[:,CB_data.columns != target])[:, 2:].astype(float)\n",
    "CB_y_train = np.array(CB_data.loc[CB_data['year'] <= 2019].loc[:,CB_data.columns == target]).astype(float)\n",
    "CB_y_test = np.array(CB_data.loc[CB_data['year'] > 2019].loc[:,CB_data.columns == target]).astype(float)"
   ]
  },
  {
   "cell_type": "markdown",
   "metadata": {
    "id": "UovFM_3P0ujW"
   },
   "source": [
    "replace nan"
   ]
  },
  {
   "cell_type": "code",
   "execution_count": 15,
   "metadata": {
    "id": "b1Es7rxA2JmL"
   },
   "outputs": [],
   "source": [
    "SB_train_mean = np.ma.array(SB_X_train, mask=np.isnan(SB_X_train)).mean(axis=0)\n",
    "NB_train_mean = np.ma.array(NB_X_train, mask=np.isnan(NB_X_train)).mean(axis=0)\n",
    "CB_train_mean = np.ma.array(CB_X_train, mask=np.isnan(CB_X_train)).mean(axis=0)\n",
    "\n",
    "\n",
    "SB_train_std = np.ma.array(SB_X_train, mask=np.isnan(SB_X_train)).std(axis=0)\n",
    "NB_train_std = np.ma.array(NB_X_train, mask=np.isnan(NB_X_train)).std(axis=0)\n",
    "CB_train_std = np.ma.array(CB_X_train, mask=np.isnan(CB_X_train)).std(axis=0)"
   ]
  },
  {
   "cell_type": "code",
   "execution_count": 16,
   "metadata": {
    "id": "cehg2EsliiVW"
   },
   "outputs": [],
   "source": [
    "# noisy mean\n",
    "# for i in range(len(chi_X_test)):\n",
    "#   for j in range(len(chi_X_test[i])):\n",
    "#     if np.isnan(chi_X_test[i][j]):\n",
    "#       chi_X_test[i][j] = np.random.normal(chi_train_mean[j], chi_train_std[j])\n",
    "\n",
    "# for i in range(len(chi_X_train)):\n",
    "#   for j in range(len(chi_X_train[i])):\n",
    "#     if np.isnan(chi_X_train[i][j]):\n",
    "#       chi_X_train[i][j] = np.random.normal(chi_train_mean[j], chi_train_std[j])"
   ]
  },
  {
   "cell_type": "code",
   "execution_count": 17,
   "metadata": {
    "id": "orcfMcMyy4hr"
   },
   "outputs": [],
   "source": [
    "SB_X_test = np.where(np.isnan(SB_X_test), SB_train_mean, SB_X_test)\n",
    "SB_X_train = np.where(np.isnan(SB_X_train), SB_train_mean, SB_X_train)\n",
    "\n",
    "NB_X_test = np.where(np.isnan(NB_X_test), NB_train_mean, NB_X_test)\n",
    "NB_X_train = np.where(np.isnan(NB_X_train), NB_train_mean, NB_X_train)\n",
    "\n",
    "CB_X_test = np.where(np.isnan(CB_X_test), CB_train_mean, CB_X_test)\n",
    "CB_X_train = np.where(np.isnan(CB_X_train), CB_train_mean, CB_X_train)"
   ]
  },
  {
   "cell_type": "markdown",
   "metadata": {
    "id": "bUcoqMjPwvyZ"
   },
   "source": [
    "scaling"
   ]
  },
  {
   "cell_type": "code",
   "execution_count": 18,
   "metadata": {
    "id": "P3YYFBe_wf2H"
   },
   "outputs": [],
   "source": [
    "SB_scaler = MinMaxScaler().fit(SB_X_train)\n",
    "NB_scaler = MinMaxScaler().fit(NB_X_train)\n",
    "CB_scaler = MinMaxScaler().fit(CB_X_train)\n",
    "\n",
    "SB_X_train = SB_scaler.transform(SB_X_train)\n",
    "NB_X_train = NB_scaler.transform(NB_X_train)\n",
    "CB_X_train = CB_scaler.transform(CB_X_train)\n",
    "\n",
    "SB_X_test = SB_scaler.transform(SB_X_test)\n",
    "NB_X_test = NB_scaler.transform(NB_X_test)\n",
    "CB_X_test = CB_scaler.transform(CB_X_test)"
   ]
  },
  {
   "cell_type": "code",
   "execution_count": 19,
   "metadata": {
    "id": "iwpJh-lbb_6P"
   },
   "outputs": [],
   "source": [
    "SB_y_test = SB_y_test.flatten()\n",
    "NB_y_test = NB_y_test.flatten()\n",
    "CB_y_test = CB_y_test.flatten()\n",
    "\n",
    "SB_y_train = SB_y_train.flatten()\n",
    "NB_y_train = NB_y_train.flatten()\n",
    "CB_y_train = CB_y_train.flatten()"
   ]
  },
  {
   "cell_type": "code",
   "execution_count": 20,
   "metadata": {
    "colab": {
     "base_uri": "https://localhost:8080/"
    },
    "id": "kJodRAqZWyvW",
    "outputId": "549846c3-2eb7-4d43-ebba-9f97c51a7ea1"
   },
   "outputs": [
    {
     "name": "stdout",
     "output_type": "stream",
     "text": [
      "SB_X_train shape: (2444, 18)\n",
      "SB_y_train shape: (2444,)\n",
      "SB_X_test shape: (1525, 18)\n",
      "SB_y_test shape: (1525,)\n",
      "NB_X_train shape: (2464, 18)\n",
      "NB_y_train shape: (2464,)\n",
      "NB_X_test shape: (1316, 18)\n",
      "NB_y_test shape: (1316,)\n",
      "CB_X_train shape: (1396, 18)\n",
      "CB_y_train shape: (1396,)\n",
      "CB_X_test shape: (869, 18)\n",
      "CB_y_test shape: (869,)\n"
     ]
    }
   ],
   "source": [
    "# Print dimensions for SB data\n",
    "print(\"SB_X_train shape:\", SB_X_train.shape)\n",
    "print(\"SB_y_train shape:\", SB_y_train.shape)\n",
    "print(\"SB_X_test shape:\", SB_X_test.shape)\n",
    "print(\"SB_y_test shape:\", SB_y_test.shape)\n",
    "\n",
    "# Print dimensions for NB data\n",
    "print(\"NB_X_train shape:\", NB_X_train.shape)\n",
    "print(\"NB_y_train shape:\", NB_y_train.shape)\n",
    "print(\"NB_X_test shape:\", NB_X_test.shape)\n",
    "print(\"NB_y_test shape:\", NB_y_test.shape)\n",
    "\n",
    "# Print dimensions for CB data\n",
    "print(\"CB_X_train shape:\", CB_X_train.shape)\n",
    "print(\"CB_y_train shape:\", CB_y_train.shape)\n",
    "print(\"CB_X_test shape:\", CB_X_test.shape)\n",
    "print(\"CB_y_test shape:\", CB_y_test.shape)"
   ]
  },
  {
   "cell_type": "markdown",
   "metadata": {
    "id": "lFK7vKSW3Epp"
   },
   "source": [
    "# Models"
   ]
  },
  {
   "cell_type": "code",
   "execution_count": 24,
   "metadata": {
    "colab": {
     "base_uri": "https://localhost:8080/"
    },
    "id": "92pcc-wkbW1d",
    "outputId": "82c6571d-179a-4251-befd-d08390ff31e5"
   },
   "outputs": [],
   "source": [
    "# !pip install pytorch_tabnet"
   ]
  },
  {
   "cell_type": "code",
   "execution_count": 25,
   "metadata": {
    "id": "O-irjahl3C5b"
   },
   "outputs": [],
   "source": [
    "from sklearn.ensemble import RandomForestRegressor\n",
    "from sklearn.neural_network import MLPRegressor\n",
    "from xgboost import XGBRegressor\n",
    "from sklearn.linear_model import LinearRegression\n",
    "from pytorch_tabnet.tab_model import TabNetRegressor"
   ]
  },
  {
   "cell_type": "markdown",
   "metadata": {
    "id": "XMlK_wzzYNal"
   },
   "source": [
    "## RF"
   ]
  },
  {
   "cell_type": "code",
   "execution_count": 26,
   "metadata": {
    "colab": {
     "base_uri": "https://localhost:8080/"
    },
    "id": "kKLShgNRYv_h",
    "outputId": "a36c0637-d36f-4491-91bc-6027c0fc9efb"
   },
   "outputs": [
    {
     "name": "stdout",
     "output_type": "stream",
     "text": [
      "Fitting 3 folds for each of 85 candidates, totalling 255 fits\n",
      "{'n_estimators': 1733, 'min_samples_split': 5, 'min_samples_leaf': 2, 'max_features': 'log2', 'max_depth': 67, 'bootstrap': True}\n",
      "----RF----\n",
      "SB Model:\n",
      "SB test data:\t\t  0.306 Stat Significance Test (mean, STD) 0.311 (0.0082)\n",
      "NB test data (Transfered): 0.358 Stat Significance Test (mean, STD) 0.367 (0.0146)\n",
      "----RF----\n",
      "SB Model:\n",
      "SB test data:\t\t  0.308 Stat Significance Test (mean, STD) 0.312 (0.0073)\n",
      "CB test data (Transfered): 0.453 Stat Significance Test (mean, STD) 0.463 (0.0232)\n"
     ]
    },
    {
     "data": {
      "text/plain": [
       "([0.312, 0.0073], [0.463, 0.0232])"
      ]
     },
     "execution_count": 26,
     "metadata": {},
     "output_type": "execute_result"
    }
   ],
   "source": [
    "SB_regr, rf_SB_best_params = get_RF_model(SB_X_train, SB_y_train)\n",
    "# For SB as the source and NB as the target\n",
    "stat_significance_trainer_tester(SB_regr, SB_X_train, SB_y_train, SB_X_test, SB_y_test, NB_X_test, NB_y_test, source_name=\"SB\", target_name='NB', model_name='RF')\n",
    "# For SB as the source and CB as the target\n",
    "stat_significance_trainer_tester(SB_regr, SB_X_train, SB_y_train, SB_X_test, SB_y_test, CB_X_test, CB_y_test, source_name=\"SB\", target_name='CB', model_name='RF')"
   ]
  },
  {
   "cell_type": "code",
   "execution_count": 27,
   "metadata": {
    "colab": {
     "base_uri": "https://localhost:8080/"
    },
    "id": "6HXCc4PEZNb3",
    "outputId": "467f71e1-afe8-4519-9447-c624c1c2b6d8"
   },
   "outputs": [
    {
     "name": "stdout",
     "output_type": "stream",
     "text": [
      "Fitting 3 folds for each of 85 candidates, totalling 255 fits\n",
      "{'n_estimators': 933, 'min_samples_split': 10, 'min_samples_leaf': 3, 'max_features': 'log2', 'max_depth': 38, 'bootstrap': True}\n",
      "----RF----\n",
      "NB Model:\n",
      "NB test data:\t\t  0.332 Stat Significance Test (mean, STD) 0.334 (0.0047)\n",
      "SB test data (Transfered): 0.322 Stat Significance Test (mean, STD) 0.324 (0.0048)\n",
      "----RF----\n",
      "NB Model:\n",
      "NB test data:\t\t  0.331 Stat Significance Test (mean, STD) 0.333 (0.0045)\n",
      "CB test data (Transfered): 0.422 Stat Significance Test (mean, STD) 0.426 (0.0122)\n"
     ]
    },
    {
     "data": {
      "text/plain": [
       "([0.333, 0.0045], [0.426, 0.0122])"
      ]
     },
     "execution_count": 27,
     "metadata": {},
     "output_type": "execute_result"
    }
   ],
   "source": [
    "NB_regr, rf_NB_best_params = get_RF_model(NB_X_train, NB_y_train)\n",
    "stat_significance_trainer_tester(NB_regr, NB_X_train, NB_y_train, NB_X_test, NB_y_test, SB_X_test, SB_y_test, source_name=\"NB\", target_name='SB', model_name='RF')\n",
    "stat_significance_trainer_tester(NB_regr, NB_X_train, NB_y_train, NB_X_test, NB_y_test, CB_X_test, CB_y_test, source_name=\"NB\", target_name='CB', model_name='RF')"
   ]
  },
  {
   "cell_type": "code",
   "execution_count": 28,
   "metadata": {
    "colab": {
     "base_uri": "https://localhost:8080/"
    },
    "id": "gdpfai_g3REV",
    "outputId": "5c9c90ba-e7bc-428d-8bda-8de2e3602952"
   },
   "outputs": [
    {
     "name": "stdout",
     "output_type": "stream",
     "text": [
      "Fitting 3 folds for each of 85 candidates, totalling 255 fits\n",
      "{'n_estimators': 933, 'min_samples_split': 10, 'min_samples_leaf': 7, 'max_features': 'sqrt', 'max_depth': 17, 'bootstrap': True}\n",
      "----RF----\n",
      "CB Model:\n",
      "CB test data:\t\t  0.352 Stat Significance Test (mean, STD) 0.359 (0.0159)\n",
      "SB test data (Transfered): 0.316 Stat Significance Test (mean, STD) 0.317 (0.0045)\n",
      "----RF----\n",
      "CB Model:\n",
      "CB test data:\t\t  0.352 Stat Significance Test (mean, STD) 0.359 (0.0161)\n",
      "NB test data (Transfered): 0.322 Stat Significance Test (mean, STD) 0.326 (0.0063)\n"
     ]
    },
    {
     "data": {
      "text/plain": [
       "([0.359, 0.0161], [0.326, 0.0063])"
      ]
     },
     "execution_count": 28,
     "metadata": {},
     "output_type": "execute_result"
    }
   ],
   "source": [
    "CB_regr, rf_CB_best_params = get_RF_model(CB_X_train, CB_y_train)\n",
    "stat_significance_trainer_tester(CB_regr, CB_X_train, CB_y_train, CB_X_test, CB_y_test, SB_X_test, SB_y_test, source_name=\"CB\", target_name='SB', model_name='RF')\n",
    "stat_significance_trainer_tester(CB_regr, CB_X_train, CB_y_train, CB_X_test, CB_y_test, NB_X_test, NB_y_test, source_name=\"CB\", target_name='NB', model_name='RF')"
   ]
  },
  {
   "cell_type": "markdown",
   "metadata": {
    "id": "FgsMBzZyaER1"
   },
   "source": [
    "## TabNet"
   ]
  },
  {
   "cell_type": "code",
   "execution_count": 29,
   "metadata": {
    "colab": {
     "base_uri": "https://localhost:8080/"
    },
    "id": "35nG7pR4aLj-",
    "outputId": "eb79d51f-a5c2-4c2d-9b80-519c571e7f6a"
   },
   "outputs": [
    {
     "name": "stderr",
     "output_type": "stream",
     "text": [
      "/Users/ali/miniforge_x86_64/envs/env_python/lib/python3.11/site-packages/pytorch_tabnet/abstract_model.py:687: UserWarning: No early stopping will be performed, last training weights will be used.\n",
      "  warnings.warn(wrn_msg)\n",
      "/Users/ali/miniforge_x86_64/envs/env_python/lib/python3.11/site-packages/pytorch_tabnet/abstract_model.py:687: UserWarning: No early stopping will be performed, last training weights will be used.\n",
      "  warnings.warn(wrn_msg)\n",
      "/Users/ali/miniforge_x86_64/envs/env_python/lib/python3.11/site-packages/pytorch_tabnet/abstract_model.py:687: UserWarning: No early stopping will be performed, last training weights will be used.\n",
      "  warnings.warn(wrn_msg)\n",
      "/Users/ali/miniforge_x86_64/envs/env_python/lib/python3.11/site-packages/pytorch_tabnet/abstract_model.py:687: UserWarning: No early stopping will be performed, last training weights will be used.\n",
      "  warnings.warn(wrn_msg)\n",
      "/Users/ali/miniforge_x86_64/envs/env_python/lib/python3.11/site-packages/pytorch_tabnet/abstract_model.py:687: UserWarning: No early stopping will be performed, last training weights will be used.\n",
      "  warnings.warn(wrn_msg)\n"
     ]
    },
    {
     "name": "stdout",
     "output_type": "stream",
     "text": [
      "----TN----\n",
      "SB Model:\n",
      "SB test data:\t\t  0.351 Stat Significance Test (mean, STD) 0.331 (0.0167)\n",
      "NB test data (Transfered): 0.413 Stat Significance Test (mean, STD) 0.386 (0.0235)\n"
     ]
    },
    {
     "name": "stderr",
     "output_type": "stream",
     "text": [
      "/Users/ali/miniforge_x86_64/envs/env_python/lib/python3.11/site-packages/pytorch_tabnet/abstract_model.py:687: UserWarning: No early stopping will be performed, last training weights will be used.\n",
      "  warnings.warn(wrn_msg)\n",
      "/Users/ali/miniforge_x86_64/envs/env_python/lib/python3.11/site-packages/pytorch_tabnet/abstract_model.py:687: UserWarning: No early stopping will be performed, last training weights will be used.\n",
      "  warnings.warn(wrn_msg)\n",
      "/Users/ali/miniforge_x86_64/envs/env_python/lib/python3.11/site-packages/pytorch_tabnet/abstract_model.py:687: UserWarning: No early stopping will be performed, last training weights will be used.\n",
      "  warnings.warn(wrn_msg)\n",
      "/Users/ali/miniforge_x86_64/envs/env_python/lib/python3.11/site-packages/pytorch_tabnet/abstract_model.py:687: UserWarning: No early stopping will be performed, last training weights will be used.\n",
      "  warnings.warn(wrn_msg)\n",
      "/Users/ali/miniforge_x86_64/envs/env_python/lib/python3.11/site-packages/pytorch_tabnet/abstract_model.py:687: UserWarning: No early stopping will be performed, last training weights will be used.\n",
      "  warnings.warn(wrn_msg)\n"
     ]
    },
    {
     "name": "stdout",
     "output_type": "stream",
     "text": [
      "----TN----\n",
      "SB Model:\n",
      "SB test data:\t\t  0.351 Stat Significance Test (mean, STD) 0.331 (0.0167)\n",
      "CB test data (Transfered): 0.503 Stat Significance Test (mean, STD) 0.471 (0.0315)\n"
     ]
    },
    {
     "data": {
      "text/plain": [
       "([0.331, 0.0167], [0.471, 0.0315])"
      ]
     },
     "execution_count": 29,
     "metadata": {},
     "output_type": "execute_result"
    }
   ],
   "source": [
    "SB_regr = TabNetRegressor(verbose = 0, seed = 0)\n",
    "# For SB as the source and NB as the target\n",
    "stat_significance_trainer_tester(SB_regr, SB_X_train, SB_y_train.reshape(-1, 1), SB_X_test, SB_y_test.reshape(-1, 1), NB_X_test, NB_y_test.reshape(-1, 1), source_name=\"SB\", target_name='NB', model_name='TN')\n",
    "# For SB as the source and CB as the target\n",
    "stat_significance_trainer_tester(SB_regr, SB_X_train, SB_y_train.reshape(-1, 1), SB_X_test, SB_y_test.reshape(-1, 1), CB_X_test, CB_y_test.reshape(-1, 1), source_name=\"SB\", target_name='CB', model_name='TN')"
   ]
  },
  {
   "cell_type": "code",
   "execution_count": 30,
   "metadata": {
    "colab": {
     "base_uri": "https://localhost:8080/"
    },
    "id": "DKG89BajaLd8",
    "outputId": "d0a9d937-091e-41e0-f0e3-1bca53b59e36"
   },
   "outputs": [
    {
     "name": "stderr",
     "output_type": "stream",
     "text": [
      "/Users/ali/miniforge_x86_64/envs/env_python/lib/python3.11/site-packages/pytorch_tabnet/abstract_model.py:687: UserWarning: No early stopping will be performed, last training weights will be used.\n",
      "  warnings.warn(wrn_msg)\n",
      "/Users/ali/miniforge_x86_64/envs/env_python/lib/python3.11/site-packages/pytorch_tabnet/abstract_model.py:687: UserWarning: No early stopping will be performed, last training weights will be used.\n",
      "  warnings.warn(wrn_msg)\n",
      "/Users/ali/miniforge_x86_64/envs/env_python/lib/python3.11/site-packages/pytorch_tabnet/abstract_model.py:687: UserWarning: No early stopping will be performed, last training weights will be used.\n",
      "  warnings.warn(wrn_msg)\n",
      "/Users/ali/miniforge_x86_64/envs/env_python/lib/python3.11/site-packages/pytorch_tabnet/abstract_model.py:687: UserWarning: No early stopping will be performed, last training weights will be used.\n",
      "  warnings.warn(wrn_msg)\n",
      "/Users/ali/miniforge_x86_64/envs/env_python/lib/python3.11/site-packages/pytorch_tabnet/abstract_model.py:687: UserWarning: No early stopping will be performed, last training weights will be used.\n",
      "  warnings.warn(wrn_msg)\n"
     ]
    },
    {
     "name": "stdout",
     "output_type": "stream",
     "text": [
      "----TN----\n",
      "NB Model:\n",
      "NB test data:\t\t  0.37 Stat Significance Test (mean, STD) 0.364 (0.0213)\n",
      "SB test data (Transfered): 0.328 Stat Significance Test (mean, STD) 0.325 (0.0099)\n"
     ]
    },
    {
     "name": "stderr",
     "output_type": "stream",
     "text": [
      "/Users/ali/miniforge_x86_64/envs/env_python/lib/python3.11/site-packages/pytorch_tabnet/abstract_model.py:687: UserWarning: No early stopping will be performed, last training weights will be used.\n",
      "  warnings.warn(wrn_msg)\n",
      "/Users/ali/miniforge_x86_64/envs/env_python/lib/python3.11/site-packages/pytorch_tabnet/abstract_model.py:687: UserWarning: No early stopping will be performed, last training weights will be used.\n",
      "  warnings.warn(wrn_msg)\n",
      "/Users/ali/miniforge_x86_64/envs/env_python/lib/python3.11/site-packages/pytorch_tabnet/abstract_model.py:687: UserWarning: No early stopping will be performed, last training weights will be used.\n",
      "  warnings.warn(wrn_msg)\n",
      "/Users/ali/miniforge_x86_64/envs/env_python/lib/python3.11/site-packages/pytorch_tabnet/abstract_model.py:687: UserWarning: No early stopping will be performed, last training weights will be used.\n",
      "  warnings.warn(wrn_msg)\n",
      "/Users/ali/miniforge_x86_64/envs/env_python/lib/python3.11/site-packages/pytorch_tabnet/abstract_model.py:687: UserWarning: No early stopping will be performed, last training weights will be used.\n",
      "  warnings.warn(wrn_msg)\n"
     ]
    },
    {
     "name": "stdout",
     "output_type": "stream",
     "text": [
      "----TN----\n",
      "NB Model:\n",
      "NB test data:\t\t  0.37 Stat Significance Test (mean, STD) 0.364 (0.0213)\n",
      "CB test data (Transfered): 0.452 Stat Significance Test (mean, STD) 0.443 (0.0334)\n"
     ]
    },
    {
     "data": {
      "text/plain": [
       "([0.364, 0.0213], [0.443, 0.0334])"
      ]
     },
     "execution_count": 30,
     "metadata": {},
     "output_type": "execute_result"
    }
   ],
   "source": [
    "NB_regr = TabNetRegressor(verbose = 0, seed = 0)\n",
    "# For NB as the source and SB as the target\n",
    "stat_significance_trainer_tester(NB_regr, NB_X_train, NB_y_train.reshape(-1, 1), NB_X_test, NB_y_test.reshape(-1, 1), SB_X_test, SB_y_test.reshape(-1, 1), source_name=\"NB\", target_name='SB', model_name='TN')\n",
    "# For NB as the source and CB as the target\n",
    "stat_significance_trainer_tester(NB_regr, NB_X_train, NB_y_train.reshape(-1, 1), NB_X_test, NB_y_test.reshape(-1, 1), CB_X_test, CB_y_test.reshape(-1, 1), source_name=\"NB\", target_name='CB', model_name='TN')"
   ]
  },
  {
   "cell_type": "code",
   "execution_count": 31,
   "metadata": {
    "colab": {
     "base_uri": "https://localhost:8080/"
    },
    "id": "K6o2HLb5aLZo",
    "outputId": "1e9bf749-5214-41b6-db2e-a2aa03c3835b"
   },
   "outputs": [
    {
     "name": "stderr",
     "output_type": "stream",
     "text": [
      "/Users/ali/miniforge_x86_64/envs/env_python/lib/python3.11/site-packages/pytorch_tabnet/abstract_model.py:687: UserWarning: No early stopping will be performed, last training weights will be used.\n",
      "  warnings.warn(wrn_msg)\n",
      "/Users/ali/miniforge_x86_64/envs/env_python/lib/python3.11/site-packages/pytorch_tabnet/abstract_model.py:687: UserWarning: No early stopping will be performed, last training weights will be used.\n",
      "  warnings.warn(wrn_msg)\n",
      "/Users/ali/miniforge_x86_64/envs/env_python/lib/python3.11/site-packages/pytorch_tabnet/abstract_model.py:687: UserWarning: No early stopping will be performed, last training weights will be used.\n",
      "  warnings.warn(wrn_msg)\n",
      "/Users/ali/miniforge_x86_64/envs/env_python/lib/python3.11/site-packages/pytorch_tabnet/abstract_model.py:687: UserWarning: No early stopping will be performed, last training weights will be used.\n",
      "  warnings.warn(wrn_msg)\n",
      "/Users/ali/miniforge_x86_64/envs/env_python/lib/python3.11/site-packages/pytorch_tabnet/abstract_model.py:687: UserWarning: No early stopping will be performed, last training weights will be used.\n",
      "  warnings.warn(wrn_msg)\n"
     ]
    },
    {
     "name": "stdout",
     "output_type": "stream",
     "text": [
      "----TN----\n",
      "CB Model:\n",
      "CB test data:\t\t  0.354 Stat Significance Test (mean, STD) 0.358 (0.0075)\n",
      "SB test data (Transfered): 0.323 Stat Significance Test (mean, STD) 0.319 (0.004)\n"
     ]
    },
    {
     "name": "stderr",
     "output_type": "stream",
     "text": [
      "/Users/ali/miniforge_x86_64/envs/env_python/lib/python3.11/site-packages/pytorch_tabnet/abstract_model.py:687: UserWarning: No early stopping will be performed, last training weights will be used.\n",
      "  warnings.warn(wrn_msg)\n",
      "/Users/ali/miniforge_x86_64/envs/env_python/lib/python3.11/site-packages/pytorch_tabnet/abstract_model.py:687: UserWarning: No early stopping will be performed, last training weights will be used.\n",
      "  warnings.warn(wrn_msg)\n",
      "/Users/ali/miniforge_x86_64/envs/env_python/lib/python3.11/site-packages/pytorch_tabnet/abstract_model.py:687: UserWarning: No early stopping will be performed, last training weights will be used.\n",
      "  warnings.warn(wrn_msg)\n",
      "/Users/ali/miniforge_x86_64/envs/env_python/lib/python3.11/site-packages/pytorch_tabnet/abstract_model.py:687: UserWarning: No early stopping will be performed, last training weights will be used.\n",
      "  warnings.warn(wrn_msg)\n",
      "/Users/ali/miniforge_x86_64/envs/env_python/lib/python3.11/site-packages/pytorch_tabnet/abstract_model.py:687: UserWarning: No early stopping will be performed, last training weights will be used.\n",
      "  warnings.warn(wrn_msg)\n"
     ]
    },
    {
     "name": "stdout",
     "output_type": "stream",
     "text": [
      "----TN----\n",
      "CB Model:\n",
      "CB test data:\t\t  0.354 Stat Significance Test (mean, STD) 0.358 (0.0075)\n",
      "NB test data (Transfered): 0.333 Stat Significance Test (mean, STD) 0.334 (0.0078)\n"
     ]
    },
    {
     "data": {
      "text/plain": [
       "([0.358, 0.0075], [0.334, 0.0078])"
      ]
     },
     "execution_count": 31,
     "metadata": {},
     "output_type": "execute_result"
    }
   ],
   "source": [
    "CB_regr = TabNetRegressor(verbose = 0, seed = 0)\n",
    "# For CB as the source and SB as the target\n",
    "stat_significance_trainer_tester(CB_regr, CB_X_train, CB_y_train.reshape(-1, 1), CB_X_test, CB_y_test.reshape(-1, 1), SB_X_test, SB_y_test.reshape(-1, 1), source_name=\"CB\", target_name='SB', model_name='TN')\n",
    "# For CB as the source and NB as the target\n",
    "stat_significance_trainer_tester(CB_regr, CB_X_train, CB_y_train.reshape(-1, 1), CB_X_test, CB_y_test.reshape(-1, 1), NB_X_test, NB_y_test.reshape(-1, 1), source_name=\"CB\", target_name='NB', model_name='TN')"
   ]
  },
  {
   "cell_type": "markdown",
   "metadata": {
    "id": "sh5fHm1waHDZ"
   },
   "source": [
    "## XGBoost"
   ]
  },
  {
   "cell_type": "code",
   "execution_count": 32,
   "metadata": {
    "colab": {
     "base_uri": "https://localhost:8080/"
    },
    "id": "YgQF0337aMYy",
    "outputId": "799f2a56-4c6a-4486-85d0-b586f46197e7"
   },
   "outputs": [
    {
     "name": "stdout",
     "output_type": "stream",
     "text": [
      "----XG----\n",
      "SB Model:\n",
      "SB test data:\t\t  0.332 Stat Significance Test (mean, STD) 0.353 (0.0154)\n",
      "NB test data (Transfered): 0.378 Stat Significance Test (mean, STD) 0.419 (0.0379)\n",
      "----XG----\n",
      "SB Model:\n",
      "SB test data:\t\t  0.332 Stat Significance Test (mean, STD) 0.353 (0.0154)\n",
      "CB test data (Transfered): 0.453 Stat Significance Test (mean, STD) 0.51 (0.046)\n"
     ]
    },
    {
     "data": {
      "text/plain": [
       "([0.353, 0.0154], [0.51, 0.046])"
      ]
     },
     "execution_count": 32,
     "metadata": {},
     "output_type": "execute_result"
    }
   ],
   "source": [
    "SB_regr = XGBRegressor(random_state = 0, seed = 0)\n",
    "# For SB as the source and NB as the target\n",
    "stat_significance_trainer_tester(SB_regr, SB_X_train, SB_y_train, SB_X_test, SB_y_test, NB_X_test, NB_y_test, source_name=\"SB\", target_name='NB', model_name='XG')\n",
    "# For SB as the source and CB as the target\n",
    "stat_significance_trainer_tester(SB_regr, SB_X_train, SB_y_train, SB_X_test, SB_y_test, CB_X_test, CB_y_test, source_name=\"SB\", target_name='CB', model_name='XG')"
   ]
  },
  {
   "cell_type": "code",
   "execution_count": 33,
   "metadata": {
    "colab": {
     "base_uri": "https://localhost:8080/"
    },
    "id": "uaYpHDCPaMV7",
    "outputId": "f15030d9-a959-4e87-d129-170af58d1b5b"
   },
   "outputs": [
    {
     "name": "stdout",
     "output_type": "stream",
     "text": [
      "----XG----\n",
      "NB Model:\n",
      "NB test data:\t\t  0.342 Stat Significance Test (mean, STD) 0.341 (0.0169)\n",
      "SB test data (Transfered): 0.357 Stat Significance Test (mean, STD) 0.361 (0.0085)\n",
      "----XG----\n",
      "NB Model:\n",
      "NB test data:\t\t  0.342 Stat Significance Test (mean, STD) 0.341 (0.0169)\n",
      "CB test data (Transfered): 0.408 Stat Significance Test (mean, STD) 0.436 (0.0189)\n"
     ]
    },
    {
     "data": {
      "text/plain": [
       "([0.341, 0.0169], [0.436, 0.0189])"
      ]
     },
     "execution_count": 33,
     "metadata": {},
     "output_type": "execute_result"
    }
   ],
   "source": [
    "NB_regr = XGBRegressor(random_state = 0, seed = 0)\n",
    "# For NB as the source and SB as the target\n",
    "stat_significance_trainer_tester(NB_regr, NB_X_train, NB_y_train, NB_X_test, NB_y_test, SB_X_test, SB_y_test, source_name=\"NB\", target_name='SB', model_name='XG')\n",
    "# For NB as the source and CB as the target\n",
    "stat_significance_trainer_tester(NB_regr, NB_X_train, NB_y_train, NB_X_test, NB_y_test, CB_X_test, CB_y_test, source_name=\"NB\", target_name='CB', model_name='XG')"
   ]
  },
  {
   "cell_type": "code",
   "execution_count": 34,
   "metadata": {
    "colab": {
     "base_uri": "https://localhost:8080/"
    },
    "id": "fqqOXfyeaMSk",
    "outputId": "df2ba2e4-9126-4550-aa4a-1d54eb1be4bc"
   },
   "outputs": [
    {
     "name": "stdout",
     "output_type": "stream",
     "text": [
      "----XG----\n",
      "CB Model:\n",
      "CB test data:\t\t  0.401 Stat Significance Test (mean, STD) 0.402 (0.0078)\n",
      "SB test data (Transfered): 0.348 Stat Significance Test (mean, STD) 0.353 (0.0094)\n",
      "----XG----\n",
      "CB Model:\n",
      "CB test data:\t\t  0.401 Stat Significance Test (mean, STD) 0.402 (0.0078)\n",
      "NB test data (Transfered): 0.342 Stat Significance Test (mean, STD) 0.35 (0.0076)\n"
     ]
    },
    {
     "data": {
      "text/plain": [
       "([0.402, 0.0078], [0.35, 0.0076])"
      ]
     },
     "execution_count": 34,
     "metadata": {},
     "output_type": "execute_result"
    }
   ],
   "source": [
    "CB_regr = XGBRegressor(random_state = 0, seed = 0)\n",
    "# For CB as the source and SB as the target\n",
    "stat_significance_trainer_tester(CB_regr, CB_X_train, CB_y_train, CB_X_test, CB_y_test, SB_X_test, SB_y_test, source_name=\"CB\", target_name='SB', model_name='XG')\n",
    "# For CB as the source and NB as the target\n",
    "stat_significance_trainer_tester(CB_regr, CB_X_train, CB_y_train, CB_X_test, CB_y_test, NB_X_test, NB_y_test, source_name=\"CB\", target_name='NB', model_name='XG')"
   ]
  },
  {
   "cell_type": "markdown",
   "metadata": {
    "id": "e2eazwVSvFt5"
   },
   "source": [
    "# Domain Adaptation"
   ]
  },
  {
   "cell_type": "markdown",
   "metadata": {
    "id": "Uuek_0wGoJ67"
   },
   "source": [
    "## imports"
   ]
  },
  {
   "cell_type": "code",
   "execution_count": 36,
   "metadata": {
    "id": "lHbigkY8oJRi"
   },
   "outputs": [],
   "source": [
    "# pip install adapt"
   ]
  },
  {
   "cell_type": "code",
   "execution_count": 37,
   "metadata": {
    "id": "f71lkHs27pt5"
   },
   "outputs": [
    {
     "name": "stderr",
     "output_type": "stream",
     "text": [
      "2024-09-08 15:15:44.921954: I tensorflow/core/platform/cpu_feature_guard.cc:182] This TensorFlow binary is optimized to use available CPU instructions in performance-critical operations.\n",
      "To enable the following instructions: SSE4.1 SSE4.2, in other operations, rebuild TensorFlow with the appropriate compiler flags.\n"
     ]
    }
   ],
   "source": [
    "from adapt.feature_based import FA\n",
    "from adapt.instance_based import BalancedWeighting\n",
    "from adapt.feature_based import CORAL\n",
    "from adapt.feature_based import SA"
   ]
  },
  {
   "cell_type": "code",
   "execution_count": 38,
   "metadata": {
    "id": "atHNAwkVlavq"
   },
   "outputs": [],
   "source": [
    "# For SB as the source and NB as the target\n",
    "_, targ_labeled_X_NB, _, targ_labeled_y_NB = train_test_split(NB_X_train, NB_y_train, test_size=0.1)\n",
    "_, targ_labeled_X_SB, _, targ_labeled_y_SB = train_test_split(SB_X_train, SB_y_train, test_size=0.1)\n",
    "_, targ_labeled_X_CB, _, targ_labeled_y_CB = train_test_split(CB_X_train, CB_y_train, test_size=0.1)"
   ]
  },
  {
   "cell_type": "markdown",
   "metadata": {
    "id": "UpmL7NSy2tlz"
   },
   "source": [
    "## FA"
   ]
  },
  {
   "cell_type": "markdown",
   "metadata": {
    "id": "JSQz-dz67ROA"
   },
   "source": [
    "### RF"
   ]
  },
  {
   "cell_type": "code",
   "execution_count": 39,
   "metadata": {
    "colab": {
     "base_uri": "https://localhost:8080/"
    },
    "id": "N_nHFZf30zpn",
    "outputId": "b464e71a-25c8-445b-9002-1e998d9edd88"
   },
   "outputs": [
    {
     "name": "stdout",
     "output_type": "stream",
     "text": [
      "----RF-FA----\n",
      "SB Model:\n",
      "SB test data:\t\t  0.308 Stat Significance Test (mean, STD) 0.308 (0.0009)\n",
      "NB test data (Transfered): 0.319 Stat Significance Test (mean, STD) 0.319 (0.0025)\n",
      "----RF-FA----\n",
      "SB Model:\n",
      "SB test data:\t\t  0.315 Stat Significance Test (mean, STD) 0.316 (0.0006)\n",
      "CB test data (Transfered): 0.366 Stat Significance Test (mean, STD) 0.366 (0.0009)\n"
     ]
    },
    {
     "data": {
      "text/plain": [
       "([0.316, 0.0006], [0.366, 0.0009])"
      ]
     },
     "execution_count": 39,
     "metadata": {},
     "output_type": "execute_result"
    }
   ],
   "source": [
    "regr_SB = RandomForestRegressor(**rf_SB_best_params)\n",
    "\n",
    "SB_regr_FA_NB = FA(regr_SB, Xt=targ_labeled_X_NB, yt=targ_labeled_y_NB, random_state=0, verbose=0)\n",
    "stat_significance_trainer_tester(SB_regr_FA_NB, SB_X_train, SB_y_train, SB_X_test, SB_y_test, NB_X_test, NB_y_test, source_name=\"SB\", target_name='NB', model_name='RF-FA')\n",
    "\n",
    "SB_regr_FA_CB = FA(regr_SB, Xt=targ_labeled_X_CB, yt=targ_labeled_y_CB, random_state=0, verbose=0)\n",
    "stat_significance_trainer_tester(SB_regr_FA_CB, SB_X_train, SB_y_train, SB_X_test, SB_y_test, CB_X_test, CB_y_test, source_name=\"SB\", target_name='CB', model_name='RF-FA')"
   ]
  },
  {
   "cell_type": "code",
   "execution_count": 40,
   "metadata": {
    "colab": {
     "base_uri": "https://localhost:8080/"
    },
    "id": "E-kYtmOY15n_",
    "outputId": "7ad4c3a4-f8a8-4922-ce0c-77d30b4056c9"
   },
   "outputs": [
    {
     "name": "stdout",
     "output_type": "stream",
     "text": [
      "----RF-FA----\n",
      "NB Model:\n",
      "NB test data:\t\t  0.342 Stat Significance Test (mean, STD) 0.343 (0.0013)\n",
      "SB test data (Transfered): 0.305 Stat Significance Test (mean, STD) 0.304 (0.0006)\n",
      "----RF-FA----\n",
      "NB Model:\n",
      "NB test data:\t\t  0.332 Stat Significance Test (mean, STD) 0.332 (0.0012)\n",
      "CB test data (Transfered): 0.362 Stat Significance Test (mean, STD) 0.363 (0.0016)\n"
     ]
    },
    {
     "data": {
      "text/plain": [
       "([0.332, 0.0012], [0.363, 0.0016])"
      ]
     },
     "execution_count": 40,
     "metadata": {},
     "output_type": "execute_result"
    }
   ],
   "source": [
    "regr_NB = RandomForestRegressor(**rf_NB_best_params)\n",
    "\n",
    "NB_regr_FA_SB = FA(regr_NB, Xt=targ_labeled_X_SB, yt=targ_labeled_y_SB, random_state=0, verbose=0)\n",
    "stat_significance_trainer_tester(NB_regr_FA_SB, NB_X_train, NB_y_train, NB_X_test, NB_y_test, SB_X_test, SB_y_test, source_name=\"NB\", target_name='SB', model_name='RF-FA')\n",
    "\n",
    "NB_regr_FA_CB = FA(regr_NB, Xt=targ_labeled_X_CB, yt=targ_labeled_y_CB, random_state=0, verbose=0)\n",
    "stat_significance_trainer_tester(NB_regr_FA_CB, NB_X_train, NB_y_train, NB_X_test, NB_y_test, CB_X_test, CB_y_test, source_name=\"NB\", target_name='CB', model_name='RF-FA')"
   ]
  },
  {
   "cell_type": "code",
   "execution_count": 41,
   "metadata": {
    "colab": {
     "base_uri": "https://localhost:8080/"
    },
    "id": "wKwRTlU37VPw",
    "outputId": "2a5bef30-df33-4785-e408-d1437bd71b89"
   },
   "outputs": [
    {
     "name": "stdout",
     "output_type": "stream",
     "text": [
      "----RF-FA----\n",
      "CB Model:\n",
      "CB test data:\t\t  0.436 Stat Significance Test (mean, STD) 0.438 (0.0025)\n",
      "SB test data (Transfered): 0.303 Stat Significance Test (mean, STD) 0.303 (0.0008)\n",
      "----RF-FA----\n",
      "CB Model:\n",
      "CB test data:\t\t  0.425 Stat Significance Test (mean, STD) 0.426 (0.0049)\n",
      "NB test data (Transfered): 0.318 Stat Significance Test (mean, STD) 0.319 (0.0025)\n"
     ]
    },
    {
     "data": {
      "text/plain": [
       "([0.426, 0.0049], [0.319, 0.0025])"
      ]
     },
     "execution_count": 41,
     "metadata": {},
     "output_type": "execute_result"
    }
   ],
   "source": [
    "regr_CB = RandomForestRegressor(**rf_CB_best_params)\n",
    "\n",
    "CB_regr_FA_SB = FA(regr_CB, Xt=targ_labeled_X_SB, yt=targ_labeled_y_SB, random_state=0, verbose=0)\n",
    "stat_significance_trainer_tester(CB_regr_FA_SB, CB_X_train, CB_y_train, CB_X_test, CB_y_test, SB_X_test, SB_y_test, source_name=\"CB\", target_name='SB', model_name='RF-FA')\n",
    "\n",
    "CB_regr_FA_NB = FA(regr_CB, Xt=targ_labeled_X_NB, yt=targ_labeled_y_NB, random_state=0, verbose=0)\n",
    "stat_significance_trainer_tester(CB_regr_FA_NB, CB_X_train, CB_y_train, CB_X_test, CB_y_test, NB_X_test, NB_y_test, source_name=\"CB\", target_name='NB', model_name='RF-FA')\n"
   ]
  },
  {
   "cell_type": "code",
   "execution_count": 42,
   "metadata": {
    "colab": {
     "base_uri": "https://localhost:8080/"
    },
    "id": "4x4rkV1KqKSe",
    "outputId": "22a0f944-af56-443f-c486-e98291290bdc"
   },
   "outputs": [],
   "source": [
    "# regr = RandomForestRegressor(random_state=0, max_depth=100, max_features=3, min_samples_leaf=3, min_samples_split=8, n_estimators=1000)\n",
    "\n",
    "# CB_regr = FA(regr, Xt=targ_labeled_X_CB, yt=targ_labeled_y_CB, random_state=0, verbose=0)\n",
    "# stat_significance_trainer_tester(CB_regr, CB_X_train, CB_y_train, CB_X_test, CB_y_test, CB_X_test, CB_y_test, source_name=\"CB\", target_name='CB', model_name='RF-FA')\n",
    "\n",
    "# NB_regr = FA(regr, Xt=targ_labeled_X_NB, yt=targ_labeled_y_NB, random_state=0, verbose=0)\n",
    "# stat_significance_trainer_tester(NB_regr, NB_X_train, NB_y_train, NB_X_test, NB_y_test, NB_X_test, NB_y_test, source_name=\"NB\", target_name='NB', model_name='RF-FA')\n",
    "\n",
    "# SB_regr = FA(regr, Xt=targ_labeled_X_SB, yt=targ_labeled_y_SB, random_state=0, verbose=0)\n",
    "# stat_significance_trainer_tester(SB_regr, SB_X_train, SB_y_train, SB_X_test, SB_y_test, SB_X_test, SB_y_test, source_name=\"SB\", target_name='SB', model_name='RF-FA')"
   ]
  },
  {
   "cell_type": "markdown",
   "metadata": {
    "id": "bB_PmrzDoToC"
   },
   "source": [
    "### TN"
   ]
  },
  {
   "cell_type": "code",
   "execution_count": 43,
   "metadata": {
    "colab": {
     "base_uri": "https://localhost:8080/"
    },
    "id": "gQBYiGhPwKr9",
    "outputId": "d2aae4d2-3a5b-498e-9c8f-727475176b0c"
   },
   "outputs": [
    {
     "name": "stdout",
     "output_type": "stream",
     "text": [
      "Before Reshape - SB_y_train: (2444,)\n",
      "Before Reshape - SB_y_test: (1525,)\n",
      "After Reshape - SB_y_train: (2444, 1)\n",
      "After Reshape - SB_y_test: (1525, 1)\n"
     ]
    }
   ],
   "source": [
    "print(\"Before Reshape - SB_y_train:\", SB_y_train.shape)\n",
    "print(\"Before Reshape - SB_y_test:\", SB_y_test.shape)\n",
    "\n",
    "SB_y_train_reshaped = SB_y_train.reshape(-1, 1)\n",
    "SB_y_test_reshaped = SB_y_test.reshape(-1, 1)\n",
    "\n",
    "print(\"After Reshape - SB_y_train:\", SB_y_train_reshaped.shape)\n",
    "print(\"After Reshape - SB_y_test:\", SB_y_test_reshaped.shape)"
   ]
  },
  {
   "cell_type": "code",
   "execution_count": 44,
   "metadata": {
    "colab": {
     "base_uri": "https://localhost:8080/"
    },
    "id": "D2G0yWbBoToH",
    "outputId": "d0684563-e4c7-44d4-c8f6-b4219a3d1ff8"
   },
   "outputs": [
    {
     "name": "stderr",
     "output_type": "stream",
     "text": [
      "/Users/ali/miniforge_x86_64/envs/env_python/lib/python3.11/site-packages/pytorch_tabnet/abstract_model.py:687: UserWarning: No early stopping will be performed, last training weights will be used.\n",
      "  warnings.warn(wrn_msg)\n",
      "/Users/ali/miniforge_x86_64/envs/env_python/lib/python3.11/site-packages/pytorch_tabnet/abstract_model.py:687: UserWarning: No early stopping will be performed, last training weights will be used.\n",
      "  warnings.warn(wrn_msg)\n",
      "/Users/ali/miniforge_x86_64/envs/env_python/lib/python3.11/site-packages/pytorch_tabnet/abstract_model.py:687: UserWarning: No early stopping will be performed, last training weights will be used.\n",
      "  warnings.warn(wrn_msg)\n",
      "/Users/ali/miniforge_x86_64/envs/env_python/lib/python3.11/site-packages/pytorch_tabnet/abstract_model.py:687: UserWarning: No early stopping will be performed, last training weights will be used.\n",
      "  warnings.warn(wrn_msg)\n",
      "/Users/ali/miniforge_x86_64/envs/env_python/lib/python3.11/site-packages/pytorch_tabnet/abstract_model.py:687: UserWarning: No early stopping will be performed, last training weights will be used.\n",
      "  warnings.warn(wrn_msg)\n"
     ]
    },
    {
     "name": "stdout",
     "output_type": "stream",
     "text": [
      "----TN-FA----\n",
      "SB Model:\n",
      "SB test data:\t\t  0.322 Stat Significance Test (mean, STD) 0.332 (0.0095)\n",
      "NB test data (Transfered): 0.34 Stat Significance Test (mean, STD) 0.371 (0.0184)\n"
     ]
    },
    {
     "name": "stderr",
     "output_type": "stream",
     "text": [
      "/Users/ali/miniforge_x86_64/envs/env_python/lib/python3.11/site-packages/pytorch_tabnet/abstract_model.py:687: UserWarning: No early stopping will be performed, last training weights will be used.\n",
      "  warnings.warn(wrn_msg)\n",
      "/Users/ali/miniforge_x86_64/envs/env_python/lib/python3.11/site-packages/pytorch_tabnet/abstract_model.py:687: UserWarning: No early stopping will be performed, last training weights will be used.\n",
      "  warnings.warn(wrn_msg)\n",
      "/Users/ali/miniforge_x86_64/envs/env_python/lib/python3.11/site-packages/pytorch_tabnet/abstract_model.py:687: UserWarning: No early stopping will be performed, last training weights will be used.\n",
      "  warnings.warn(wrn_msg)\n",
      "/Users/ali/miniforge_x86_64/envs/env_python/lib/python3.11/site-packages/pytorch_tabnet/abstract_model.py:687: UserWarning: No early stopping will be performed, last training weights will be used.\n",
      "  warnings.warn(wrn_msg)\n",
      "/Users/ali/miniforge_x86_64/envs/env_python/lib/python3.11/site-packages/pytorch_tabnet/abstract_model.py:687: UserWarning: No early stopping will be performed, last training weights will be used.\n",
      "  warnings.warn(wrn_msg)\n"
     ]
    },
    {
     "name": "stdout",
     "output_type": "stream",
     "text": [
      "----TN-FA----\n",
      "SB Model:\n",
      "SB test data:\t\t  0.31 Stat Significance Test (mean, STD) 0.313 (0.0056)\n",
      "CB test data (Transfered): 0.408 Stat Significance Test (mean, STD) 0.4 (0.0181)\n"
     ]
    },
    {
     "data": {
      "text/plain": [
       "([0.313, 0.0056], [0.4, 0.0181])"
      ]
     },
     "execution_count": 44,
     "metadata": {},
     "output_type": "execute_result"
    }
   ],
   "source": [
    "regr_SB = TabNetRegressor(verbose = 0, seed = 0)\n",
    "\n",
    "SB_regr_FA_NB = FA(regr_SB, Xt=targ_labeled_X_NB, yt=targ_labeled_y_NB.reshape(-1, 1), random_state=0, verbose=0)\n",
    "stat_significance_trainer_tester(SB_regr_FA_NB, SB_X_train, SB_y_train.reshape(-1, 1), SB_X_test, SB_y_test.reshape(-1, 1), NB_X_test, NB_y_test.reshape(-1, 1), source_name=\"SB\", target_name='NB', model_name='TN-FA')\n",
    "\n",
    "SB_regr_FA_CB = FA(regr_SB, Xt=targ_labeled_X_CB, yt=targ_labeled_y_CB.reshape(-1, 1), random_state=0, verbose=0)\n",
    "stat_significance_trainer_tester(SB_regr_FA_CB, SB_X_train, SB_y_train.reshape(-1, 1), SB_X_test, SB_y_test.reshape(-1, 1), CB_X_test, CB_y_test.reshape(-1, 1), source_name=\"SB\", target_name='CB', model_name='TN-FA')"
   ]
  },
  {
   "cell_type": "code",
   "execution_count": 45,
   "metadata": {
    "colab": {
     "base_uri": "https://localhost:8080/"
    },
    "id": "B2TMu8H3oToJ",
    "outputId": "079423b3-0b33-481a-c1c6-29e5b7be2240"
   },
   "outputs": [
    {
     "name": "stderr",
     "output_type": "stream",
     "text": [
      "/Users/ali/miniforge_x86_64/envs/env_python/lib/python3.11/site-packages/pytorch_tabnet/abstract_model.py:687: UserWarning: No early stopping will be performed, last training weights will be used.\n",
      "  warnings.warn(wrn_msg)\n",
      "/Users/ali/miniforge_x86_64/envs/env_python/lib/python3.11/site-packages/pytorch_tabnet/abstract_model.py:687: UserWarning: No early stopping will be performed, last training weights will be used.\n",
      "  warnings.warn(wrn_msg)\n",
      "/Users/ali/miniforge_x86_64/envs/env_python/lib/python3.11/site-packages/pytorch_tabnet/abstract_model.py:687: UserWarning: No early stopping will be performed, last training weights will be used.\n",
      "  warnings.warn(wrn_msg)\n",
      "/Users/ali/miniforge_x86_64/envs/env_python/lib/python3.11/site-packages/pytorch_tabnet/abstract_model.py:687: UserWarning: No early stopping will be performed, last training weights will be used.\n",
      "  warnings.warn(wrn_msg)\n",
      "/Users/ali/miniforge_x86_64/envs/env_python/lib/python3.11/site-packages/pytorch_tabnet/abstract_model.py:687: UserWarning: No early stopping will be performed, last training weights will be used.\n",
      "  warnings.warn(wrn_msg)\n"
     ]
    },
    {
     "name": "stdout",
     "output_type": "stream",
     "text": [
      "----TN-FA----\n",
      "NB Model:\n",
      "NB test data:\t\t  0.332 Stat Significance Test (mean, STD) 0.354 (0.0227)\n",
      "SB test data (Transfered): 0.318 Stat Significance Test (mean, STD) 0.322 (0.0112)\n"
     ]
    },
    {
     "name": "stderr",
     "output_type": "stream",
     "text": [
      "/Users/ali/miniforge_x86_64/envs/env_python/lib/python3.11/site-packages/pytorch_tabnet/abstract_model.py:687: UserWarning: No early stopping will be performed, last training weights will be used.\n",
      "  warnings.warn(wrn_msg)\n",
      "/Users/ali/miniforge_x86_64/envs/env_python/lib/python3.11/site-packages/pytorch_tabnet/abstract_model.py:687: UserWarning: No early stopping will be performed, last training weights will be used.\n",
      "  warnings.warn(wrn_msg)\n",
      "/Users/ali/miniforge_x86_64/envs/env_python/lib/python3.11/site-packages/pytorch_tabnet/abstract_model.py:687: UserWarning: No early stopping will be performed, last training weights will be used.\n",
      "  warnings.warn(wrn_msg)\n",
      "/Users/ali/miniforge_x86_64/envs/env_python/lib/python3.11/site-packages/pytorch_tabnet/abstract_model.py:687: UserWarning: No early stopping will be performed, last training weights will be used.\n",
      "  warnings.warn(wrn_msg)\n",
      "/Users/ali/miniforge_x86_64/envs/env_python/lib/python3.11/site-packages/pytorch_tabnet/abstract_model.py:687: UserWarning: No early stopping will be performed, last training weights will be used.\n",
      "  warnings.warn(wrn_msg)\n"
     ]
    },
    {
     "name": "stdout",
     "output_type": "stream",
     "text": [
      "----TN-FA----\n",
      "NB Model:\n",
      "NB test data:\t\t  0.343 Stat Significance Test (mean, STD) 0.361 (0.0136)\n",
      "CB test data (Transfered): 0.396 Stat Significance Test (mean, STD) 0.42 (0.0268)\n"
     ]
    },
    {
     "data": {
      "text/plain": [
       "([0.361, 0.0136], [0.42, 0.0268])"
      ]
     },
     "execution_count": 45,
     "metadata": {},
     "output_type": "execute_result"
    }
   ],
   "source": [
    "regr_NB = TabNetRegressor(verbose = 0, seed = 0)\n",
    "\n",
    "NB_regr_FA_SB = FA(regr_NB, Xt=targ_labeled_X_SB, yt=targ_labeled_y_SB.reshape(-1, 1), random_state=0, verbose=0)\n",
    "stat_significance_trainer_tester(NB_regr_FA_SB, NB_X_train, NB_y_train.reshape(-1, 1), NB_X_test, NB_y_test.reshape(-1, 1), SB_X_test, SB_y_test.reshape(-1, 1), source_name=\"NB\", target_name='SB', model_name='TN-FA')\n",
    "\n",
    "NB_regr_FA_CB = FA(regr_NB, Xt=targ_labeled_X_CB, yt=targ_labeled_y_CB.reshape(-1, 1), random_state=0, verbose=0)\n",
    "stat_significance_trainer_tester(NB_regr_FA_CB, NB_X_train, NB_y_train.reshape(-1, 1), NB_X_test, NB_y_test.reshape(-1, 1), CB_X_test, CB_y_test.reshape(-1, 1), source_name=\"NB\", target_name='CB', model_name='TN-FA')"
   ]
  },
  {
   "cell_type": "code",
   "execution_count": 46,
   "metadata": {
    "colab": {
     "base_uri": "https://localhost:8080/"
    },
    "id": "U6Z-Qux3oToJ",
    "outputId": "796f2fac-bdb9-4550-8763-33ffbb64dc76"
   },
   "outputs": [
    {
     "name": "stderr",
     "output_type": "stream",
     "text": [
      "/Users/ali/miniforge_x86_64/envs/env_python/lib/python3.11/site-packages/pytorch_tabnet/abstract_model.py:687: UserWarning: No early stopping will be performed, last training weights will be used.\n",
      "  warnings.warn(wrn_msg)\n",
      "/Users/ali/miniforge_x86_64/envs/env_python/lib/python3.11/site-packages/pytorch_tabnet/abstract_model.py:687: UserWarning: No early stopping will be performed, last training weights will be used.\n",
      "  warnings.warn(wrn_msg)\n",
      "/Users/ali/miniforge_x86_64/envs/env_python/lib/python3.11/site-packages/pytorch_tabnet/abstract_model.py:687: UserWarning: No early stopping will be performed, last training weights will be used.\n",
      "  warnings.warn(wrn_msg)\n",
      "/Users/ali/miniforge_x86_64/envs/env_python/lib/python3.11/site-packages/pytorch_tabnet/abstract_model.py:687: UserWarning: No early stopping will be performed, last training weights will be used.\n",
      "  warnings.warn(wrn_msg)\n",
      "/Users/ali/miniforge_x86_64/envs/env_python/lib/python3.11/site-packages/pytorch_tabnet/abstract_model.py:687: UserWarning: No early stopping will be performed, last training weights will be used.\n",
      "  warnings.warn(wrn_msg)\n"
     ]
    },
    {
     "name": "stdout",
     "output_type": "stream",
     "text": [
      "----TN-FA----\n",
      "CB Model:\n",
      "CB test data:\t\t  0.349 Stat Significance Test (mean, STD) 0.368 (0.0226)\n",
      "SB test data (Transfered): 0.324 Stat Significance Test (mean, STD) 0.333 (0.0253)\n"
     ]
    },
    {
     "name": "stderr",
     "output_type": "stream",
     "text": [
      "/Users/ali/miniforge_x86_64/envs/env_python/lib/python3.11/site-packages/pytorch_tabnet/abstract_model.py:687: UserWarning: No early stopping will be performed, last training weights will be used.\n",
      "  warnings.warn(wrn_msg)\n",
      "/Users/ali/miniforge_x86_64/envs/env_python/lib/python3.11/site-packages/pytorch_tabnet/abstract_model.py:687: UserWarning: No early stopping will be performed, last training weights will be used.\n",
      "  warnings.warn(wrn_msg)\n",
      "/Users/ali/miniforge_x86_64/envs/env_python/lib/python3.11/site-packages/pytorch_tabnet/abstract_model.py:687: UserWarning: No early stopping will be performed, last training weights will be used.\n",
      "  warnings.warn(wrn_msg)\n",
      "/Users/ali/miniforge_x86_64/envs/env_python/lib/python3.11/site-packages/pytorch_tabnet/abstract_model.py:687: UserWarning: No early stopping will be performed, last training weights will be used.\n",
      "  warnings.warn(wrn_msg)\n",
      "/Users/ali/miniforge_x86_64/envs/env_python/lib/python3.11/site-packages/pytorch_tabnet/abstract_model.py:687: UserWarning: No early stopping will be performed, last training weights will be used.\n",
      "  warnings.warn(wrn_msg)\n"
     ]
    },
    {
     "name": "stdout",
     "output_type": "stream",
     "text": [
      "----TN-FA----\n",
      "CB Model:\n",
      "CB test data:\t\t  0.35 Stat Significance Test (mean, STD) 0.379 (0.0519)\n",
      "NB test data (Transfered): 0.324 Stat Significance Test (mean, STD) 0.346 (0.0338)\n"
     ]
    },
    {
     "data": {
      "text/plain": [
       "([0.379, 0.0519], [0.346, 0.0338])"
      ]
     },
     "execution_count": 46,
     "metadata": {},
     "output_type": "execute_result"
    }
   ],
   "source": [
    "regr_CB = TabNetRegressor(verbose = 0, seed = 0)\n",
    "\n",
    "CB_regr_FA_SB = FA(regr_CB, Xt=targ_labeled_X_SB, yt=targ_labeled_y_SB.reshape(-1, 1), random_state=0, verbose=0)\n",
    "stat_significance_trainer_tester(CB_regr_FA_SB, CB_X_train, CB_y_train.reshape(-1, 1), CB_X_test, CB_y_test.reshape(-1, 1), SB_X_test, SB_y_test.reshape(-1, 1), source_name=\"CB\", target_name='SB', model_name='TN-FA')\n",
    "\n",
    "CB_regr_FA_NB = FA(regr_CB, Xt=targ_labeled_X_NB, yt=targ_labeled_y_NB.reshape(-1, 1), random_state=0, verbose=0)\n",
    "stat_significance_trainer_tester(CB_regr_FA_NB, CB_X_train, CB_y_train.reshape(-1, 1), CB_X_test, CB_y_test.reshape(-1, 1), NB_X_test, NB_y_test.reshape(-1, 1), source_name=\"CB\", target_name='NB', model_name='TN-FA')\n"
   ]
  },
  {
   "cell_type": "code",
   "execution_count": 47,
   "metadata": {
    "colab": {
     "base_uri": "https://localhost:8080/"
    },
    "id": "zRizGi3Pq48H",
    "outputId": "3e4d37db-8c53-437f-a329-a71d73c102bd"
   },
   "outputs": [],
   "source": [
    "# regr = TabNetRegressor(verbose = 0, seed = 0)\n",
    "\n",
    "# CB_regr = FA(regr, Xt=targ_labeled_X_CB, yt=targ_labeled_y_CB.reshape(-1, 1), random_state=0, verbose=0)\n",
    "# stat_significance_trainer_tester(CB_regr, CB_X_train, CB_y_train.reshape(-1, 1), CB_X_test, CB_y_test.reshape(-1, 1), CB_X_test, CB_y_test.reshape(-1, 1), source_name=\"CB\", target_name='CB', model_name='TN-FA')\n",
    "\n",
    "# NB_regr = FA(regr, Xt=targ_labeled_X_NB, yt=targ_labeled_y_NB.reshape(-1, 1), random_state=0, verbose=0)\n",
    "# stat_significance_trainer_tester(NB_regr, NB_X_train, NB_y_train.reshape(-1, 1), NB_X_test, NB_y_test.reshape(-1, 1), NB_X_test, NB_y_test.reshape(-1, 1), source_name=\"NB\", target_name='NB', model_name='TN-FA')\n",
    "\n",
    "# SB_regr = FA(regr, Xt=targ_labeled_X_SB, yt=targ_labeled_y_SB.reshape(-1, 1), random_state=0, verbose=0)\n",
    "# stat_significance_trainer_tester(SB_regr, SB_X_train, SB_y_train.reshape(-1, 1), SB_X_test, SB_y_test.reshape(-1, 1), SB_X_test, SB_y_test.reshape(-1, 1), source_name=\"SB\", target_name='SB', model_name='TN-FA')"
   ]
  },
  {
   "cell_type": "markdown",
   "metadata": {
    "id": "-fQCvQxdoUwj"
   },
   "source": [
    "### XG"
   ]
  },
  {
   "cell_type": "code",
   "execution_count": 48,
   "metadata": {
    "colab": {
     "base_uri": "https://localhost:8080/"
    },
    "id": "tqxA4nU_oUwk",
    "outputId": "8cc72d79-680b-4d8a-b87d-73b858ba167d"
   },
   "outputs": [
    {
     "name": "stdout",
     "output_type": "stream",
     "text": [
      "----XG-FA----\n",
      "SB Model:\n",
      "SB test data:\t\t  0.323 Stat Significance Test (mean, STD) 0.334 (0.0149)\n",
      "NB test data (Transfered): 0.323 Stat Significance Test (mean, STD) 0.328 (0.0074)\n",
      "----XG-FA----\n",
      "SB Model:\n",
      "SB test data:\t\t  0.353 Stat Significance Test (mean, STD) 0.345 (0.0083)\n",
      "CB test data (Transfered): 0.397 Stat Significance Test (mean, STD) 0.407 (0.0096)\n"
     ]
    },
    {
     "data": {
      "text/plain": [
       "([0.345, 0.0083], [0.407, 0.0096])"
      ]
     },
     "execution_count": 48,
     "metadata": {},
     "output_type": "execute_result"
    }
   ],
   "source": [
    "regr_SB = XGBRegressor(random_state = 0, seed = 0)\n",
    "\n",
    "SB_regr_FA_NB = FA(regr_SB, Xt=targ_labeled_X_NB, yt=targ_labeled_y_NB, random_state=0, verbose=0)\n",
    "stat_significance_trainer_tester(SB_regr_FA_NB, SB_X_train, SB_y_train, SB_X_test, SB_y_test, NB_X_test, NB_y_test, source_name=\"SB\", target_name='NB', model_name='XG-FA')\n",
    "\n",
    "SB_regr_FA_CB = FA(regr_SB, Xt=targ_labeled_X_CB, yt=targ_labeled_y_CB, random_state=0, verbose=0)\n",
    "stat_significance_trainer_tester(SB_regr_FA_CB, SB_X_train, SB_y_train, SB_X_test, SB_y_test, CB_X_test, CB_y_test, source_name=\"SB\", target_name='CB', model_name='XG-FA')"
   ]
  },
  {
   "cell_type": "code",
   "execution_count": 49,
   "metadata": {
    "colab": {
     "base_uri": "https://localhost:8080/"
    },
    "id": "_8NZqgNBoUwl",
    "outputId": "6a9a2c5b-21cd-4424-af45-5e57ef023ca6"
   },
   "outputs": [
    {
     "name": "stdout",
     "output_type": "stream",
     "text": [
      "----XG-FA----\n",
      "NB Model:\n",
      "NB test data:\t\t  0.352 Stat Significance Test (mean, STD) 0.371 (0.0158)\n",
      "SB test data (Transfered): 0.337 Stat Significance Test (mean, STD) 0.33 (0.0066)\n",
      "----XG-FA----\n",
      "NB Model:\n",
      "NB test data:\t\t  0.361 Stat Significance Test (mean, STD) 0.356 (0.0155)\n",
      "CB test data (Transfered): 0.378 Stat Significance Test (mean, STD) 0.376 (0.0079)\n"
     ]
    },
    {
     "data": {
      "text/plain": [
       "([0.356, 0.0155], [0.376, 0.0079])"
      ]
     },
     "execution_count": 49,
     "metadata": {},
     "output_type": "execute_result"
    }
   ],
   "source": [
    "regr_NB = XGBRegressor(random_state = 0, seed = 0)\n",
    "\n",
    "NB_regr_FA_SB = FA(regr_NB, Xt=targ_labeled_X_SB, yt=targ_labeled_y_SB, random_state=0, verbose=0)\n",
    "stat_significance_trainer_tester(NB_regr_FA_SB, NB_X_train, NB_y_train, NB_X_test, NB_y_test, SB_X_test, SB_y_test, source_name=\"NB\", target_name='SB', model_name='XG-FA')\n",
    "\n",
    "NB_regr_FA_CB = FA(regr_NB, Xt=targ_labeled_X_CB, yt=targ_labeled_y_CB, random_state=0, verbose=0)\n",
    "stat_significance_trainer_tester(NB_regr_FA_CB, NB_X_train, NB_y_train, NB_X_test, NB_y_test, CB_X_test, CB_y_test, source_name=\"NB\", target_name='CB', model_name='XG-FA')"
   ]
  },
  {
   "cell_type": "code",
   "execution_count": 50,
   "metadata": {
    "colab": {
     "base_uri": "https://localhost:8080/"
    },
    "id": "2rZuLmIvoUwl",
    "outputId": "80d489db-6768-446f-9d6d-b8f0305a032d"
   },
   "outputs": [
    {
     "name": "stdout",
     "output_type": "stream",
     "text": [
      "----XG-FA----\n",
      "CB Model:\n",
      "CB test data:\t\t  0.431 Stat Significance Test (mean, STD) 0.442 (0.0161)\n",
      "SB test data (Transfered): 0.331 Stat Significance Test (mean, STD) 0.333 (0.0075)\n",
      "----XG-FA----\n",
      "CB Model:\n",
      "CB test data:\t\t  0.429 Stat Significance Test (mean, STD) 0.448 (0.0198)\n",
      "NB test data (Transfered): 0.33 Stat Significance Test (mean, STD) 0.327 (0.0022)\n"
     ]
    },
    {
     "data": {
      "text/plain": [
       "([0.448, 0.0198], [0.327, 0.0022])"
      ]
     },
     "execution_count": 50,
     "metadata": {},
     "output_type": "execute_result"
    }
   ],
   "source": [
    "regr_CB = XGBRegressor(random_state = 0, seed = 0)\n",
    "\n",
    "CB_regr_FA_SB = FA(regr_CB, Xt=targ_labeled_X_SB, yt=targ_labeled_y_SB, random_state=0, verbose=0)\n",
    "stat_significance_trainer_tester(CB_regr_FA_SB, CB_X_train, CB_y_train, CB_X_test, CB_y_test, SB_X_test, SB_y_test, source_name=\"CB\", target_name='SB', model_name='XG-FA')\n",
    "\n",
    "CB_regr_FA_NB = FA(regr_CB, Xt=targ_labeled_X_NB, yt=targ_labeled_y_NB, random_state=0, verbose=0)\n",
    "stat_significance_trainer_tester(CB_regr_FA_NB, CB_X_train, CB_y_train, CB_X_test, CB_y_test, NB_X_test, NB_y_test, source_name=\"CB\", target_name='NB', model_name='XG-FA')\n"
   ]
  },
  {
   "cell_type": "code",
   "execution_count": 51,
   "metadata": {
    "colab": {
     "base_uri": "https://localhost:8080/"
    },
    "id": "2OMVxgQWq8rs",
    "outputId": "4ced2fa9-bc98-4502-dc5d-ba8028e3297a"
   },
   "outputs": [],
   "source": [
    "# regr = XGBRegressor(random_state = 0, seed = 0)\n",
    "\n",
    "# CB_regr = FA(regr, Xt=targ_labeled_X_CB, yt=targ_labeled_y_CB, random_state=0, verbose=0)\n",
    "# stat_significance_trainer_tester(CB_regr, CB_X_train, CB_y_train, CB_X_test, CB_y_test, CB_X_test, CB_y_test, source_name=\"CB\", target_name='CB', model_name='XG-FA')\n",
    "\n",
    "# NB_regr = FA(regr, Xt=targ_labeled_X_NB, yt=targ_labeled_y_NB, random_state=0, verbose=0)\n",
    "# stat_significance_trainer_tester(NB_regr, NB_X_train, NB_y_train, NB_X_test, NB_y_test, NB_X_test, NB_y_test, source_name=\"NB\", target_name='NB', model_name='XG-FA')\n",
    "\n",
    "# SB_regr = FA(regr, Xt=targ_labeled_X_SB, yt=targ_labeled_y_SB, random_state=0, verbose=0)\n",
    "# stat_significance_trainer_tester(SB_regr, SB_X_train, SB_y_train, SB_X_test, SB_y_test, SB_X_test, SB_y_test, source_name=\"SB\", target_name='SB', model_name='XG-FA')"
   ]
  },
  {
   "cell_type": "markdown",
   "metadata": {
    "id": "kR5U3G_QzqHd"
   },
   "source": [
    "## BW"
   ]
  },
  {
   "cell_type": "markdown",
   "metadata": {
    "id": "5cLrXnmjzqHf"
   },
   "source": [
    "### RF"
   ]
  },
  {
   "cell_type": "code",
   "execution_count": 52,
   "metadata": {
    "colab": {
     "base_uri": "https://localhost:8080/"
    },
    "id": "WD0rbNs9zqHf",
    "outputId": "e735bb9b-db23-4b7a-b9ef-1318ce252b16"
   },
   "outputs": [
    {
     "name": "stdout",
     "output_type": "stream",
     "text": [
      "----RF-BW----\n",
      "SB Model:\n",
      "SB test data:\t\t  0.306 Stat Significance Test (mean, STD) 0.308 (0.0032)\n",
      "NB test data (Transfered): 0.331 Stat Significance Test (mean, STD) 0.333 (0.0052)\n",
      "----RF-BW----\n",
      "SB Model:\n",
      "SB test data:\t\t  0.309 Stat Significance Test (mean, STD) 0.311 (0.0044)\n",
      "CB test data (Transfered): 0.424 Stat Significance Test (mean, STD) 0.426 (0.0115)\n"
     ]
    },
    {
     "data": {
      "text/plain": [
       "([0.311, 0.0044], [0.426, 0.0115])"
      ]
     },
     "execution_count": 52,
     "metadata": {},
     "output_type": "execute_result"
    }
   ],
   "source": [
    "regr_SB = RandomForestRegressor(**rf_SB_best_params)\n",
    "\n",
    "SB_regr_FA_NB = BalancedWeighting(regr_SB, Xt=targ_labeled_X_NB, yt=targ_labeled_y_NB, random_state=0, verbose=0)\n",
    "stat_significance_trainer_tester(SB_regr_FA_NB, SB_X_train, SB_y_train, SB_X_test, SB_y_test, NB_X_test, NB_y_test, source_name=\"SB\", target_name='NB', model_name='RF-BW')\n",
    "\n",
    "SB_regr_FA_CB = BalancedWeighting(regr_SB, Xt=targ_labeled_X_CB, yt=targ_labeled_y_CB, random_state=0, verbose=0)\n",
    "stat_significance_trainer_tester(SB_regr_FA_CB, SB_X_train, SB_y_train, SB_X_test, SB_y_test, CB_X_test, CB_y_test, source_name=\"SB\", target_name='CB', model_name='RF-BW')"
   ]
  },
  {
   "cell_type": "code",
   "execution_count": 53,
   "metadata": {
    "colab": {
     "base_uri": "https://localhost:8080/"
    },
    "id": "jofn-tlvzqHg",
    "outputId": "972ede65-2522-464e-ba56-edfc9793df4e"
   },
   "outputs": [
    {
     "name": "stdout",
     "output_type": "stream",
     "text": [
      "----RF-BW----\n",
      "NB Model:\n",
      "NB test data:\t\t  0.324 Stat Significance Test (mean, STD) 0.327 (0.0024)\n",
      "SB test data (Transfered): 0.308 Stat Significance Test (mean, STD) 0.309 (0.0016)\n",
      "----RF-BW----\n",
      "NB Model:\n",
      "NB test data:\t\t  0.32 Stat Significance Test (mean, STD) 0.321 (0.0009)\n",
      "CB test data (Transfered): 0.388 Stat Significance Test (mean, STD) 0.389 (0.0026)\n"
     ]
    },
    {
     "data": {
      "text/plain": [
       "([0.321, 0.0009], [0.389, 0.0026])"
      ]
     },
     "execution_count": 53,
     "metadata": {},
     "output_type": "execute_result"
    }
   ],
   "source": [
    "regr_NB = RandomForestRegressor(**rf_NB_best_params)\n",
    "\n",
    "NB_regr_FA_SB = BalancedWeighting(regr_NB, Xt=targ_labeled_X_SB, yt=targ_labeled_y_SB, random_state=0, verbose=0)\n",
    "stat_significance_trainer_tester(NB_regr_FA_SB, NB_X_train, NB_y_train, NB_X_test, NB_y_test, SB_X_test, SB_y_test, source_name=\"NB\", target_name='SB', model_name='RF-BW')\n",
    "\n",
    "NB_regr_FA_CB = BalancedWeighting(regr_NB, Xt=targ_labeled_X_CB, yt=targ_labeled_y_CB, random_state=0, verbose=0)\n",
    "stat_significance_trainer_tester(NB_regr_FA_CB, NB_X_train, NB_y_train, NB_X_test, NB_y_test, CB_X_test, CB_y_test, source_name=\"NB\", target_name='CB', model_name='RF-BW')"
   ]
  },
  {
   "cell_type": "code",
   "execution_count": 54,
   "metadata": {
    "colab": {
     "base_uri": "https://localhost:8080/"
    },
    "id": "09sNH2xazqHg",
    "outputId": "f5747e4a-dbc2-4980-c755-227facc92fa7"
   },
   "outputs": [
    {
     "name": "stdout",
     "output_type": "stream",
     "text": [
      "----RF-BW----\n",
      "CB Model:\n",
      "CB test data:\t\t  0.361 Stat Significance Test (mean, STD) 0.368 (0.0107)\n",
      "SB test data (Transfered): 0.3 Stat Significance Test (mean, STD) 0.3 (0.0006)\n",
      "----RF-BW----\n",
      "CB Model:\n",
      "CB test data:\t\t  0.361 Stat Significance Test (mean, STD) 0.368 (0.0141)\n",
      "NB test data (Transfered): 0.312 Stat Significance Test (mean, STD) 0.313 (0.0032)\n"
     ]
    },
    {
     "data": {
      "text/plain": [
       "([0.368, 0.0141], [0.313, 0.0032])"
      ]
     },
     "execution_count": 54,
     "metadata": {},
     "output_type": "execute_result"
    }
   ],
   "source": [
    "regr_CB = RandomForestRegressor(**rf_CB_best_params)\n",
    "\n",
    "CB_regr_FA_SB = BalancedWeighting(regr_CB, Xt=targ_labeled_X_SB, yt=targ_labeled_y_SB, random_state=0, verbose=0)\n",
    "stat_significance_trainer_tester(CB_regr_FA_SB, CB_X_train, CB_y_train, CB_X_test, CB_y_test, SB_X_test, SB_y_test, source_name=\"CB\", target_name='SB', model_name='RF-BW')\n",
    "\n",
    "CB_regr_FA_NB = BalancedWeighting(regr_CB, Xt=targ_labeled_X_NB, yt=targ_labeled_y_NB, random_state=0, verbose=0)\n",
    "stat_significance_trainer_tester(CB_regr_FA_NB, CB_X_train, CB_y_train, CB_X_test, CB_y_test, NB_X_test, NB_y_test, source_name=\"CB\", target_name='NB', model_name='RF-BW')\n"
   ]
  },
  {
   "cell_type": "code",
   "execution_count": 55,
   "metadata": {
    "colab": {
     "base_uri": "https://localhost:8080/"
    },
    "id": "358EF8cHzqHg",
    "outputId": "024d02ce-82c2-414e-8427-362dd6359423"
   },
   "outputs": [],
   "source": [
    "# regr = RandomForestRegressor(random_state=0, max_depth=100, max_features=3, min_samples_leaf=3, min_samples_split=8, n_estimators=1000)\n",
    "\n",
    "# CB_regr = BalancedWeighting(regr, Xt=targ_labeled_X_CB, yt=targ_labeled_y_CB, random_state=0, verbose=0)\n",
    "# stat_significance_trainer_tester(CB_regr, CB_X_train, CB_y_train, CB_X_test, CB_y_test, CB_X_test, CB_y_test, source_name=\"CB\", target_name='CB', model_name='RF-BW')\n",
    "\n",
    "# NB_regr = BalancedWeighting(regr, Xt=targ_labeled_X_NB, yt=targ_labeled_y_NB, random_state=0, verbose=0)\n",
    "# stat_significance_trainer_tester(NB_regr, NB_X_train, NB_y_train, NB_X_test, NB_y_test, NB_X_test, NB_y_test, source_name=\"NB\", target_name='NB', model_name='RF-BW')\n",
    "\n",
    "# SB_regr = BalancedWeighting(regr, Xt=targ_labeled_X_SB, yt=targ_labeled_y_SB, random_state=0, verbose=0)\n",
    "# stat_significance_trainer_tester(SB_regr, SB_X_train, SB_y_train, SB_X_test, SB_y_test, SB_X_test, SB_y_test, source_name=\"SB\", target_name='SB', model_name='RF-BW')"
   ]
  },
  {
   "cell_type": "markdown",
   "metadata": {
    "id": "FuZinN3bzqHh"
   },
   "source": [
    "### TN"
   ]
  },
  {
   "cell_type": "code",
   "execution_count": 56,
   "metadata": {
    "colab": {
     "base_uri": "https://localhost:8080/"
    },
    "id": "VdWS1h8xzqHi",
    "outputId": "33de9015-ef28-41b5-e5a3-2b8fe66501c7"
   },
   "outputs": [
    {
     "name": "stdout",
     "output_type": "stream",
     "text": [
      "----TN-BW----\n",
      "SB Model:\n",
      "SB test data:\t\t  0.357 Stat Significance Test (mean, STD) 0.34 (0.0124)\n",
      "NB test data (Transfered): 0.398 Stat Significance Test (mean, STD) 0.38 (0.0147)\n",
      "----TN-BW----\n",
      "SB Model:\n",
      "SB test data:\t\t  0.323 Stat Significance Test (mean, STD) 0.32 (0.007)\n",
      "CB test data (Transfered): 0.41 Stat Significance Test (mean, STD) 0.391 (0.0146)\n"
     ]
    },
    {
     "data": {
      "text/plain": [
       "([0.32, 0.007], [0.391, 0.0146])"
      ]
     },
     "execution_count": 56,
     "metadata": {},
     "output_type": "execute_result"
    }
   ],
   "source": [
    "regr_SB = TabNetRegressor(verbose = 0, seed = 0)\n",
    "\n",
    "SB_regr_FA_NB = BalancedWeighting(regr_SB, Xt=targ_labeled_X_NB, yt=targ_labeled_y_NB.reshape(-1, 1), random_state=0, verbose=0)\n",
    "stat_significance_trainer_tester(SB_regr_FA_NB, SB_X_train, SB_y_train.reshape(-1, 1), SB_X_test, SB_y_test.reshape(-1, 1), NB_X_test, NB_y_test.reshape(-1, 1), source_name=\"SB\", target_name='NB', model_name='TN-BW')\n",
    "\n",
    "SB_regr_FA_CB = BalancedWeighting(regr_SB, Xt=targ_labeled_X_CB, yt=targ_labeled_y_CB.reshape(-1, 1), random_state=0, verbose=0)\n",
    "stat_significance_trainer_tester(SB_regr_FA_CB, SB_X_train, SB_y_train.reshape(-1, 1), SB_X_test, SB_y_test.reshape(-1, 1), CB_X_test, CB_y_test.reshape(-1, 1), source_name=\"SB\", target_name='CB', model_name='TN-BW')"
   ]
  },
  {
   "cell_type": "code",
   "execution_count": 57,
   "metadata": {
    "colab": {
     "base_uri": "https://localhost:8080/"
    },
    "id": "UeSsCOUlzqHi",
    "outputId": "7005710f-2320-45fb-e19c-16b1f34112ee"
   },
   "outputs": [
    {
     "name": "stdout",
     "output_type": "stream",
     "text": [
      "----TN-BW----\n",
      "NB Model:\n",
      "NB test data:\t\t  0.436 Stat Significance Test (mean, STD) 0.395 (0.0274)\n",
      "SB test data (Transfered): 0.396 Stat Significance Test (mean, STD) 0.353 (0.0266)\n",
      "----TN-BW----\n",
      "NB Model:\n",
      "NB test data:\t\t  0.385 Stat Significance Test (mean, STD) 0.352 (0.0198)\n",
      "CB test data (Transfered): 0.448 Stat Significance Test (mean, STD) 0.397 (0.0315)\n"
     ]
    },
    {
     "data": {
      "text/plain": [
       "([0.352, 0.0198], [0.397, 0.0315])"
      ]
     },
     "execution_count": 57,
     "metadata": {},
     "output_type": "execute_result"
    }
   ],
   "source": [
    "regr_NB = TabNetRegressor(verbose = 0, seed = 0)\n",
    "\n",
    "NB_regr_FA_SB = BalancedWeighting(regr_NB, Xt=targ_labeled_X_SB, yt=targ_labeled_y_SB.reshape(-1, 1), random_state=0, verbose=0)\n",
    "stat_significance_trainer_tester(NB_regr_FA_SB, NB_X_train, NB_y_train.reshape(-1, 1), NB_X_test, NB_y_test.reshape(-1, 1), SB_X_test, SB_y_test.reshape(-1, 1), source_name=\"NB\", target_name='SB', model_name='TN-BW')\n",
    "\n",
    "NB_regr_FA_CB = BalancedWeighting(regr_NB, Xt=targ_labeled_X_CB, yt=targ_labeled_y_CB.reshape(-1, 1), random_state=0, verbose=0)\n",
    "stat_significance_trainer_tester(NB_regr_FA_CB, NB_X_train, NB_y_train.reshape(-1, 1), NB_X_test, NB_y_test.reshape(-1, 1), CB_X_test, CB_y_test.reshape(-1, 1), source_name=\"NB\", target_name='CB', model_name='TN-BW')"
   ]
  },
  {
   "cell_type": "code",
   "execution_count": 58,
   "metadata": {
    "colab": {
     "base_uri": "https://localhost:8080/"
    },
    "id": "6ndQDd9CzqHi",
    "outputId": "03e66643-176e-4c26-e54a-165366058f3b"
   },
   "outputs": [
    {
     "name": "stdout",
     "output_type": "stream",
     "text": [
      "----TN-BW----\n",
      "CB Model:\n",
      "CB test data:\t\t  0.363 Stat Significance Test (mean, STD) 0.384 (0.0236)\n",
      "SB test data (Transfered): 0.324 Stat Significance Test (mean, STD) 0.316 (0.005)\n",
      "----TN-BW----\n",
      "CB Model:\n",
      "CB test data:\t\t  0.392 Stat Significance Test (mean, STD) 0.385 (0.0127)\n",
      "NB test data (Transfered): 0.345 Stat Significance Test (mean, STD) 0.337 (0.011)\n"
     ]
    },
    {
     "data": {
      "text/plain": [
       "([0.385, 0.0127], [0.337, 0.011])"
      ]
     },
     "execution_count": 58,
     "metadata": {},
     "output_type": "execute_result"
    }
   ],
   "source": [
    "regr_CB = TabNetRegressor(verbose = 0, seed = 0)\n",
    "\n",
    "CB_regr_FA_SB = BalancedWeighting(regr_CB, Xt=targ_labeled_X_SB, yt=targ_labeled_y_SB.reshape(-1, 1), random_state=0, verbose=0)\n",
    "stat_significance_trainer_tester(CB_regr_FA_SB, CB_X_train, CB_y_train.reshape(-1, 1), CB_X_test, CB_y_test.reshape(-1, 1), SB_X_test, SB_y_test.reshape(-1, 1), source_name=\"CB\", target_name='SB', model_name='TN-BW')\n",
    "\n",
    "CB_regr_FA_NB = BalancedWeighting(regr_CB, Xt=targ_labeled_X_NB, yt=targ_labeled_y_NB.reshape(-1, 1), random_state=0, verbose=0)\n",
    "stat_significance_trainer_tester(CB_regr_FA_NB, CB_X_train, CB_y_train.reshape(-1, 1), CB_X_test, CB_y_test.reshape(-1, 1), NB_X_test, NB_y_test.reshape(-1, 1), source_name=\"CB\", target_name='NB', model_name='TN-BW')\n"
   ]
  },
  {
   "cell_type": "code",
   "execution_count": 59,
   "metadata": {
    "colab": {
     "base_uri": "https://localhost:8080/"
    },
    "id": "EXVTeIfczqHj",
    "outputId": "a22fcf2f-d08b-47ea-90ed-20b7d98544af"
   },
   "outputs": [],
   "source": [
    "# regr = TabNetRegressor(verbose = 0, seed = 0)\n",
    "\n",
    "# CB_regr = BalancedWeighting(regr, Xt=targ_labeled_X_CB, yt=targ_labeled_y_CB.reshape(-1, 1), random_state=0, verbose=0)\n",
    "# stat_significance_trainer_tester(CB_regr, CB_X_train, CB_y_train.reshape(-1, 1), CB_X_test, CB_y_test.reshape(-1, 1), CB_X_test, CB_y_test.reshape(-1, 1), source_name=\"CB\", target_name='CB', model_name='TN-BW')\n",
    "\n",
    "# NB_regr = BalancedWeighting(regr, Xt=targ_labeled_X_NB, yt=targ_labeled_y_NB.reshape(-1, 1), random_state=0, verbose=0)\n",
    "# stat_significance_trainer_tester(NB_regr, NB_X_train, NB_y_train.reshape(-1, 1), NB_X_test, NB_y_test.reshape(-1, 1), NB_X_test, NB_y_test.reshape(-1, 1), source_name=\"NB\", target_name='NB', model_name='TN-BW')\n",
    "\n",
    "# SB_regr = BalancedWeighting(regr, Xt=targ_labeled_X_SB, yt=targ_labeled_y_SB.reshape(-1, 1), random_state=0, verbose=0)\n",
    "# stat_significance_trainer_tester(SB_regr, SB_X_train, SB_y_train.reshape(-1, 1), SB_X_test, SB_y_test.reshape(-1, 1), SB_X_test, SB_y_test.reshape(-1, 1), source_name=\"SB\", target_name='SB', model_name='TN-BW')"
   ]
  },
  {
   "cell_type": "markdown",
   "metadata": {
    "id": "jO1a2CadzqHj"
   },
   "source": [
    "### XG"
   ]
  },
  {
   "cell_type": "code",
   "execution_count": 60,
   "metadata": {
    "colab": {
     "base_uri": "https://localhost:8080/"
    },
    "id": "tHzWfcC-zqHj",
    "outputId": "1aad4814-993a-4f17-c973-ab36b08f4ef0"
   },
   "outputs": [
    {
     "name": "stdout",
     "output_type": "stream",
     "text": [
      "----XG-BW----\n",
      "SB Model:\n",
      "SB test data:\t\t  0.329 Stat Significance Test (mean, STD) 0.335 (0.0042)\n",
      "NB test data (Transfered): 0.344 Stat Significance Test (mean, STD) 0.348 (0.007)\n",
      "----XG-BW----\n",
      "SB Model:\n",
      "SB test data:\t\t  0.353 Stat Significance Test (mean, STD) 0.361 (0.0182)\n",
      "CB test data (Transfered): 0.419 Stat Significance Test (mean, STD) 0.449 (0.0251)\n"
     ]
    },
    {
     "data": {
      "text/plain": [
       "([0.361, 0.0182], [0.449, 0.0251])"
      ]
     },
     "execution_count": 60,
     "metadata": {},
     "output_type": "execute_result"
    }
   ],
   "source": [
    "regr_SB = XGBRegressor(random_state = 0, seed = 0)\n",
    "\n",
    "SB_regr_FA_NB = BalancedWeighting(regr_SB, Xt=targ_labeled_X_NB, yt=targ_labeled_y_NB, random_state=0, verbose=0)\n",
    "stat_significance_trainer_tester(SB_regr_FA_NB, SB_X_train, SB_y_train, SB_X_test, SB_y_test, NB_X_test, NB_y_test, source_name=\"SB\", target_name='NB', model_name='XG-BW')\n",
    "\n",
    "SB_regr_FA_CB = BalancedWeighting(regr_SB, Xt=targ_labeled_X_CB, yt=targ_labeled_y_CB, random_state=0, verbose=0)\n",
    "stat_significance_trainer_tester(SB_regr_FA_CB, SB_X_train, SB_y_train, SB_X_test, SB_y_test, CB_X_test, CB_y_test, source_name=\"SB\", target_name='CB', model_name='XG-BW')"
   ]
  },
  {
   "cell_type": "code",
   "execution_count": 61,
   "metadata": {
    "colab": {
     "base_uri": "https://localhost:8080/"
    },
    "id": "pqEg0Eo-zqHj",
    "outputId": "690c7102-53eb-415f-98e8-22c6320c7da0"
   },
   "outputs": [
    {
     "name": "stdout",
     "output_type": "stream",
     "text": [
      "----XG-BW----\n",
      "NB Model:\n",
      "NB test data:\t\t  0.355 Stat Significance Test (mean, STD) 0.341 (0.0134)\n",
      "SB test data (Transfered): 0.336 Stat Significance Test (mean, STD) 0.336 (0.0065)\n",
      "----XG-BW----\n",
      "NB Model:\n",
      "NB test data:\t\t  0.333 Stat Significance Test (mean, STD) 0.344 (0.0174)\n",
      "CB test data (Transfered): 0.374 Stat Significance Test (mean, STD) 0.401 (0.0162)\n"
     ]
    },
    {
     "data": {
      "text/plain": [
       "([0.344, 0.0174], [0.401, 0.0162])"
      ]
     },
     "execution_count": 61,
     "metadata": {},
     "output_type": "execute_result"
    }
   ],
   "source": [
    "regr_NB = XGBRegressor(random_state = 0, seed = 0)\n",
    "\n",
    "NB_regr_FA_SB = BalancedWeighting(regr_NB, Xt=targ_labeled_X_SB, yt=targ_labeled_y_SB, random_state=0, verbose=0)\n",
    "stat_significance_trainer_tester(NB_regr_FA_SB, NB_X_train, NB_y_train, NB_X_test, NB_y_test, SB_X_test, SB_y_test, source_name=\"NB\", target_name='SB', model_name='XG-BW')\n",
    "\n",
    "NB_regr_FA_CB = BalancedWeighting(regr_NB, Xt=targ_labeled_X_CB, yt=targ_labeled_y_CB, random_state=0, verbose=0)\n",
    "stat_significance_trainer_tester(NB_regr_FA_CB, NB_X_train, NB_y_train, NB_X_test, NB_y_test, CB_X_test, CB_y_test, source_name=\"NB\", target_name='CB', model_name='XG-BW')"
   ]
  },
  {
   "cell_type": "code",
   "execution_count": 62,
   "metadata": {
    "colab": {
     "base_uri": "https://localhost:8080/"
    },
    "id": "7jIBjELjzqHj",
    "outputId": "354c6efe-bddf-4f7a-cc25-c79b5194c50e"
   },
   "outputs": [
    {
     "name": "stdout",
     "output_type": "stream",
     "text": [
      "----XG-BW----\n",
      "CB Model:\n",
      "CB test data:\t\t  0.389 Stat Significance Test (mean, STD) 0.384 (0.0055)\n",
      "SB test data (Transfered): 0.346 Stat Significance Test (mean, STD) 0.342 (0.0077)\n",
      "----XG-BW----\n",
      "CB Model:\n",
      "CB test data:\t\t  0.388 Stat Significance Test (mean, STD) 0.412 (0.0246)\n",
      "NB test data (Transfered): 0.357 Stat Significance Test (mean, STD) 0.343 (0.0074)\n"
     ]
    },
    {
     "data": {
      "text/plain": [
       "([0.412, 0.0246], [0.343, 0.0074])"
      ]
     },
     "execution_count": 62,
     "metadata": {},
     "output_type": "execute_result"
    }
   ],
   "source": [
    "regr_CB = XGBRegressor(random_state = 0, seed = 0)\n",
    "\n",
    "CB_regr_FA_SB = BalancedWeighting(regr_CB, Xt=targ_labeled_X_SB, yt=targ_labeled_y_SB, random_state=0, verbose=0)\n",
    "stat_significance_trainer_tester(CB_regr_FA_SB, CB_X_train, CB_y_train, CB_X_test, CB_y_test, SB_X_test, SB_y_test, source_name=\"CB\", target_name='SB', model_name='XG-BW')\n",
    "\n",
    "CB_regr_FA_NB = BalancedWeighting(regr_CB, Xt=targ_labeled_X_NB, yt=targ_labeled_y_NB, random_state=0, verbose=0)\n",
    "stat_significance_trainer_tester(CB_regr_FA_NB, CB_X_train, CB_y_train, CB_X_test, CB_y_test, NB_X_test, NB_y_test, source_name=\"CB\", target_name='NB', model_name='XG-BW')\n"
   ]
  },
  {
   "cell_type": "code",
   "execution_count": 63,
   "metadata": {
    "colab": {
     "base_uri": "https://localhost:8080/"
    },
    "id": "Dsc2LcGvzqHk",
    "outputId": "092d8e78-2fc1-4a77-e03b-14d75203c7b4"
   },
   "outputs": [],
   "source": [
    "# regr = XGBRegressor(random_state = 0, seed = 0)\n",
    "\n",
    "# CB_regr = BalancedWeighting(regr, Xt=targ_labeled_X_CB, yt=targ_labeled_y_CB, random_state=0, verbose=0)\n",
    "# stat_significance_trainer_tester(CB_regr, CB_X_train, CB_y_train, CB_X_test, CB_y_test, CB_X_test, CB_y_test, source_name=\"CB\", target_name='CB', model_name='XG-BW')\n",
    "\n",
    "# NB_regr = BalancedWeighting(regr, Xt=targ_labeled_X_NB, yt=targ_labeled_y_NB, random_state=0, verbose=0)\n",
    "# stat_significance_trainer_tester(NB_regr, NB_X_train, NB_y_train, NB_X_test, NB_y_test, NB_X_test, NB_y_test, source_name=\"NB\", target_name='NB', model_name='XG-BW')\n",
    "\n",
    "# SB_regr = BalancedWeighting(regr, Xt=targ_labeled_X_SB, yt=targ_labeled_y_SB, random_state=0, verbose=0)\n",
    "# stat_significance_trainer_tester(SB_regr, SB_X_train, SB_y_train, SB_X_test, SB_y_test, SB_X_test, SB_y_test, source_name=\"SB\", target_name='SB', model_name='XG-BW')"
   ]
  },
  {
   "cell_type": "markdown",
   "metadata": {
    "id": "Ehg_5AxK08hR"
   },
   "source": [
    "## CORAL"
   ]
  },
  {
   "cell_type": "markdown",
   "metadata": {
    "id": "qf-u2wlg08hU"
   },
   "source": [
    "### RF"
   ]
  },
  {
   "cell_type": "code",
   "execution_count": 64,
   "metadata": {
    "colab": {
     "base_uri": "https://localhost:8080/"
    },
    "id": "kDgzOAcX08hV",
    "outputId": "b1435aa6-b6e3-488a-98b6-550af64d4c85"
   },
   "outputs": [
    {
     "name": "stdout",
     "output_type": "stream",
     "text": [
      "----RF-CORAL----\n",
      "SB Model:\n",
      "SB test data:\t\t  0.314 Stat Significance Test (mean, STD) 0.319 (0.0176)\n",
      "NB test data (Transfered): 0.357 Stat Significance Test (mean, STD) 0.367 (0.0292)\n",
      "----RF-CORAL----\n",
      "SB Model:\n",
      "SB test data:\t\t  0.329 Stat Significance Test (mean, STD) 0.33 (0.0202)\n",
      "CB test data (Transfered): 0.477 Stat Significance Test (mean, STD) 0.48 (0.0453)\n"
     ]
    },
    {
     "data": {
      "text/plain": [
       "([0.33, 0.0202], [0.48, 0.0453])"
      ]
     },
     "execution_count": 64,
     "metadata": {},
     "output_type": "execute_result"
    }
   ],
   "source": [
    "regr_SB = RandomForestRegressor(**rf_SB_best_params)\n",
    "\n",
    "SB_regr_FA_NB = CORAL(regr_SB, Xt=NB_X_train, random_state=0, verbose=0)\n",
    "stat_significance_trainer_tester(SB_regr_FA_NB, SB_X_train, SB_y_train, SB_X_test, SB_y_test, NB_X_test, NB_y_test, source_name=\"SB\", target_name='NB', model_name='RF-CORAL')\n",
    "\n",
    "SB_regr_FA_CB = CORAL(regr_SB, Xt=CB_X_train, random_state=0, verbose=0)\n",
    "stat_significance_trainer_tester(SB_regr_FA_CB, SB_X_train, SB_y_train, SB_X_test, SB_y_test, CB_X_test, CB_y_test, source_name=\"SB\", target_name='CB', model_name='RF-CORAL')"
   ]
  },
  {
   "cell_type": "code",
   "execution_count": 65,
   "metadata": {
    "colab": {
     "base_uri": "https://localhost:8080/"
    },
    "id": "23gtR-F708hV",
    "outputId": "4de1685b-fe15-4030-841d-f08bc9785c1b"
   },
   "outputs": [
    {
     "name": "stdout",
     "output_type": "stream",
     "text": [
      "----RF-CORAL----\n",
      "NB Model:\n",
      "NB test data:\t\t  0.351 Stat Significance Test (mean, STD) 0.36 (0.0293)\n",
      "SB test data (Transfered): 0.322 Stat Significance Test (mean, STD) 0.331 (0.0166)\n",
      "----RF-CORAL----\n",
      "NB Model:\n",
      "NB test data:\t\t  0.364 Stat Significance Test (mean, STD) 0.374 (0.0368)\n",
      "CB test data (Transfered): 0.47 Stat Significance Test (mean, STD) 0.476 (0.0533)\n"
     ]
    },
    {
     "data": {
      "text/plain": [
       "([0.374, 0.0368], [0.476, 0.0533])"
      ]
     },
     "execution_count": 65,
     "metadata": {},
     "output_type": "execute_result"
    }
   ],
   "source": [
    "regr_NB = RandomForestRegressor(**rf_NB_best_params)\n",
    "\n",
    "NB_regr_FA_SB = CORAL(regr_NB, Xt=SB_X_train, random_state=0, verbose=0)\n",
    "stat_significance_trainer_tester(NB_regr_FA_SB, NB_X_train, NB_y_train, NB_X_test, NB_y_test, SB_X_test, SB_y_test, source_name=\"NB\", target_name='SB', model_name='RF-CORAL')\n",
    "\n",
    "NB_regr_FA_CB = CORAL(regr_NB, Xt=CB_X_train, random_state=0, verbose=0)\n",
    "stat_significance_trainer_tester(NB_regr_FA_CB, NB_X_train, NB_y_train, NB_X_test, NB_y_test, CB_X_test, CB_y_test, source_name=\"NB\", target_name='CB', model_name='RF-CORAL')"
   ]
  },
  {
   "cell_type": "code",
   "execution_count": 66,
   "metadata": {
    "colab": {
     "base_uri": "https://localhost:8080/"
    },
    "id": "h6xeBICG08hW",
    "outputId": "9de239ed-2b67-4531-b6cc-b2191703b837"
   },
   "outputs": [
    {
     "name": "stdout",
     "output_type": "stream",
     "text": [
      "----RF-CORAL----\n",
      "CB Model:\n",
      "CB test data:\t\t  0.352 Stat Significance Test (mean, STD) 0.354 (0.0147)\n",
      "SB test data (Transfered): 0.328 Stat Significance Test (mean, STD) 0.328 (0.0092)\n",
      "----RF-CORAL----\n",
      "CB Model:\n",
      "CB test data:\t\t  0.352 Stat Significance Test (mean, STD) 0.36 (0.0167)\n",
      "NB test data (Transfered): 0.324 Stat Significance Test (mean, STD) 0.329 (0.0039)\n"
     ]
    },
    {
     "data": {
      "text/plain": [
       "([0.36, 0.0167], [0.329, 0.0039])"
      ]
     },
     "execution_count": 66,
     "metadata": {},
     "output_type": "execute_result"
    }
   ],
   "source": [
    "regr_CB = RandomForestRegressor(**rf_CB_best_params)\n",
    "\n",
    "CB_regr_FA_SB = CORAL(regr_CB, Xt=SB_X_train, random_state=0, verbose=0)\n",
    "stat_significance_trainer_tester(CB_regr_FA_SB, CB_X_train, CB_y_train, CB_X_test, CB_y_test, SB_X_test, SB_y_test, source_name=\"CB\", target_name='SB', model_name='RF-CORAL')\n",
    "\n",
    "CB_regr_FA_NB = CORAL(regr_CB, Xt=NB_X_train, random_state=0, verbose=0)\n",
    "stat_significance_trainer_tester(CB_regr_FA_NB, CB_X_train, CB_y_train, CB_X_test, CB_y_test, NB_X_test, NB_y_test, source_name=\"CB\", target_name='NB', model_name='RF-CORAL')\n"
   ]
  },
  {
   "cell_type": "code",
   "execution_count": 67,
   "metadata": {
    "colab": {
     "base_uri": "https://localhost:8080/"
    },
    "id": "rni85K2D08hW",
    "outputId": "c6b96c30-15f5-403e-f91a-a41dfc1afcf7"
   },
   "outputs": [],
   "source": [
    "# regr = RandomForestRegressor(random_state=0, max_depth=100, max_features=3, min_samples_leaf=3, min_samples_split=8, n_estimators=1000)\n",
    "\n",
    "# CB_regr = CORAL(regr, Xt=CB_X_train, random_state=0, verbose=0)\n",
    "# stat_significance_trainer_tester(CB_regr, CB_X_train, CB_y_train, CB_X_test, CB_y_test, CB_X_test, CB_y_test, source_name=\"CB\", target_name='CB', model_name='RF-CORAL')\n",
    "\n",
    "# NB_regr = CORAL(regr, Xt=NB_X_train, random_state=0, verbose=0)\n",
    "# stat_significance_trainer_tester(NB_regr, NB_X_train, NB_y_train, NB_X_test, NB_y_test, NB_X_test, NB_y_test, source_name=\"NB\", target_name='NB', model_name='RF-CORAL')\n",
    "\n",
    "# SB_regr = CORAL(regr, Xt=SB_X_train, random_state=0, verbose=0)\n",
    "# stat_significance_trainer_tester(SB_regr, SB_X_train, SB_y_train, SB_X_test, SB_y_test, SB_X_test, SB_y_test, source_name=\"SB\", target_name='SB', model_name='RF-CORAL')"
   ]
  },
  {
   "cell_type": "markdown",
   "metadata": {
    "id": "c4sGaCAA08hW"
   },
   "source": [
    "### TN"
   ]
  },
  {
   "cell_type": "code",
   "execution_count": 68,
   "metadata": {
    "colab": {
     "base_uri": "https://localhost:8080/"
    },
    "id": "5i28Lumd08hW",
    "outputId": "3a4728e8-8ebd-4a68-eac7-6e7b3b205922"
   },
   "outputs": [
    {
     "name": "stderr",
     "output_type": "stream",
     "text": [
      "/Users/ali/miniforge_x86_64/envs/env_python/lib/python3.11/site-packages/pytorch_tabnet/abstract_model.py:687: UserWarning: No early stopping will be performed, last training weights will be used.\n",
      "  warnings.warn(wrn_msg)\n",
      "/Users/ali/miniforge_x86_64/envs/env_python/lib/python3.11/site-packages/pytorch_tabnet/abstract_model.py:687: UserWarning: No early stopping will be performed, last training weights will be used.\n",
      "  warnings.warn(wrn_msg)\n",
      "/Users/ali/miniforge_x86_64/envs/env_python/lib/python3.11/site-packages/pytorch_tabnet/abstract_model.py:687: UserWarning: No early stopping will be performed, last training weights will be used.\n",
      "  warnings.warn(wrn_msg)\n",
      "/Users/ali/miniforge_x86_64/envs/env_python/lib/python3.11/site-packages/pytorch_tabnet/abstract_model.py:687: UserWarning: No early stopping will be performed, last training weights will be used.\n",
      "  warnings.warn(wrn_msg)\n",
      "/Users/ali/miniforge_x86_64/envs/env_python/lib/python3.11/site-packages/pytorch_tabnet/abstract_model.py:687: UserWarning: No early stopping will be performed, last training weights will be used.\n",
      "  warnings.warn(wrn_msg)\n"
     ]
    },
    {
     "name": "stdout",
     "output_type": "stream",
     "text": [
      "----TN-CORAL----\n",
      "SB Model:\n",
      "SB test data:\t\t  0.377 Stat Significance Test (mean, STD) 0.333 (0.023)\n",
      "NB test data (Transfered): 0.441 Stat Significance Test (mean, STD) 0.386 (0.0323)\n"
     ]
    },
    {
     "name": "stderr",
     "output_type": "stream",
     "text": [
      "/Users/ali/miniforge_x86_64/envs/env_python/lib/python3.11/site-packages/pytorch_tabnet/abstract_model.py:687: UserWarning: No early stopping will be performed, last training weights will be used.\n",
      "  warnings.warn(wrn_msg)\n",
      "/Users/ali/miniforge_x86_64/envs/env_python/lib/python3.11/site-packages/pytorch_tabnet/abstract_model.py:687: UserWarning: No early stopping will be performed, last training weights will be used.\n",
      "  warnings.warn(wrn_msg)\n",
      "/Users/ali/miniforge_x86_64/envs/env_python/lib/python3.11/site-packages/pytorch_tabnet/abstract_model.py:687: UserWarning: No early stopping will be performed, last training weights will be used.\n",
      "  warnings.warn(wrn_msg)\n",
      "/Users/ali/miniforge_x86_64/envs/env_python/lib/python3.11/site-packages/pytorch_tabnet/abstract_model.py:687: UserWarning: No early stopping will be performed, last training weights will be used.\n",
      "  warnings.warn(wrn_msg)\n",
      "/Users/ali/miniforge_x86_64/envs/env_python/lib/python3.11/site-packages/pytorch_tabnet/abstract_model.py:687: UserWarning: No early stopping will be performed, last training weights will be used.\n",
      "  warnings.warn(wrn_msg)\n"
     ]
    },
    {
     "name": "stdout",
     "output_type": "stream",
     "text": [
      "----TN-CORAL----\n",
      "SB Model:\n",
      "SB test data:\t\t  0.32 Stat Significance Test (mean, STD) 0.327 (0.0127)\n",
      "CB test data (Transfered): 0.465 Stat Significance Test (mean, STD) 0.465 (0.0323)\n"
     ]
    },
    {
     "data": {
      "text/plain": [
       "([0.327, 0.0127], [0.465, 0.0323])"
      ]
     },
     "execution_count": 68,
     "metadata": {},
     "output_type": "execute_result"
    }
   ],
   "source": [
    "regr_SB = TabNetRegressor(verbose = 0, seed = 0)\n",
    "\n",
    "SB_regr_FA_NB = CORAL(regr_SB, Xt=NB_X_train, random_state=0, verbose=0)\n",
    "stat_significance_trainer_tester(SB_regr_FA_NB, SB_X_train, SB_y_train.reshape(-1, 1), SB_X_test, SB_y_test.reshape(-1, 1), NB_X_test, NB_y_test.reshape(-1, 1), source_name=\"SB\", target_name='NB', model_name='TN-CORAL')\n",
    "\n",
    "SB_regr_FA_CB = CORAL(regr_SB, Xt=CB_X_train, random_state=0, verbose=0)\n",
    "stat_significance_trainer_tester(SB_regr_FA_CB, SB_X_train, SB_y_train.reshape(-1, 1), SB_X_test, SB_y_test.reshape(-1, 1), CB_X_test, CB_y_test.reshape(-1, 1), source_name=\"SB\", target_name='CB', model_name='TN-CORAL')"
   ]
  },
  {
   "cell_type": "code",
   "execution_count": 69,
   "metadata": {
    "colab": {
     "base_uri": "https://localhost:8080/"
    },
    "id": "m8_HhWlJ08hW",
    "outputId": "17b0f1e8-3a15-41ae-edad-18d53782c7a1"
   },
   "outputs": [
    {
     "name": "stderr",
     "output_type": "stream",
     "text": [
      "/Users/ali/miniforge_x86_64/envs/env_python/lib/python3.11/site-packages/pytorch_tabnet/abstract_model.py:687: UserWarning: No early stopping will be performed, last training weights will be used.\n",
      "  warnings.warn(wrn_msg)\n",
      "/Users/ali/miniforge_x86_64/envs/env_python/lib/python3.11/site-packages/pytorch_tabnet/abstract_model.py:687: UserWarning: No early stopping will be performed, last training weights will be used.\n",
      "  warnings.warn(wrn_msg)\n",
      "/Users/ali/miniforge_x86_64/envs/env_python/lib/python3.11/site-packages/pytorch_tabnet/abstract_model.py:687: UserWarning: No early stopping will be performed, last training weights will be used.\n",
      "  warnings.warn(wrn_msg)\n",
      "/Users/ali/miniforge_x86_64/envs/env_python/lib/python3.11/site-packages/pytorch_tabnet/abstract_model.py:687: UserWarning: No early stopping will be performed, last training weights will be used.\n",
      "  warnings.warn(wrn_msg)\n",
      "/Users/ali/miniforge_x86_64/envs/env_python/lib/python3.11/site-packages/pytorch_tabnet/abstract_model.py:687: UserWarning: No early stopping will be performed, last training weights will be used.\n",
      "  warnings.warn(wrn_msg)\n"
     ]
    },
    {
     "name": "stdout",
     "output_type": "stream",
     "text": [
      "----TN-CORAL----\n",
      "NB Model:\n",
      "NB test data:\t\t  0.355 Stat Significance Test (mean, STD) 0.349 (0.0062)\n",
      "SB test data (Transfered): 0.323 Stat Significance Test (mean, STD) 0.32 (0.0081)\n"
     ]
    },
    {
     "name": "stderr",
     "output_type": "stream",
     "text": [
      "/Users/ali/miniforge_x86_64/envs/env_python/lib/python3.11/site-packages/pytorch_tabnet/abstract_model.py:687: UserWarning: No early stopping will be performed, last training weights will be used.\n",
      "  warnings.warn(wrn_msg)\n",
      "/Users/ali/miniforge_x86_64/envs/env_python/lib/python3.11/site-packages/pytorch_tabnet/abstract_model.py:687: UserWarning: No early stopping will be performed, last training weights will be used.\n",
      "  warnings.warn(wrn_msg)\n",
      "/Users/ali/miniforge_x86_64/envs/env_python/lib/python3.11/site-packages/pytorch_tabnet/abstract_model.py:687: UserWarning: No early stopping will be performed, last training weights will be used.\n",
      "  warnings.warn(wrn_msg)\n",
      "/Users/ali/miniforge_x86_64/envs/env_python/lib/python3.11/site-packages/pytorch_tabnet/abstract_model.py:687: UserWarning: No early stopping will be performed, last training weights will be used.\n",
      "  warnings.warn(wrn_msg)\n",
      "/Users/ali/miniforge_x86_64/envs/env_python/lib/python3.11/site-packages/pytorch_tabnet/abstract_model.py:687: UserWarning: No early stopping will be performed, last training weights will be used.\n",
      "  warnings.warn(wrn_msg)\n"
     ]
    },
    {
     "name": "stdout",
     "output_type": "stream",
     "text": [
      "----TN-CORAL----\n",
      "NB Model:\n",
      "NB test data:\t\t  0.374 Stat Significance Test (mean, STD) 0.367 (0.0206)\n",
      "CB test data (Transfered): 0.462 Stat Significance Test (mean, STD) 0.451 (0.0286)\n"
     ]
    },
    {
     "data": {
      "text/plain": [
       "([0.367, 0.0206], [0.451, 0.0286])"
      ]
     },
     "execution_count": 69,
     "metadata": {},
     "output_type": "execute_result"
    }
   ],
   "source": [
    "regr_NB = TabNetRegressor(verbose = 0, seed = 0)\n",
    "\n",
    "NB_regr_FA_SB = CORAL(regr_NB, Xt=SB_X_train, random_state=0, verbose=0)\n",
    "stat_significance_trainer_tester(NB_regr_FA_SB, NB_X_train, NB_y_train.reshape(-1, 1), NB_X_test, NB_y_test.reshape(-1, 1), SB_X_test, SB_y_test.reshape(-1, 1), source_name=\"NB\", target_name='SB', model_name='TN-CORAL')\n",
    "\n",
    "NB_regr_FA_CB = CORAL(regr_NB, Xt=CB_X_train, random_state=0, verbose=0)\n",
    "stat_significance_trainer_tester(NB_regr_FA_CB, NB_X_train, NB_y_train.reshape(-1, 1), NB_X_test, NB_y_test.reshape(-1, 1), CB_X_test, CB_y_test.reshape(-1, 1), source_name=\"NB\", target_name='CB', model_name='TN-CORAL')"
   ]
  },
  {
   "cell_type": "code",
   "execution_count": 70,
   "metadata": {
    "colab": {
     "base_uri": "https://localhost:8080/"
    },
    "id": "iJ4YODZp08hX",
    "outputId": "dbc17ab0-d58c-4a71-fcac-07237679b175"
   },
   "outputs": [
    {
     "name": "stderr",
     "output_type": "stream",
     "text": [
      "/Users/ali/miniforge_x86_64/envs/env_python/lib/python3.11/site-packages/pytorch_tabnet/abstract_model.py:687: UserWarning: No early stopping will be performed, last training weights will be used.\n",
      "  warnings.warn(wrn_msg)\n",
      "/Users/ali/miniforge_x86_64/envs/env_python/lib/python3.11/site-packages/pytorch_tabnet/abstract_model.py:687: UserWarning: No early stopping will be performed, last training weights will be used.\n",
      "  warnings.warn(wrn_msg)\n",
      "/Users/ali/miniforge_x86_64/envs/env_python/lib/python3.11/site-packages/pytorch_tabnet/abstract_model.py:687: UserWarning: No early stopping will be performed, last training weights will be used.\n",
      "  warnings.warn(wrn_msg)\n",
      "/Users/ali/miniforge_x86_64/envs/env_python/lib/python3.11/site-packages/pytorch_tabnet/abstract_model.py:687: UserWarning: No early stopping will be performed, last training weights will be used.\n",
      "  warnings.warn(wrn_msg)\n",
      "/Users/ali/miniforge_x86_64/envs/env_python/lib/python3.11/site-packages/pytorch_tabnet/abstract_model.py:687: UserWarning: No early stopping will be performed, last training weights will be used.\n",
      "  warnings.warn(wrn_msg)\n"
     ]
    },
    {
     "name": "stdout",
     "output_type": "stream",
     "text": [
      "----TN-CORAL----\n",
      "CB Model:\n",
      "CB test data:\t\t  0.366 Stat Significance Test (mean, STD) 0.369 (0.0149)\n",
      "SB test data (Transfered): 0.314 Stat Significance Test (mean, STD) 0.323 (0.0116)\n"
     ]
    },
    {
     "name": "stderr",
     "output_type": "stream",
     "text": [
      "/Users/ali/miniforge_x86_64/envs/env_python/lib/python3.11/site-packages/pytorch_tabnet/abstract_model.py:687: UserWarning: No early stopping will be performed, last training weights will be used.\n",
      "  warnings.warn(wrn_msg)\n",
      "/Users/ali/miniforge_x86_64/envs/env_python/lib/python3.11/site-packages/pytorch_tabnet/abstract_model.py:687: UserWarning: No early stopping will be performed, last training weights will be used.\n",
      "  warnings.warn(wrn_msg)\n",
      "/Users/ali/miniforge_x86_64/envs/env_python/lib/python3.11/site-packages/pytorch_tabnet/abstract_model.py:687: UserWarning: No early stopping will be performed, last training weights will be used.\n",
      "  warnings.warn(wrn_msg)\n",
      "/Users/ali/miniforge_x86_64/envs/env_python/lib/python3.11/site-packages/pytorch_tabnet/abstract_model.py:687: UserWarning: No early stopping will be performed, last training weights will be used.\n",
      "  warnings.warn(wrn_msg)\n",
      "/Users/ali/miniforge_x86_64/envs/env_python/lib/python3.11/site-packages/pytorch_tabnet/abstract_model.py:687: UserWarning: No early stopping will be performed, last training weights will be used.\n",
      "  warnings.warn(wrn_msg)\n"
     ]
    },
    {
     "name": "stdout",
     "output_type": "stream",
     "text": [
      "----TN-CORAL----\n",
      "CB Model:\n",
      "CB test data:\t\t  0.401 Stat Significance Test (mean, STD) 0.384 (0.019)\n",
      "NB test data (Transfered): 0.351 Stat Significance Test (mean, STD) 0.348 (0.0047)\n"
     ]
    },
    {
     "data": {
      "text/plain": [
       "([0.384, 0.019], [0.348, 0.0047])"
      ]
     },
     "execution_count": 70,
     "metadata": {},
     "output_type": "execute_result"
    }
   ],
   "source": [
    "regr_CB = TabNetRegressor(verbose = 0, seed = 0)\n",
    "\n",
    "CB_regr_FA_SB = CORAL(regr_CB, Xt=SB_X_train, random_state=0, verbose=0)\n",
    "stat_significance_trainer_tester(CB_regr_FA_SB, CB_X_train, CB_y_train.reshape(-1, 1), CB_X_test, CB_y_test.reshape(-1, 1), SB_X_test, SB_y_test.reshape(-1, 1), source_name=\"CB\", target_name='SB', model_name='TN-CORAL')\n",
    "\n",
    "CB_regr_FA_NB = CORAL(regr_CB, Xt=NB_X_train, random_state=0, verbose=0)\n",
    "stat_significance_trainer_tester(CB_regr_FA_NB, CB_X_train, CB_y_train.reshape(-1, 1), CB_X_test, CB_y_test.reshape(-1, 1), NB_X_test, NB_y_test.reshape(-1, 1), source_name=\"CB\", target_name='NB', model_name='TN-CORAL')\n"
   ]
  },
  {
   "cell_type": "code",
   "execution_count": 71,
   "metadata": {
    "colab": {
     "base_uri": "https://localhost:8080/"
    },
    "id": "fRuf2htI08hX",
    "outputId": "9b169dfc-dc91-43a6-95d2-9104de38c806"
   },
   "outputs": [],
   "source": [
    "# regr = TabNetRegressor(verbose = 0, seed = 0)\n",
    "\n",
    "# CB_regr = CORAL(regr, Xt=CB_X_train, random_state=0, verbose=0)\n",
    "# stat_significance_trainer_tester(CB_regr, CB_X_train, CB_y_train.reshape(-1, 1), CB_X_test, CB_y_test.reshape(-1, 1), CB_X_test, CB_y_test.reshape(-1, 1), source_name=\"CB\", target_name='CB', model_name='TN-CORAL')\n",
    "\n",
    "# NB_regr = CORAL(regr, Xt=NB_X_train, random_state=0, verbose=0)\n",
    "# stat_significance_trainer_tester(NB_regr, NB_X_train, NB_y_train.reshape(-1, 1), NB_X_test, NB_y_test.reshape(-1, 1), NB_X_test, NB_y_test.reshape(-1, 1), source_name=\"NB\", target_name='NB', model_name='TN-CORAL')\n",
    "\n",
    "# SB_regr = CORAL(regr, Xt=SB_X_train, random_state=0, verbose=0)\n",
    "# stat_significance_trainer_tester(SB_regr, SB_X_train, SB_y_train.reshape(-1, 1), SB_X_test, SB_y_test.reshape(-1, 1), SB_X_test, SB_y_test.reshape(-1, 1), source_name=\"SB\", target_name='SB', model_name='TN-CORAL')"
   ]
  },
  {
   "cell_type": "markdown",
   "metadata": {
    "id": "kCLnEMKF08hX"
   },
   "source": [
    "### XG"
   ]
  },
  {
   "cell_type": "code",
   "execution_count": 72,
   "metadata": {
    "colab": {
     "base_uri": "https://localhost:8080/"
    },
    "id": "nzPDLFPa08hX",
    "outputId": "5eb7bd47-ad8e-4888-d987-2728e9c10b80"
   },
   "outputs": [
    {
     "name": "stdout",
     "output_type": "stream",
     "text": [
      "----XG-CORAL----\n",
      "SB Model:\n",
      "SB test data:\t\t  0.34 Stat Significance Test (mean, STD) 0.355 (0.0194)\n",
      "NB test data (Transfered): 0.402 Stat Significance Test (mean, STD) 0.424 (0.0324)\n",
      "----XG-CORAL----\n",
      "SB Model:\n",
      "SB test data:\t\t  0.364 Stat Significance Test (mean, STD) 0.358 (0.0204)\n",
      "CB test data (Transfered): 0.515 Stat Significance Test (mean, STD) 0.513 (0.049)\n"
     ]
    },
    {
     "data": {
      "text/plain": [
       "([0.358, 0.0204], [0.513, 0.049])"
      ]
     },
     "execution_count": 72,
     "metadata": {},
     "output_type": "execute_result"
    }
   ],
   "source": [
    "regr_SB = XGBRegressor(random_state = 0, seed = 0)\n",
    "\n",
    "SB_regr_FA_NB = CORAL(regr_SB, Xt=NB_X_train, random_state=0, verbose=0)\n",
    "stat_significance_trainer_tester(SB_regr_FA_NB, SB_X_train, SB_y_train, SB_X_test, SB_y_test, NB_X_test, NB_y_test, source_name=\"SB\", target_name='NB', model_name='XG-CORAL')\n",
    "\n",
    "SB_regr_FA_CB = CORAL(regr_SB, Xt=CB_X_train, random_state=0, verbose=0)\n",
    "stat_significance_trainer_tester(SB_regr_FA_CB, SB_X_train, SB_y_train, SB_X_test, SB_y_test, CB_X_test, CB_y_test, source_name=\"SB\", target_name='CB', model_name='XG-CORAL')"
   ]
  },
  {
   "cell_type": "code",
   "execution_count": 73,
   "metadata": {
    "colab": {
     "base_uri": "https://localhost:8080/"
    },
    "id": "ivVWeM3E08hX",
    "outputId": "81612bf2-11f8-4330-f860-650fc553fc13"
   },
   "outputs": [
    {
     "name": "stdout",
     "output_type": "stream",
     "text": [
      "----XG-CORAL----\n",
      "NB Model:\n",
      "NB test data:\t\t  0.363 Stat Significance Test (mean, STD) 0.378 (0.0347)\n",
      "SB test data (Transfered): 0.339 Stat Significance Test (mean, STD) 0.358 (0.0259)\n",
      "----XG-CORAL----\n",
      "NB Model:\n",
      "NB test data:\t\t  0.363 Stat Significance Test (mean, STD) 0.38 (0.0482)\n",
      "CB test data (Transfered): 0.48 Stat Significance Test (mean, STD) 0.468 (0.0679)\n"
     ]
    },
    {
     "data": {
      "text/plain": [
       "([0.38, 0.0482], [0.468, 0.0679])"
      ]
     },
     "execution_count": 73,
     "metadata": {},
     "output_type": "execute_result"
    }
   ],
   "source": [
    "regr_NB = XGBRegressor(random_state = 0, seed = 0)\n",
    "\n",
    "NB_regr_FA_SB = CORAL(regr_NB, Xt=SB_X_train, random_state=0, verbose=0)\n",
    "stat_significance_trainer_tester(NB_regr_FA_SB, NB_X_train, NB_y_train, NB_X_test, NB_y_test, SB_X_test, SB_y_test, source_name=\"NB\", target_name='SB', model_name='XG-CORAL')\n",
    "\n",
    "NB_regr_FA_CB = CORAL(regr_NB, Xt=CB_X_train, random_state=0, verbose=0)\n",
    "stat_significance_trainer_tester(NB_regr_FA_CB, NB_X_train, NB_y_train, NB_X_test, NB_y_test, CB_X_test, CB_y_test, source_name=\"NB\", target_name='CB', model_name='XG-CORAL')"
   ]
  },
  {
   "cell_type": "code",
   "execution_count": 74,
   "metadata": {
    "colab": {
     "base_uri": "https://localhost:8080/"
    },
    "id": "22T5hoXj08hY",
    "outputId": "fd5e328c-cc89-4aeb-c2b0-b6e6415ac1c0"
   },
   "outputs": [
    {
     "name": "stdout",
     "output_type": "stream",
     "text": [
      "----XG-CORAL----\n",
      "CB Model:\n",
      "CB test data:\t\t  0.413 Stat Significance Test (mean, STD) 0.401 (0.0215)\n",
      "SB test data (Transfered): 0.359 Stat Significance Test (mean, STD) 0.352 (0.0125)\n",
      "----XG-CORAL----\n",
      "CB Model:\n",
      "CB test data:\t\t  0.407 Stat Significance Test (mean, STD) 0.395 (0.0232)\n",
      "NB test data (Transfered): 0.34 Stat Significance Test (mean, STD) 0.359 (0.0238)\n"
     ]
    },
    {
     "data": {
      "text/plain": [
       "([0.395, 0.0232], [0.359, 0.0238])"
      ]
     },
     "execution_count": 74,
     "metadata": {},
     "output_type": "execute_result"
    }
   ],
   "source": [
    "regr_CB = XGBRegressor(random_state = 0, seed = 0)\n",
    "\n",
    "CB_regr_FA_SB = CORAL(regr_CB, Xt=SB_X_train, random_state=0, verbose=0)\n",
    "stat_significance_trainer_tester(CB_regr_FA_SB, CB_X_train, CB_y_train, CB_X_test, CB_y_test, SB_X_test, SB_y_test, source_name=\"CB\", target_name='SB', model_name='XG-CORAL')\n",
    "\n",
    "CB_regr_FA_NB = CORAL(regr_CB, Xt=NB_X_train, random_state=0, verbose=0)\n",
    "stat_significance_trainer_tester(CB_regr_FA_NB, CB_X_train, CB_y_train, CB_X_test, CB_y_test, NB_X_test, NB_y_test, source_name=\"CB\", target_name='NB', model_name='XG-CORAL')\n"
   ]
  },
  {
   "cell_type": "code",
   "execution_count": 75,
   "metadata": {
    "colab": {
     "base_uri": "https://localhost:8080/"
    },
    "id": "WoWTdjjL08hY",
    "outputId": "b02244d5-333d-4e7e-f4ce-8b78ec3ef1f4"
   },
   "outputs": [],
   "source": [
    "# regr = XGBRegressor(random_state = 0, seed = 0)\n",
    "\n",
    "# CB_regr = CORAL(regr, Xt=CB_X_train, random_state=0, verbose=0)\n",
    "# stat_significance_trainer_tester(CB_regr, CB_X_train, CB_y_train, CB_X_test, CB_y_test, CB_X_test, CB_y_test, source_name=\"CB\", target_name='CB', model_name='XG-CORAL')\n",
    "\n",
    "# NB_regr = CORAL(regr, Xt=NB_X_train, random_state=0, verbose=0)\n",
    "# stat_significance_trainer_tester(NB_regr, NB_X_train, NB_y_train, NB_X_test, NB_y_test, NB_X_test, NB_y_test, source_name=\"NB\", target_name='NB', model_name='XG-CORAL')\n",
    "\n",
    "# SB_regr = CORAL(regr, Xt=SB_X_train, random_state=0, verbose=0)\n",
    "# stat_significance_trainer_tester(SB_regr, SB_X_train, SB_y_train, SB_X_test, SB_y_test, SB_X_test, SB_y_test, source_name=\"SB\", target_name='SB', model_name='XG-CORAL')"
   ]
  },
  {
   "cell_type": "markdown",
   "metadata": {
    "id": "0Bt924J27mB9"
   },
   "source": [
    "## SA"
   ]
  },
  {
   "cell_type": "markdown",
   "metadata": {
    "id": "ebvWN5OV7mCB"
   },
   "source": [
    "### RF"
   ]
  },
  {
   "cell_type": "code",
   "execution_count": 76,
   "metadata": {
    "colab": {
     "base_uri": "https://localhost:8080/"
    },
    "id": "ywftZPRM7mCC",
    "outputId": "dbc698ee-e00d-48ea-c328-bf26bfbdd8cf"
   },
   "outputs": [
    {
     "name": "stdout",
     "output_type": "stream",
     "text": [
      "----RF-SA----\n",
      "SB Model:\n",
      "SB test data:\t\t  0.312 Stat Significance Test (mean, STD) 0.313 (0.0016)\n",
      "NB test data (Transfered): 0.351 Stat Significance Test (mean, STD) 0.353 (0.0055)\n",
      "----RF-SA----\n",
      "SB Model:\n",
      "SB test data:\t\t  0.317 Stat Significance Test (mean, STD) 0.317 (0.0036)\n",
      "CB test data (Transfered): 0.441 Stat Significance Test (mean, STD) 0.442 (0.0123)\n"
     ]
    },
    {
     "data": {
      "text/plain": [
       "([0.317, 0.0036], [0.442, 0.0123])"
      ]
     },
     "execution_count": 76,
     "metadata": {},
     "output_type": "execute_result"
    }
   ],
   "source": [
    "regr_SB = RandomForestRegressor(**rf_SB_best_params)\n",
    "\n",
    "SB_regr_FA_NB = SA(regr_SB, Xt=NB_X_train, random_state=0, verbose=0)\n",
    "stat_significance_trainer_tester(SB_regr_FA_NB, SB_X_train, SB_y_train, SB_X_test, SB_y_test, NB_X_test, NB_y_test, source_name=\"SB\", target_name='NB', model_name='RF-SA')\n",
    "\n",
    "SB_regr_FA_CB = SA(regr_SB, Xt=CB_X_train, random_state=0, verbose=0)\n",
    "stat_significance_trainer_tester(SB_regr_FA_CB, SB_X_train, SB_y_train, SB_X_test, SB_y_test, CB_X_test, CB_y_test, source_name=\"SB\", target_name='CB', model_name='RF-SA')"
   ]
  },
  {
   "cell_type": "code",
   "execution_count": 77,
   "metadata": {
    "colab": {
     "base_uri": "https://localhost:8080/"
    },
    "id": "swxWmVbG7mCC",
    "outputId": "e40328ba-1f74-40b2-e1ab-6b02c80d1122"
   },
   "outputs": [
    {
     "name": "stdout",
     "output_type": "stream",
     "text": [
      "----RF-SA----\n",
      "NB Model:\n",
      "NB test data:\t\t  0.35 Stat Significance Test (mean, STD) 0.353 (0.0041)\n",
      "SB test data (Transfered): 0.331 Stat Significance Test (mean, STD) 0.333 (0.0026)\n",
      "----RF-SA----\n",
      "NB Model:\n",
      "NB test data:\t\t  0.362 Stat Significance Test (mean, STD) 0.364 (0.0048)\n",
      "CB test data (Transfered): 0.453 Stat Significance Test (mean, STD) 0.455 (0.008)\n"
     ]
    },
    {
     "data": {
      "text/plain": [
       "([0.364, 0.0048], [0.455, 0.008])"
      ]
     },
     "execution_count": 77,
     "metadata": {},
     "output_type": "execute_result"
    }
   ],
   "source": [
    "regr_NB = RandomForestRegressor(**rf_NB_best_params)\n",
    "\n",
    "NB_regr_FA_SB = SA(regr_NB, Xt=SB_X_train, random_state=0, verbose=0)\n",
    "stat_significance_trainer_tester(NB_regr_FA_SB, NB_X_train, NB_y_train, NB_X_test, NB_y_test, SB_X_test, SB_y_test, source_name=\"NB\", target_name='SB', model_name='RF-SA')\n",
    "\n",
    "NB_regr_FA_CB = SA(regr_NB, Xt=CB_X_train, random_state=0, verbose=0)\n",
    "stat_significance_trainer_tester(NB_regr_FA_CB, NB_X_train, NB_y_train, NB_X_test, NB_y_test, CB_X_test, CB_y_test, source_name=\"NB\", target_name='CB', model_name='RF-SA')"
   ]
  },
  {
   "cell_type": "code",
   "execution_count": 78,
   "metadata": {
    "colab": {
     "base_uri": "https://localhost:8080/"
    },
    "id": "oObosNCX7mCC",
    "outputId": "6ada8775-6b15-4a98-d40c-f1df671d0e88"
   },
   "outputs": [
    {
     "name": "stdout",
     "output_type": "stream",
     "text": [
      "----RF-SA----\n",
      "CB Model:\n",
      "CB test data:\t\t  0.363 Stat Significance Test (mean, STD) 0.366 (0.0113)\n",
      "SB test data (Transfered): 0.306 Stat Significance Test (mean, STD) 0.308 (0.0028)\n",
      "----RF-SA----\n",
      "CB Model:\n",
      "CB test data:\t\t  0.351 Stat Significance Test (mean, STD) 0.354 (0.0108)\n",
      "NB test data (Transfered): 0.323 Stat Significance Test (mean, STD) 0.325 (0.0035)\n"
     ]
    },
    {
     "data": {
      "text/plain": [
       "([0.354, 0.0108], [0.325, 0.0035])"
      ]
     },
     "execution_count": 78,
     "metadata": {},
     "output_type": "execute_result"
    }
   ],
   "source": [
    "regr_CB = RandomForestRegressor(**rf_CB_best_params)\n",
    "\n",
    "CB_regr_FA_SB = SA(regr_CB, Xt=SB_X_train, random_state=0, verbose=0)\n",
    "stat_significance_trainer_tester(CB_regr_FA_SB, CB_X_train, CB_y_train, CB_X_test, CB_y_test, SB_X_test, SB_y_test, source_name=\"CB\", target_name='SB', model_name='RF-SA')\n",
    "\n",
    "CB_regr_FA_NB = SA(regr_CB, Xt=NB_X_train, random_state=0, verbose=0)\n",
    "stat_significance_trainer_tester(CB_regr_FA_NB, CB_X_train, CB_y_train, CB_X_test, CB_y_test, NB_X_test, NB_y_test, source_name=\"CB\", target_name='NB', model_name='RF-SA')\n"
   ]
  },
  {
   "cell_type": "code",
   "execution_count": 79,
   "metadata": {
    "colab": {
     "base_uri": "https://localhost:8080/"
    },
    "id": "5Qqu8C1v7mCD",
    "outputId": "ed7904d9-d58f-470c-a11a-cad5ad08e151"
   },
   "outputs": [],
   "source": [
    "# regr = RandomForestRegressor(random_state=0, max_depth=100, max_features=3, min_samples_leaf=3, min_samples_split=8, n_estimators=1000)\n",
    "\n",
    "# CB_regr = SA(regr, Xt=CB_X_train, random_state=0, verbose=0)\n",
    "# stat_significance_trainer_tester(CB_regr, CB_X_train, CB_y_train, CB_X_test, CB_y_test, CB_X_test, CB_y_test, source_name=\"CB\", target_name='CB', model_name='RF-SA')\n",
    "\n",
    "# NB_regr = SA(regr, Xt=NB_X_train, random_state=0, verbose=0)\n",
    "# stat_significance_trainer_tester(NB_regr, NB_X_train, NB_y_train, NB_X_test, NB_y_test, NB_X_test, NB_y_test, source_name=\"NB\", target_name='NB', model_name='RF-SA')\n",
    "\n",
    "# SB_regr = SA(regr, Xt=SB_X_train, random_state=0, verbose=0)\n",
    "# stat_significance_trainer_tester(SB_regr, SB_X_train, SB_y_train, SB_X_test, SB_y_test, SB_X_test, SB_y_test, source_name=\"SB\", target_name='SB', model_name='RF-SA')"
   ]
  },
  {
   "cell_type": "markdown",
   "metadata": {
    "id": "6jNuftCF7mCD"
   },
   "source": [
    "### TN"
   ]
  },
  {
   "cell_type": "code",
   "execution_count": 80,
   "metadata": {
    "colab": {
     "base_uri": "https://localhost:8080/"
    },
    "id": "hB-5o9ek7mCD",
    "outputId": "4e17ce25-55e4-4658-901f-ce11b24137d0"
   },
   "outputs": [
    {
     "name": "stderr",
     "output_type": "stream",
     "text": [
      "/Users/ali/miniforge_x86_64/envs/env_python/lib/python3.11/site-packages/pytorch_tabnet/abstract_model.py:687: UserWarning: No early stopping will be performed, last training weights will be used.\n",
      "  warnings.warn(wrn_msg)\n",
      "/Users/ali/miniforge_x86_64/envs/env_python/lib/python3.11/site-packages/pytorch_tabnet/abstract_model.py:687: UserWarning: No early stopping will be performed, last training weights will be used.\n",
      "  warnings.warn(wrn_msg)\n",
      "/Users/ali/miniforge_x86_64/envs/env_python/lib/python3.11/site-packages/pytorch_tabnet/abstract_model.py:687: UserWarning: No early stopping will be performed, last training weights will be used.\n",
      "  warnings.warn(wrn_msg)\n",
      "/Users/ali/miniforge_x86_64/envs/env_python/lib/python3.11/site-packages/pytorch_tabnet/abstract_model.py:687: UserWarning: No early stopping will be performed, last training weights will be used.\n",
      "  warnings.warn(wrn_msg)\n",
      "/Users/ali/miniforge_x86_64/envs/env_python/lib/python3.11/site-packages/pytorch_tabnet/abstract_model.py:687: UserWarning: No early stopping will be performed, last training weights will be used.\n",
      "  warnings.warn(wrn_msg)\n"
     ]
    },
    {
     "name": "stdout",
     "output_type": "stream",
     "text": [
      "----TN-SA----\n",
      "SB Model:\n",
      "SB test data:\t\t  0.325 Stat Significance Test (mean, STD) 0.321 (0.0071)\n",
      "NB test data (Transfered): 0.374 Stat Significance Test (mean, STD) 0.368 (0.0106)\n"
     ]
    },
    {
     "name": "stderr",
     "output_type": "stream",
     "text": [
      "/Users/ali/miniforge_x86_64/envs/env_python/lib/python3.11/site-packages/pytorch_tabnet/abstract_model.py:687: UserWarning: No early stopping will be performed, last training weights will be used.\n",
      "  warnings.warn(wrn_msg)\n",
      "/Users/ali/miniforge_x86_64/envs/env_python/lib/python3.11/site-packages/pytorch_tabnet/abstract_model.py:687: UserWarning: No early stopping will be performed, last training weights will be used.\n",
      "  warnings.warn(wrn_msg)\n",
      "/Users/ali/miniforge_x86_64/envs/env_python/lib/python3.11/site-packages/pytorch_tabnet/abstract_model.py:687: UserWarning: No early stopping will be performed, last training weights will be used.\n",
      "  warnings.warn(wrn_msg)\n",
      "/Users/ali/miniforge_x86_64/envs/env_python/lib/python3.11/site-packages/pytorch_tabnet/abstract_model.py:687: UserWarning: No early stopping will be performed, last training weights will be used.\n",
      "  warnings.warn(wrn_msg)\n",
      "/Users/ali/miniforge_x86_64/envs/env_python/lib/python3.11/site-packages/pytorch_tabnet/abstract_model.py:687: UserWarning: No early stopping will be performed, last training weights will be used.\n",
      "  warnings.warn(wrn_msg)\n"
     ]
    },
    {
     "name": "stdout",
     "output_type": "stream",
     "text": [
      "----TN-SA----\n",
      "SB Model:\n",
      "SB test data:\t\t  0.322 Stat Significance Test (mean, STD) 0.319 (0.0122)\n",
      "CB test data (Transfered): 0.448 Stat Significance Test (mean, STD) 0.425 (0.0439)\n"
     ]
    },
    {
     "data": {
      "text/plain": [
       "([0.319, 0.0122], [0.425, 0.0439])"
      ]
     },
     "execution_count": 80,
     "metadata": {},
     "output_type": "execute_result"
    }
   ],
   "source": [
    "regr_SB = TabNetRegressor(verbose = 0, seed = 0)\n",
    "\n",
    "SB_regr_FA_NB = SA(regr_SB, Xt=NB_X_train, random_state=0, verbose=0)\n",
    "stat_significance_trainer_tester(SB_regr_FA_NB, SB_X_train, SB_y_train.reshape(-1, 1), SB_X_test, SB_y_test.reshape(-1, 1), NB_X_test, NB_y_test.reshape(-1, 1), source_name=\"SB\", target_name='NB', model_name='TN-SA')\n",
    "\n",
    "SB_regr_FA_CB = SA(regr_SB, Xt=CB_X_train, random_state=0, verbose=0)\n",
    "stat_significance_trainer_tester(SB_regr_FA_CB, SB_X_train, SB_y_train.reshape(-1, 1), SB_X_test, SB_y_test.reshape(-1, 1), CB_X_test, CB_y_test.reshape(-1, 1), source_name=\"SB\", target_name='CB', model_name='TN-SA')"
   ]
  },
  {
   "cell_type": "code",
   "execution_count": 81,
   "metadata": {
    "colab": {
     "base_uri": "https://localhost:8080/"
    },
    "id": "QQSBUpiq7mCD",
    "outputId": "bcc01b89-26a2-4d96-9472-0749b664cd77"
   },
   "outputs": [
    {
     "name": "stderr",
     "output_type": "stream",
     "text": [
      "/Users/ali/miniforge_x86_64/envs/env_python/lib/python3.11/site-packages/pytorch_tabnet/abstract_model.py:687: UserWarning: No early stopping will be performed, last training weights will be used.\n",
      "  warnings.warn(wrn_msg)\n",
      "/Users/ali/miniforge_x86_64/envs/env_python/lib/python3.11/site-packages/pytorch_tabnet/abstract_model.py:687: UserWarning: No early stopping will be performed, last training weights will be used.\n",
      "  warnings.warn(wrn_msg)\n",
      "/Users/ali/miniforge_x86_64/envs/env_python/lib/python3.11/site-packages/pytorch_tabnet/abstract_model.py:687: UserWarning: No early stopping will be performed, last training weights will be used.\n",
      "  warnings.warn(wrn_msg)\n",
      "/Users/ali/miniforge_x86_64/envs/env_python/lib/python3.11/site-packages/pytorch_tabnet/abstract_model.py:687: UserWarning: No early stopping will be performed, last training weights will be used.\n",
      "  warnings.warn(wrn_msg)\n",
      "/Users/ali/miniforge_x86_64/envs/env_python/lib/python3.11/site-packages/pytorch_tabnet/abstract_model.py:687: UserWarning: No early stopping will be performed, last training weights will be used.\n",
      "  warnings.warn(wrn_msg)\n"
     ]
    },
    {
     "name": "stdout",
     "output_type": "stream",
     "text": [
      "----TN-SA----\n",
      "NB Model:\n",
      "NB test data:\t\t  0.374 Stat Significance Test (mean, STD) 0.337 (0.0198)\n",
      "SB test data (Transfered): 0.36 Stat Significance Test (mean, STD) 0.326 (0.0184)\n"
     ]
    },
    {
     "name": "stderr",
     "output_type": "stream",
     "text": [
      "/Users/ali/miniforge_x86_64/envs/env_python/lib/python3.11/site-packages/pytorch_tabnet/abstract_model.py:687: UserWarning: No early stopping will be performed, last training weights will be used.\n",
      "  warnings.warn(wrn_msg)\n",
      "/Users/ali/miniforge_x86_64/envs/env_python/lib/python3.11/site-packages/pytorch_tabnet/abstract_model.py:687: UserWarning: No early stopping will be performed, last training weights will be used.\n",
      "  warnings.warn(wrn_msg)\n",
      "/Users/ali/miniforge_x86_64/envs/env_python/lib/python3.11/site-packages/pytorch_tabnet/abstract_model.py:687: UserWarning: No early stopping will be performed, last training weights will be used.\n",
      "  warnings.warn(wrn_msg)\n",
      "/Users/ali/miniforge_x86_64/envs/env_python/lib/python3.11/site-packages/pytorch_tabnet/abstract_model.py:687: UserWarning: No early stopping will be performed, last training weights will be used.\n",
      "  warnings.warn(wrn_msg)\n",
      "/Users/ali/miniforge_x86_64/envs/env_python/lib/python3.11/site-packages/pytorch_tabnet/abstract_model.py:687: UserWarning: No early stopping will be performed, last training weights will be used.\n",
      "  warnings.warn(wrn_msg)\n"
     ]
    },
    {
     "name": "stdout",
     "output_type": "stream",
     "text": [
      "----TN-SA----\n",
      "NB Model:\n",
      "NB test data:\t\t  0.371 Stat Significance Test (mean, STD) 0.346 (0.0159)\n",
      "CB test data (Transfered): 0.467 Stat Significance Test (mean, STD) 0.421 (0.0254)\n"
     ]
    },
    {
     "data": {
      "text/plain": [
       "([0.346, 0.0159], [0.421, 0.0254])"
      ]
     },
     "execution_count": 81,
     "metadata": {},
     "output_type": "execute_result"
    }
   ],
   "source": [
    "regr_NB = TabNetRegressor(verbose = 0, seed = 0)\n",
    "\n",
    "NB_regr_FA_SB = SA(regr_NB, Xt=SB_X_train, random_state=0, verbose=0)\n",
    "stat_significance_trainer_tester(NB_regr_FA_SB, NB_X_train, NB_y_train.reshape(-1, 1), NB_X_test, NB_y_test.reshape(-1, 1), SB_X_test, SB_y_test.reshape(-1, 1), source_name=\"NB\", target_name='SB', model_name='TN-SA')\n",
    "\n",
    "NB_regr_FA_CB = SA(regr_NB, Xt=CB_X_train, random_state=0, verbose=0)\n",
    "stat_significance_trainer_tester(NB_regr_FA_CB, NB_X_train, NB_y_train.reshape(-1, 1), NB_X_test, NB_y_test.reshape(-1, 1), CB_X_test, CB_y_test.reshape(-1, 1), source_name=\"NB\", target_name='CB', model_name='TN-SA')"
   ]
  },
  {
   "cell_type": "code",
   "execution_count": 82,
   "metadata": {
    "colab": {
     "base_uri": "https://localhost:8080/"
    },
    "id": "342TWdfU7mCF",
    "outputId": "10c67270-3bea-48ee-8e73-52a90f39d2d2"
   },
   "outputs": [
    {
     "name": "stderr",
     "output_type": "stream",
     "text": [
      "/Users/ali/miniforge_x86_64/envs/env_python/lib/python3.11/site-packages/pytorch_tabnet/abstract_model.py:687: UserWarning: No early stopping will be performed, last training weights will be used.\n",
      "  warnings.warn(wrn_msg)\n",
      "/Users/ali/miniforge_x86_64/envs/env_python/lib/python3.11/site-packages/pytorch_tabnet/abstract_model.py:687: UserWarning: No early stopping will be performed, last training weights will be used.\n",
      "  warnings.warn(wrn_msg)\n",
      "/Users/ali/miniforge_x86_64/envs/env_python/lib/python3.11/site-packages/pytorch_tabnet/abstract_model.py:687: UserWarning: No early stopping will be performed, last training weights will be used.\n",
      "  warnings.warn(wrn_msg)\n",
      "/Users/ali/miniforge_x86_64/envs/env_python/lib/python3.11/site-packages/pytorch_tabnet/abstract_model.py:687: UserWarning: No early stopping will be performed, last training weights will be used.\n",
      "  warnings.warn(wrn_msg)\n",
      "/Users/ali/miniforge_x86_64/envs/env_python/lib/python3.11/site-packages/pytorch_tabnet/abstract_model.py:687: UserWarning: No early stopping will be performed, last training weights will be used.\n",
      "  warnings.warn(wrn_msg)\n"
     ]
    },
    {
     "name": "stdout",
     "output_type": "stream",
     "text": [
      "----TN-SA----\n",
      "CB Model:\n",
      "CB test data:\t\t  0.352 Stat Significance Test (mean, STD) 0.355 (0.0029)\n",
      "SB test data (Transfered): 0.332 Stat Significance Test (mean, STD) 0.332 (0.0072)\n"
     ]
    },
    {
     "name": "stderr",
     "output_type": "stream",
     "text": [
      "/Users/ali/miniforge_x86_64/envs/env_python/lib/python3.11/site-packages/pytorch_tabnet/abstract_model.py:687: UserWarning: No early stopping will be performed, last training weights will be used.\n",
      "  warnings.warn(wrn_msg)\n",
      "/Users/ali/miniforge_x86_64/envs/env_python/lib/python3.11/site-packages/pytorch_tabnet/abstract_model.py:687: UserWarning: No early stopping will be performed, last training weights will be used.\n",
      "  warnings.warn(wrn_msg)\n",
      "/Users/ali/miniforge_x86_64/envs/env_python/lib/python3.11/site-packages/pytorch_tabnet/abstract_model.py:687: UserWarning: No early stopping will be performed, last training weights will be used.\n",
      "  warnings.warn(wrn_msg)\n",
      "/Users/ali/miniforge_x86_64/envs/env_python/lib/python3.11/site-packages/pytorch_tabnet/abstract_model.py:687: UserWarning: No early stopping will be performed, last training weights will be used.\n",
      "  warnings.warn(wrn_msg)\n",
      "/Users/ali/miniforge_x86_64/envs/env_python/lib/python3.11/site-packages/pytorch_tabnet/abstract_model.py:687: UserWarning: No early stopping will be performed, last training weights will be used.\n",
      "  warnings.warn(wrn_msg)\n"
     ]
    },
    {
     "name": "stdout",
     "output_type": "stream",
     "text": [
      "----TN-SA----\n",
      "CB Model:\n",
      "CB test data:\t\t  0.362 Stat Significance Test (mean, STD) 0.354 (0.0057)\n",
      "NB test data (Transfered): 0.335 Stat Significance Test (mean, STD) 0.333 (0.0069)\n"
     ]
    },
    {
     "data": {
      "text/plain": [
       "([0.354, 0.0057], [0.333, 0.0069])"
      ]
     },
     "execution_count": 82,
     "metadata": {},
     "output_type": "execute_result"
    }
   ],
   "source": [
    "regr_CB = TabNetRegressor(verbose = 0, seed = 0)\n",
    "\n",
    "CB_regr_FA_SB = SA(regr_CB, Xt=SB_X_train, random_state=0, verbose=0)\n",
    "stat_significance_trainer_tester(CB_regr_FA_SB, CB_X_train, CB_y_train.reshape(-1, 1), CB_X_test, CB_y_test.reshape(-1, 1), SB_X_test, SB_y_test.reshape(-1, 1), source_name=\"CB\", target_name='SB', model_name='TN-SA')\n",
    "\n",
    "CB_regr_FA_NB = SA(regr_CB, Xt=NB_X_train, random_state=0, verbose=0)\n",
    "stat_significance_trainer_tester(CB_regr_FA_NB, CB_X_train, CB_y_train.reshape(-1, 1), CB_X_test, CB_y_test.reshape(-1, 1), NB_X_test, NB_y_test.reshape(-1, 1), source_name=\"CB\", target_name='NB', model_name='TN-SA')\n"
   ]
  },
  {
   "cell_type": "code",
   "execution_count": 83,
   "metadata": {
    "colab": {
     "base_uri": "https://localhost:8080/"
    },
    "id": "sY8P7Epf7mCF",
    "outputId": "a3f6f01b-e210-4b42-e904-fce8e6611263"
   },
   "outputs": [],
   "source": [
    "# regr = TabNetRegressor(verbose = 0, seed = 0)\n",
    "\n",
    "# CB_regr = SA(regr, Xt=CB_X_train, random_state=0, verbose=0)\n",
    "# stat_significance_trainer_tester(CB_regr, CB_X_train, CB_y_train.reshape(-1, 1), CB_X_test, CB_y_test.reshape(-1, 1), CB_X_test, CB_y_test.reshape(-1, 1), source_name=\"CB\", target_name='CB', model_name='TN-SA')\n",
    "\n",
    "# NB_regr = SA(regr, Xt=NB_X_train, random_state=0, verbose=0)\n",
    "# stat_significance_trainer_tester(NB_regr, NB_X_train, NB_y_train.reshape(-1, 1), NB_X_test, NB_y_test.reshape(-1, 1), NB_X_test, NB_y_test.reshape(-1, 1), source_name=\"NB\", target_name='NB', model_name='TN-SA')\n",
    "\n",
    "# SB_regr = SA(regr, Xt=SB_X_train, random_state=0, verbose=0)\n",
    "# stat_significance_trainer_tester(SB_regr, SB_X_train, SB_y_train.reshape(-1, 1), SB_X_test, SB_y_test.reshape(-1, 1), SB_X_test, SB_y_test.reshape(-1, 1), source_name=\"SB\", target_name='SB', model_name='TN-SA')"
   ]
  },
  {
   "cell_type": "markdown",
   "metadata": {
    "id": "nNFXkQQ77mCF"
   },
   "source": [
    "### XG"
   ]
  },
  {
   "cell_type": "code",
   "execution_count": 84,
   "metadata": {
    "colab": {
     "base_uri": "https://localhost:8080/"
    },
    "id": "6bUEoEsR7mCF",
    "outputId": "dbb6d930-aedf-4c95-f791-a274ecc26067"
   },
   "outputs": [
    {
     "name": "stdout",
     "output_type": "stream",
     "text": [
      "----XG-SA----\n",
      "SB Model:\n",
      "SB test data:\t\t  0.328 Stat Significance Test (mean, STD) 0.341 (0.0101)\n",
      "NB test data (Transfered): 0.352 Stat Significance Test (mean, STD) 0.372 (0.0139)\n",
      "----XG-SA----\n",
      "SB Model:\n",
      "SB test data:\t\t  0.332 Stat Significance Test (mean, STD) 0.351 (0.0189)\n",
      "CB test data (Transfered): 0.434 Stat Significance Test (mean, STD) 0.473 (0.031)\n"
     ]
    },
    {
     "data": {
      "text/plain": [
       "([0.351, 0.0189], [0.473, 0.031])"
      ]
     },
     "execution_count": 84,
     "metadata": {},
     "output_type": "execute_result"
    }
   ],
   "source": [
    "regr_SB = XGBRegressor(random_state = 0, seed = 0)\n",
    "\n",
    "SB_regr_FA_NB = SA(regr_SB, Xt=NB_X_train, random_state=0, verbose=0)\n",
    "stat_significance_trainer_tester(SB_regr_FA_NB, SB_X_train, SB_y_train, SB_X_test, SB_y_test, NB_X_test, NB_y_test, source_name=\"SB\", target_name='NB', model_name='XG-SA')\n",
    "\n",
    "SB_regr_FA_CB = SA(regr_SB, Xt=CB_X_train, random_state=0, verbose=0)\n",
    "stat_significance_trainer_tester(SB_regr_FA_CB, SB_X_train, SB_y_train, SB_X_test, SB_y_test, CB_X_test, CB_y_test, source_name=\"SB\", target_name='CB', model_name='XG-SA')"
   ]
  },
  {
   "cell_type": "code",
   "execution_count": 85,
   "metadata": {
    "colab": {
     "base_uri": "https://localhost:8080/"
    },
    "id": "OTD9o6DO7mCF",
    "outputId": "09de5ac9-2f71-48e6-c783-0be1e261d8bf"
   },
   "outputs": [
    {
     "name": "stdout",
     "output_type": "stream",
     "text": [
      "----XG-SA----\n",
      "NB Model:\n",
      "NB test data:\t\t  0.355 Stat Significance Test (mean, STD) 0.377 (0.0266)\n",
      "SB test data (Transfered): 0.348 Stat Significance Test (mean, STD) 0.362 (0.0188)\n",
      "----XG-SA----\n",
      "NB Model:\n",
      "NB test data:\t\t  0.336 Stat Significance Test (mean, STD) 0.372 (0.0292)\n",
      "CB test data (Transfered): 0.411 Stat Significance Test (mean, STD) 0.456 (0.034)\n"
     ]
    },
    {
     "data": {
      "text/plain": [
       "([0.372, 0.0292], [0.456, 0.034])"
      ]
     },
     "execution_count": 85,
     "metadata": {},
     "output_type": "execute_result"
    }
   ],
   "source": [
    "regr_NB = XGBRegressor(random_state = 0, seed = 0)\n",
    "\n",
    "NB_regr_FA_SB = SA(regr_NB, Xt=SB_X_train, random_state=0, verbose=0)\n",
    "stat_significance_trainer_tester(NB_regr_FA_SB, NB_X_train, NB_y_train, NB_X_test, NB_y_test, SB_X_test, SB_y_test, source_name=\"NB\", target_name='SB', model_name='XG-SA')\n",
    "\n",
    "NB_regr_FA_CB = SA(regr_NB, Xt=CB_X_train, random_state=0, verbose=0)\n",
    "stat_significance_trainer_tester(NB_regr_FA_CB, NB_X_train, NB_y_train, NB_X_test, NB_y_test, CB_X_test, CB_y_test, source_name=\"NB\", target_name='CB', model_name='XG-SA')"
   ]
  },
  {
   "cell_type": "code",
   "execution_count": 86,
   "metadata": {
    "colab": {
     "base_uri": "https://localhost:8080/"
    },
    "id": "gK8Cv0fE7mCF",
    "outputId": "4f9dc20c-d841-4d54-925e-e11dc88d70ef"
   },
   "outputs": [
    {
     "name": "stdout",
     "output_type": "stream",
     "text": [
      "----XG-SA----\n",
      "CB Model:\n",
      "CB test data:\t\t  0.386 Stat Significance Test (mean, STD) 0.409 (0.0302)\n",
      "SB test data (Transfered): 0.334 Stat Significance Test (mean, STD) 0.344 (0.0157)\n",
      "----XG-SA----\n",
      "CB Model:\n",
      "CB test data:\t\t  0.405 Stat Significance Test (mean, STD) 0.393 (0.0166)\n",
      "NB test data (Transfered): 0.378 Stat Significance Test (mean, STD) 0.366 (0.0107)\n"
     ]
    },
    {
     "data": {
      "text/plain": [
       "([0.393, 0.0166], [0.366, 0.0107])"
      ]
     },
     "execution_count": 86,
     "metadata": {},
     "output_type": "execute_result"
    }
   ],
   "source": [
    "regr_CB = XGBRegressor(random_state = 0, seed = 0)\n",
    "\n",
    "CB_regr_FA_SB = SA(regr_CB, Xt=SB_X_train, random_state=0, verbose=0)\n",
    "stat_significance_trainer_tester(CB_regr_FA_SB, CB_X_train, CB_y_train, CB_X_test, CB_y_test, SB_X_test, SB_y_test, source_name=\"CB\", target_name='SB', model_name='XG-SA')\n",
    "\n",
    "CB_regr_FA_NB = SA(regr_CB, Xt=NB_X_train, random_state=0, verbose=0)\n",
    "stat_significance_trainer_tester(CB_regr_FA_NB, CB_X_train, CB_y_train, CB_X_test, CB_y_test, NB_X_test, NB_y_test, source_name=\"CB\", target_name='NB', model_name='XG-SA')\n"
   ]
  },
  {
   "cell_type": "code",
   "execution_count": 87,
   "metadata": {
    "colab": {
     "base_uri": "https://localhost:8080/"
    },
    "id": "m6sw-GZt7mCF",
    "outputId": "4405b8d4-8d3e-4630-a218-bc35f6fc8574"
   },
   "outputs": [],
   "source": [
    "# regr = XGBRegressor(random_state = 0, seed = 0)\n",
    "\n",
    "# CB_regr = SA(regr, Xt=CB_X_train, random_state=0, verbose=0)\n",
    "# stat_significance_trainer_tester(CB_regr, CB_X_train, CB_y_train, CB_X_test, CB_y_test, CB_X_test, CB_y_test, source_name=\"CB\", target_name='CB', model_name='XG-SA')\n",
    "\n",
    "# NB_regr = SA(regr, Xt=NB_X_train, random_state=0, verbose=0)\n",
    "# stat_significance_trainer_tester(NB_regr, NB_X_train, NB_y_train, NB_X_test, NB_y_test, NB_X_test, NB_y_test, source_name=\"NB\", target_name='NB', model_name='XG-SA')\n",
    "\n",
    "# SB_regr = SA(regr, Xt=SB_X_train, random_state=0, verbose=0)\n",
    "# stat_significance_trainer_tester(SB_regr, SB_X_train, SB_y_train, SB_X_test, SB_y_test, SB_X_test, SB_y_test, source_name=\"SB\", target_name='SB', model_name='XG-SA')"
   ]
  },
  {
   "cell_type": "markdown",
   "metadata": {
    "id": "-S5xax9w1Uf4"
   },
   "source": [
    "# Missing Data Analysis"
   ]
  },
  {
   "cell_type": "markdown",
   "metadata": {
    "id": "eps5YHpcSmoX"
   },
   "source": [
    "Calculating Importance"
   ]
  },
  {
   "cell_type": "code",
   "execution_count": null,
   "metadata": {
    "colab": {
     "base_uri": "https://localhost:8080/",
     "height": 255
    },
    "id": "coAwKqng_N63",
    "outputId": "e34115f4-3ef9-4620-99b0-d610bc907115"
   },
   "outputs": [],
   "source": [
    "chi_regr = RandomForestRegressor(random_state= 0, max_depth=100, max_features=3, min_samples_leaf=3,min_samples_split=8, n_estimators=1000)\n",
    "chi_regr.fit(chi_X_train, chi_y_train)\n",
    "importances = chi_regr.feature_importances_\n",
    "std = np.std([tree.feature_importances_ for tree in chi_regr.estimators_], axis=0)\n",
    "\n",
    "forest_importances = pd.Series(importances, index=feature_names)\n",
    "\n",
    "fig, ax = plt.subplots()\n",
    "forest_importances.plot.bar(yerr=std, ax=ax)\n",
    "ax.set_title(\"Feature importances using MDI (timeline split)\")\n",
    "ax.set_ylabel(\"Mean decrease in impurity\")\n",
    "fig.tight_layout()"
   ]
  },
  {
   "cell_type": "markdown",
   "metadata": {
    "id": "-NLAWN5AE6O2"
   },
   "source": [
    "Iterative calculation of Importance"
   ]
  },
  {
   "cell_type": "code",
   "execution_count": null,
   "metadata": {
    "id": "Sgy7ImIkE80H"
   },
   "outputs": [],
   "source": [
    "to_delete = []\n",
    "\n",
    "for i in tqdm(range(len(feature_names))):\n",
    "  to_keep = [i for i in np.array([0,1,2,3,4,5,6,7,8,9]) if i not in np.array(to_delete)]\n",
    "  chi_regr = RandomForestRegressor(random_state= 0, max_depth=100, max_features=3, min_samples_leaf=3,min_samples_split=8, n_estimators=1000)\n",
    "  chi_regr.fit(chi_X_train[:, to_keep], chi_y_train)\n",
    "  most_important_index = np.argmax(chi_regr.feature_importances_)\n",
    "  to_delete.append(to_keep[most_important_index])\n",
    "\n",
    "important_names = [feature_names[i] for i in to_delete]\n",
    "imprtant_indecies = to_delete\n",
    "important_names, imprtant_indecies"
   ]
  },
  {
   "cell_type": "markdown",
   "metadata": {
    "id": "alO03exYFTbZ"
   },
   "source": [
    "Accuracy by dropping least important"
   ]
  },
  {
   "cell_type": "code",
   "execution_count": null,
   "metadata": {
    "id": "mCk4I8TqFBEN"
   },
   "outputs": [],
   "source": [
    "to_delete = []\n",
    "\n",
    "target_mean = []\n",
    "target_std = []\n",
    "source_mean = []\n",
    "source_std = []\n",
    "\n",
    "for i in tqdm(range(len(feature_names))):\n",
    "  to_keep = [i for i in np.array([0,1,2,3,4,5,6,7,8,9]) if i not in np.array(to_delete)]\n",
    "  chi_regr = RandomForestRegressor(random_state= 0, max_depth=100, max_features=3, min_samples_leaf=3,min_samples_split=8, n_estimators=1000)\n",
    "  source_res, target_res = stat_significance_trainer_tester(chi_regr,\n",
    "                                                            chi_X_train[:, to_keep], chi_y_train,\n",
    "                                                            chi_X_test[:, to_keep], chi_y_test,\n",
    "                                                            san_X_test[:, to_keep], san_y_test,\n",
    "                                                            'Chicago', 'San Diego', \"RF\", plotter = False, reporter =False)\n",
    "\n",
    "  target_mean.append(source_res[0])\n",
    "  target_std.append(source_res[1])\n",
    "  source_mean.append(target_res[0])\n",
    "  source_std.append(target_res[1])\n",
    "\n",
    "  most_important_index = np.argmin(chi_regr.feature_importances_)\n",
    "  to_delete.append(to_keep[most_important_index])\n",
    "\n",
    "plt.errorbar(list(range(len(target_mean), 0, -1)), target_mean, yerr=target_std)\n",
    "plt.title('Target')\n",
    "plt.xlabel('RRMSE')\n",
    "plt.ylabel('# of features removed')\n",
    "plt.show()\n",
    "plt.errorbar(list(range(len(source_mean), 0, -1)), source_mean, yerr=source_std)\n",
    "plt.title('Source')\n",
    "plt.xlabel('RRMSE')\n",
    "plt.ylabel('# of features removed')\n",
    "plt.show()"
   ]
  },
  {
   "cell_type": "markdown",
   "metadata": {
    "id": "K4Xm17qcSqPX"
   },
   "source": [
    "Dropping By Importance (To Do)"
   ]
  },
  {
   "cell_type": "code",
   "execution_count": null,
   "metadata": {
    "id": "EygZ3a76MwLd"
   },
   "outputs": [],
   "source": [
    "inc_target_mean = []\n",
    "inc_target_std = []\n",
    "inc_source_mean = []\n",
    "inc_source_std = []\n",
    "\n",
    "for i in tqdm(range(len(imprtant_indecies))):\n",
    "  to_keep = [j for j in np.array([0,1,2,3,4,5,6,7,8,9]) if j not in np.array(imprtant_indecies)[:i]]\n",
    "  chi_regr = RandomForestRegressor(random_state= 0, max_depth=100, max_features=3, min_samples_leaf=3,min_samples_split=8, n_estimators=1000)\n",
    "  source_res, target_res = stat_significance_trainer_tester(chi_regr,\n",
    "                                                            chi_X_train[:, to_keep], chi_y_train,\n",
    "                                                            chi_X_test[:, to_keep], chi_y_test,\n",
    "                                                            san_X_test[:, to_keep], san_y_test,\n",
    "                                                            'Chicago', 'San Diego', \"RF\", plotter = False, reporter =False)\n",
    "\n",
    "  inc_target_mean.append(source_res[0])\n",
    "  inc_target_std.append(source_res[1])\n",
    "  inc_source_mean.append(target_res[0])\n",
    "  inc_source_std.append(target_res[1])"
   ]
  },
  {
   "cell_type": "code",
   "execution_count": null,
   "metadata": {
    "id": "n3w7URjke05n"
   },
   "outputs": [],
   "source": [
    "dec_target_mean = []\n",
    "dec_target_std = []\n",
    "dec_source_mean = []\n",
    "dec_source_std = []\n",
    "\n",
    "for i in tqdm(range(len(imprtant_indecies))):\n",
    "  to_keep = [j for j in np.array([0,1,2,3,4,5,6,7,8,9]) if j not in np.array(imprtant_indecies)[len(imprtant_indecies)-i:]]\n",
    "  chi_regr = RandomForestRegressor(random_state= 0, max_depth=100, max_features=3, min_samples_leaf=3,min_samples_split=8, n_estimators=1000)\n",
    "  source_res, target_res = stat_significance_trainer_tester(chi_regr,\n",
    "                                                            chi_X_train[:, to_keep], chi_y_train,\n",
    "                                                            chi_X_test[:, to_keep], chi_y_test,\n",
    "                                                            san_X_test[:, to_keep], san_y_test,\n",
    "                                                            'Chicago', 'San Diego', \"RF\", plotter = False, reporter =False)\n",
    "\n",
    "  dec_target_mean.append(source_res[0])\n",
    "  dec_target_std.append(source_res[1])\n",
    "  dec_source_mean.append(target_res[0])\n",
    "  dec_source_std.append(target_res[1])"
   ]
  },
  {
   "cell_type": "markdown",
   "metadata": {
    "id": "CYMIUSC5SvDj"
   },
   "source": [
    "Dropping at Random"
   ]
  },
  {
   "cell_type": "code",
   "execution_count": null,
   "metadata": {
    "id": "E_UyfG3eHOdp"
   },
   "outputs": [],
   "source": [
    "def Droping_at_random(model, source_train, source_test, target_test, source_name, target_name, model_name, reps = 40):\n",
    "\n",
    "  source_results = []\n",
    "  target_results = []\n",
    "  source_results_std = []\n",
    "  target_results_std = []\n",
    "\n",
    "  for i in tqdm(range(source_train[0].shape[1])):\n",
    "    if i == 0:\n",
    "      repeation = 1\n",
    "    else:\n",
    "      repeation = reps\n",
    "    target_mean = []\n",
    "    target_std = []\n",
    "    source_mean = []\n",
    "    source_std = []\n",
    "    for j in range(repeation):\n",
    "      to_delete = np.random.choice(source_train[0].shape[1], i, replace=False)\n",
    "      to_keep = [i for i in np.array([0,1,2,3,4,5,6,7,8,9]) if i not in to_delete]\n",
    "\n",
    "      source_res, target_res = stat_significance_trainer_tester(model,\n",
    "                                                                source_train[0][:, to_keep], source_train[1],\n",
    "                                                                source_test[0][:, to_keep], source_test[1],\n",
    "                                                                target_test[0][:, to_keep], target_test[1],\n",
    "                                                                source_name, target_name, model_name, plotter = False, reporter =False)\n",
    "      target_mean.append(source_res[0])\n",
    "      target_std.append(source_res[1])\n",
    "      source_mean.append(target_res[0])\n",
    "      source_std.append(target_res[1])\n",
    "\n",
    "    source_results.append(np.mean(source_mean))\n",
    "    target_results.append(np.mean(target_mean))\n",
    "    source_results_std.append(np.mean(source_std))\n",
    "    target_results_std.append(np.mean(target_std))\n",
    "\n",
    "  return source_results, source_results_std, target_results, target_results_std"
   ]
  },
  {
   "cell_type": "code",
   "execution_count": null,
   "metadata": {
    "id": "p2klR3P--aBu"
   },
   "outputs": [],
   "source": [
    "chi_regr = RandomForestRegressor(random_state= 0, max_depth=100, max_features=3, min_samples_leaf=3,min_samples_split=8, n_estimators=1000)\n",
    "Droping_at_random(chi_regr, [chi_X_train, chi_y_train], [chi_X_test, chi_y_test], [san_X_test, san_y_test], source_name = \"Chicago\", target_name = 'San Diego', model_name = 'RF', reps = 1)\n"
   ]
  },
  {
   "cell_type": "markdown",
   "metadata": {
    "id": "4MP7JaaAi43K"
   },
   "source": [
    "Results"
   ]
  },
  {
   "cell_type": "code",
   "execution_count": null,
   "metadata": {
    "id": "MqHvnnFQi6oc"
   },
   "outputs": [],
   "source": [
    "rand_source_mean = [0.561, 0.561, 0.559, 0.551, 0.56, 0.562, 0.549, 0.555, 0.541, 0.556]\n",
    "rand_source_std = [0.0011,0.0012,0.001,0.0018,0.0017,0.0021,0.0015,0.0006,0.0017,0.0011]\n",
    "rand_target_mean = [0.325, 0.324, 0.324, 0.325, 0.325, 0.325, 0.327, 0.329, 0.331, 0.342]\n",
    "rand_target_std = [0.0027,0.0027,0.0028,0.0027,0.0031,0.0023,0.0027,0.0035,0.003,0.0014]"
   ]
  },
  {
   "cell_type": "code",
   "execution_count": null,
   "metadata": {
    "id": "CwmMFh3hfztB"
   },
   "outputs": [],
   "source": [
    "plt.plot(list(range(len(inc_target_mean), 0, -1)), inc_target_mean, label='Deletion of Most Important Features')#, yerr=inc_target_std\n",
    "# plt.plot(list(range(len(rand_target_mean), 0, -1)), rand_target_mean, label='Deletion at Random')#, yerr=inc_target_std\n",
    "plt.plot(list(range(len(dec_target_mean), 0, -1)), dec_target_mean, label='Deletion of Least Important Features')#, yerr=dec_target_std\n",
    "plt.title('Source')\n",
    "plt.xlabel('RRMSE')\n",
    "plt.ylabel('# of features removed')\n",
    "plt.legend()\n",
    "plt.show()\n",
    "plt.plot(list(range(len(inc_source_mean), 0, -1)), inc_source_mean, label='Deletion of Most Important Features')#, yerr=inc_source_std\n",
    "# plt.plot(list(range(len(rand_source_mean), 0, -1)), rand_source_mean, label='Deletion at Random')#, yerr=inc_source_std\n",
    "plt.plot(list(range(len(dec_source_mean), 0, -1)), dec_source_mean, label='Deletion of Least Important Features')#, yerr=dec_source_std\n",
    "plt.title('Target')\n",
    "plt.xlabel('RRMSE')\n",
    "plt.ylabel('# of features removed')\n",
    "plt.legend()\n",
    "plt.show()"
   ]
  },
  {
   "cell_type": "code",
   "execution_count": null,
   "metadata": {
    "id": "XYPELHt3l938"
   },
   "outputs": [],
   "source": [
    "chi_regr = RandomForestRegressor(random_state= 0, max_depth=100, max_features=3, min_samples_leaf=3,min_samples_split=8, n_estimators=1000)\n",
    "Droping_at_random(chi_regr, [chi_X_train, chi_y_train], [chi_X_test, chi_y_test], [san_X_test, san_y_test], source_name = \"Chicago\", target_name = 'San Diego', model_name = 'RF', reps = 40)"
   ]
  },
  {
   "cell_type": "markdown",
   "metadata": {
    "id": "_jTRtDND-6w1"
   },
   "source": [
    "# Make Serialized Data"
   ]
  },
  {
   "cell_type": "code",
   "execution_count": null,
   "metadata": {},
   "outputs": [],
   "source": [
    "# feat_def = ['Tide: ', 'Is tide value more than the mean tide? ', 'Change in tide in the last hour: ', \n",
    "#             'Change in tide in the last 2 hours: ',\n",
    "#             'Rain in the last 6 hours in inches: ', 'Rain in the last 24 hours in inches: ',\n",
    "#             'Log10 of cummulative rain in the last 3 days in inches: ', 'Did we have high rain fall the past 3 days? ',\n",
    "#             'Log10 of cummulative rain in the last 3 days in inches: ', 'Did we have high rain fall the past 7 days? ',\n",
    "#             'Wave Height (meters): ', 'Water Temperature (degree Celcius): ', 'Solar radiance (watts/meter squared): ',\n",
    "#             'Alongshire wind speed (meters/second): ', 'offshore wind speed (meters/second): ' 'Turbidity: ', \n",
    "#             '', '', 'Day count of year: ']#, 'Beach location: ']\n",
    "\n",
    "# instructions = 'We want to predict the log10 of bacteria concentration level in the beaches. \\\n",
    "# you will receive environmental information and you should answer with a precise float number between -0.200 and 5.000'\n",
    "# def make_serial(train_data, target_data, feat_names = feat_def, bin_feats = [1,7,9,12], cat_feats = []):\n",
    "#     serialized_dataset = []\n",
    "#     for features, target in zip(train_data, target_data):\n",
    "#         inputs = ''\n",
    "#         outputs = r55(target[0])\n",
    "#         for i in range(len(feat_names)):\n",
    "#             definition = feat_def[i]\n",
    "#             if definition == '':\n",
    "#                 continue\n",
    "#             if not pd.isnull(features[i]):\n",
    "#                 inputs += definition\n",
    "#                 if i in bin_feats:\n",
    "#                     inputs += 'Yes. ' if features[i] == 1.0 else 'No. '\n",
    "#                 elif i in cat_feats:\n",
    "#                     inputs += features[i]\n",
    "#                 else:\n",
    "#                     inputs += str(r55(features[i])) + '. '\n",
    "#         serialized_dataset.append({'instruction': instructions, 'input': inputs, 'output': outputs})\n",
    "#     return serialized_dataset\n",
    "\n",
    "# def lad(dataset, location):\n",
    "#     return np.array([list(sub_array) + [location] for sub_array in dataset], dtype=object)\n",
    "\n",
    "# serialized_SB_train = make_serial(SB_X_train, SB_y_train)\n",
    "# serialized_SB_test = make_serial(SB_X_test, SB_y_test)\n",
    "# serialized_NB_train = make_serial(NB_X_train , NB_y_train)\n",
    "# serialized_NB_test = make_serial(NB_X_test , NB_y_test)\n",
    "# serialized_CB_train = make_serial(CB_X_train , CB_y_train)\n",
    "# serialized_CB_test = make_serial(CB_X_test , CB_y_test)\n",
    "\n",
    "# with open('./serialized_SB_train.pkl', 'wb') as file: \n",
    "#     pickle.dump(serialized_SB_train, file) \n",
    "# with open('./serialized_SB_test.pkl', 'wb') as file: \n",
    "#     pickle.dump(serialized_SB_test, file) \n",
    "# with open('./serialized_NB_train.pkl', 'wb') as file: \n",
    "#     pickle.dump(serialized_NB_train, file) \n",
    "# with open('./serialized_NB_test.pkl', 'wb') as file: \n",
    "#     pickle.dump(serialized_NB_test, file) \n",
    "# with open('./serialized_CB_train.pkl', 'wb') as file: \n",
    "#     pickle.dump(serialized_CB_train, file) \n",
    "# with open('./serialized_CB_test.pkl', 'wb') as file: \n",
    "#     pickle.dump(serialized_CB_test, file) \n",
    "    "
   ]
  },
  {
   "cell_type": "code",
   "execution_count": null,
   "metadata": {},
   "outputs": [],
   "source": []
  }
 ],
 "metadata": {
  "colab": {
   "collapsed_sections": [
    "H2wJGe7VjkER",
    "-MEzoyo8ksXO",
    "lFK7vKSW3Epp",
    "FCk7DjmaYLE_",
    "XMlK_wzzYNal",
    "FgsMBzZyaER1",
    "sh5fHm1waHDZ",
    "O4Z9bbPj4AEe",
    "2K-d6MU94Imj",
    "rdC5eCH35wWN",
    "-S5xax9w1Uf4"
   ],
   "provenance": []
  },
  "kernelspec": {
   "display_name": "Python 3 (ipykernel)",
   "language": "python",
   "name": "python3"
  },
  "language_info": {
   "codemirror_mode": {
    "name": "ipython",
    "version": 3
   },
   "file_extension": ".py",
   "mimetype": "text/x-python",
   "name": "python",
   "nbconvert_exporter": "python",
   "pygments_lexer": "ipython3",
   "version": "3.11.4"
  }
 },
 "nbformat": 4,
 "nbformat_minor": 1
}
